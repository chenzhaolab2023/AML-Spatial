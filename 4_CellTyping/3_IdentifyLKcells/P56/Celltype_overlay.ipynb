{
 "cells": [
  {
   "cell_type": "markdown",
   "id": "2f856b10",
   "metadata": {},
   "source": [
    "# Visualize suspected leukemia cells"
   ]
  },
  {
   "cell_type": "markdown",
   "id": "bee5b087",
   "metadata": {},
   "source": [
    "#### This notebook labels each cell within this patient's images by it's Phenograph cluster number generated in Phenograph-CD45_features.ipynb. Suspected Lk cells are outlined in red to visually confirm."
   ]
  },
  {
   "cell_type": "code",
   "execution_count": 1,
   "id": "d3dd6ee6",
   "metadata": {},
   "outputs": [],
   "source": [
    "import matplotlib.pyplot as plt\n",
    "import numpy as np\n",
    "import pandas as pd\n",
    "import tifffile\n",
    "import cv2\n",
    "from PIL import Image\n",
    "from PIL import ImageDraw\n",
    "from skimage import data, color, io, img_as_float\n",
    "from os import listdir\n",
    "from os.path import isfile, join\n",
    "import skimage.io\n",
    "import skimage.util\n",
    "from skimage import data, segmentation, util, measure\n",
    "from skimage.segmentation import expand_labels"
   ]
  },
  {
   "cell_type": "code",
   "execution_count": 2,
   "id": "bf93e03b",
   "metadata": {},
   "outputs": [],
   "source": [
    "# create dictionary of directories for each patient\n",
    "img_dirs = {'P51':'/data/Zhaolab/1_AMLCosMx/Final_scripts/1_Normalization/0_NormalizedImg/P51_R1158_S1_Normalized_DAPI_B2M_CD34/', \n",
    "            'P52':'/data/Zhaolab/1_AMLCosMx/Final_scripts/1_Normalization/0_NormalizedImg/P52_R1149_S1_Normalized_DAPI_B2M_CD34/', \n",
    "            'P53':'/data/Zhaolab/1_AMLCosMx/Final_scripts/1_Normalization/0_NormalizedImg/P53_R1149_S2_Normalized_DAPI_B2M_CD34/', \n",
    "            'P56':'/data/Zhaolab/1_AMLCosMx/Final_scripts/1_Normalization/0_NormalizedImg/P56_R1158_S2_Normalized_DAPI_B2M_CD34/', \n",
    "            'P57':'/data/Zhaolab/1_AMLCosMx/Final_scripts/1_Normalization/0_NormalizedImg/P57_R1158_S3_Normalized_DAPI_B2M_CD34/', \n",
    "            'P58':'/data/Zhaolab/1_AMLCosMx/Final_scripts/1_Normalization/0_NormalizedImg/P58_R1149_S3_Normalized_DAPI_B2M_CD34/'}"
   ]
  },
  {
   "cell_type": "code",
   "execution_count": 3,
   "id": "7eaf9a0a",
   "metadata": {},
   "outputs": [],
   "source": [
    "patient = 'P56'"
   ]
  },
  {
   "cell_type": "code",
   "execution_count": 4,
   "id": "80629ffb",
   "metadata": {},
   "outputs": [],
   "source": [
    "# create dictionary of directories for each patient\n",
    "mask_dir = '/data/Zhaolab/1_AMLCosMx/Final_scripts/2_Segmentation/3_NucMemMerging/' + patient + '_hybrid/labels_predicted_2_15_24/'"
   ]
  },
  {
   "cell_type": "code",
   "execution_count": 5,
   "id": "a2411e58",
   "metadata": {},
   "outputs": [
    {
     "data": {
      "text/html": [
       "<div>\n",
       "<style scoped>\n",
       "    .dataframe tbody tr th:only-of-type {\n",
       "        vertical-align: middle;\n",
       "    }\n",
       "\n",
       "    .dataframe tbody tr th {\n",
       "        vertical-align: top;\n",
       "    }\n",
       "\n",
       "    .dataframe thead th {\n",
       "        text-align: right;\n",
       "    }\n",
       "</style>\n",
       "<table border=\"1\" class=\"dataframe\">\n",
       "  <thead>\n",
       "    <tr style=\"text-align: right;\">\n",
       "      <th></th>\n",
       "      <th>Unnamed: 0</th>\n",
       "      <th>FOV</th>\n",
       "      <th>cell_ID</th>\n",
       "      <th>Timepoint</th>\n",
       "      <th>Size (pixels)</th>\n",
       "      <th>CD34_median</th>\n",
       "      <th>PhenoGraph_clusters_round_1</th>\n",
       "      <th>PhenoGraph_clusters</th>\n",
       "    </tr>\n",
       "  </thead>\n",
       "  <tbody>\n",
       "    <tr>\n",
       "      <th>0</th>\n",
       "      <td>P56_FOV01_cell_2</td>\n",
       "      <td>1</td>\n",
       "      <td>2</td>\n",
       "      <td>A</td>\n",
       "      <td>2089.0</td>\n",
       "      <td>9282.555556</td>\n",
       "      <td>1</td>\n",
       "      <td>0</td>\n",
       "    </tr>\n",
       "    <tr>\n",
       "      <th>1</th>\n",
       "      <td>P56_FOV01_cell_8</td>\n",
       "      <td>1</td>\n",
       "      <td>8</td>\n",
       "      <td>A</td>\n",
       "      <td>994.0</td>\n",
       "      <td>1011.666667</td>\n",
       "      <td>0</td>\n",
       "      <td>9</td>\n",
       "    </tr>\n",
       "    <tr>\n",
       "      <th>2</th>\n",
       "      <td>P56_FOV01_cell_22</td>\n",
       "      <td>1</td>\n",
       "      <td>22</td>\n",
       "      <td>A</td>\n",
       "      <td>1648.0</td>\n",
       "      <td>879.222222</td>\n",
       "      <td>0</td>\n",
       "      <td>9</td>\n",
       "    </tr>\n",
       "    <tr>\n",
       "      <th>3</th>\n",
       "      <td>P56_FOV01_cell_118</td>\n",
       "      <td>1</td>\n",
       "      <td>118</td>\n",
       "      <td>A</td>\n",
       "      <td>4697.0</td>\n",
       "      <td>1127.888889</td>\n",
       "      <td>1</td>\n",
       "      <td>1</td>\n",
       "    </tr>\n",
       "    <tr>\n",
       "      <th>4</th>\n",
       "      <td>P56_FOV01_cell_190</td>\n",
       "      <td>1</td>\n",
       "      <td>190</td>\n",
       "      <td>A</td>\n",
       "      <td>3434.0</td>\n",
       "      <td>3783.888889</td>\n",
       "      <td>1</td>\n",
       "      <td>0</td>\n",
       "    </tr>\n",
       "    <tr>\n",
       "      <th>...</th>\n",
       "      <td>...</td>\n",
       "      <td>...</td>\n",
       "      <td>...</td>\n",
       "      <td>...</td>\n",
       "      <td>...</td>\n",
       "      <td>...</td>\n",
       "      <td>...</td>\n",
       "      <td>...</td>\n",
       "    </tr>\n",
       "    <tr>\n",
       "      <th>10093</th>\n",
       "      <td>P56_FOV25_cell_5460</td>\n",
       "      <td>25</td>\n",
       "      <td>5460</td>\n",
       "      <td>C</td>\n",
       "      <td>770.0</td>\n",
       "      <td>2600.833333</td>\n",
       "      <td>0</td>\n",
       "      <td>7</td>\n",
       "    </tr>\n",
       "    <tr>\n",
       "      <th>10094</th>\n",
       "      <td>P56_FOV25_cell_5478</td>\n",
       "      <td>25</td>\n",
       "      <td>5478</td>\n",
       "      <td>C</td>\n",
       "      <td>904.0</td>\n",
       "      <td>3017.833333</td>\n",
       "      <td>0</td>\n",
       "      <td>15</td>\n",
       "    </tr>\n",
       "    <tr>\n",
       "      <th>10095</th>\n",
       "      <td>P56_FOV25_cell_5483</td>\n",
       "      <td>25</td>\n",
       "      <td>5483</td>\n",
       "      <td>C</td>\n",
       "      <td>624.0</td>\n",
       "      <td>3044.888889</td>\n",
       "      <td>0</td>\n",
       "      <td>7</td>\n",
       "    </tr>\n",
       "    <tr>\n",
       "      <th>10096</th>\n",
       "      <td>P56_FOV25_cell_5486</td>\n",
       "      <td>25</td>\n",
       "      <td>5486</td>\n",
       "      <td>C</td>\n",
       "      <td>810.0</td>\n",
       "      <td>2093.277778</td>\n",
       "      <td>0</td>\n",
       "      <td>10</td>\n",
       "    </tr>\n",
       "    <tr>\n",
       "      <th>10097</th>\n",
       "      <td>P56_FOV25_cell_5487</td>\n",
       "      <td>25</td>\n",
       "      <td>5487</td>\n",
       "      <td>C</td>\n",
       "      <td>481.0</td>\n",
       "      <td>2718.111111</td>\n",
       "      <td>0</td>\n",
       "      <td>14</td>\n",
       "    </tr>\n",
       "  </tbody>\n",
       "</table>\n",
       "<p>10098 rows × 8 columns</p>\n",
       "</div>"
      ],
      "text/plain": [
       "                Unnamed: 0  FOV  cell_ID Timepoint  Size (pixels)  \\\n",
       "0         P56_FOV01_cell_2    1        2         A         2089.0   \n",
       "1         P56_FOV01_cell_8    1        8         A          994.0   \n",
       "2        P56_FOV01_cell_22    1       22         A         1648.0   \n",
       "3       P56_FOV01_cell_118    1      118         A         4697.0   \n",
       "4       P56_FOV01_cell_190    1      190         A         3434.0   \n",
       "...                    ...  ...      ...       ...            ...   \n",
       "10093  P56_FOV25_cell_5460   25     5460         C          770.0   \n",
       "10094  P56_FOV25_cell_5478   25     5478         C          904.0   \n",
       "10095  P56_FOV25_cell_5483   25     5483         C          624.0   \n",
       "10096  P56_FOV25_cell_5486   25     5486         C          810.0   \n",
       "10097  P56_FOV25_cell_5487   25     5487         C          481.0   \n",
       "\n",
       "       CD34_median  PhenoGraph_clusters_round_1  PhenoGraph_clusters  \n",
       "0      9282.555556                            1                    0  \n",
       "1      1011.666667                            0                    9  \n",
       "2       879.222222                            0                    9  \n",
       "3      1127.888889                            1                    1  \n",
       "4      3783.888889                            1                    0  \n",
       "...            ...                          ...                  ...  \n",
       "10093  2600.833333                            0                    7  \n",
       "10094  3017.833333                            0                   15  \n",
       "10095  3044.888889                            0                    7  \n",
       "10096  2093.277778                            0                   10  \n",
       "10097  2718.111111                            0                   14  \n",
       "\n",
       "[10098 rows x 8 columns]"
      ]
     },
     "execution_count": 5,
     "metadata": {},
     "output_type": "execute_result"
    }
   ],
   "source": [
    "# load in celltype predictions for all cells\n",
    "morph_predicted = pd.read_csv(patient + '_CD34_subclusters.csv')\n",
    "morph_predicted"
   ]
  },
  {
   "cell_type": "code",
   "execution_count": 6,
   "id": "77b19ea9",
   "metadata": {},
   "outputs": [
    {
     "data": {
      "text/html": [
       "<div>\n",
       "<style scoped>\n",
       "    .dataframe tbody tr th:only-of-type {\n",
       "        vertical-align: middle;\n",
       "    }\n",
       "\n",
       "    .dataframe tbody tr th {\n",
       "        vertical-align: top;\n",
       "    }\n",
       "\n",
       "    .dataframe thead th {\n",
       "        text-align: right;\n",
       "    }\n",
       "</style>\n",
       "<table border=\"1\" class=\"dataframe\">\n",
       "  <thead>\n",
       "    <tr style=\"text-align: right;\">\n",
       "      <th></th>\n",
       "      <th>FOV</th>\n",
       "      <th>cell_ID</th>\n",
       "      <th>Timepoint</th>\n",
       "      <th>Size (pixels)</th>\n",
       "      <th>CD34_median</th>\n",
       "      <th>PhenoGraph_clusters_round_1</th>\n",
       "      <th>PhenoGraph_clusters</th>\n",
       "    </tr>\n",
       "  </thead>\n",
       "  <tbody>\n",
       "    <tr>\n",
       "      <th>0</th>\n",
       "      <td>1</td>\n",
       "      <td>2</td>\n",
       "      <td>A</td>\n",
       "      <td>2089.0</td>\n",
       "      <td>9282.555556</td>\n",
       "      <td>1</td>\n",
       "      <td>0</td>\n",
       "    </tr>\n",
       "    <tr>\n",
       "      <th>1</th>\n",
       "      <td>1</td>\n",
       "      <td>8</td>\n",
       "      <td>A</td>\n",
       "      <td>994.0</td>\n",
       "      <td>1011.666667</td>\n",
       "      <td>0</td>\n",
       "      <td>9</td>\n",
       "    </tr>\n",
       "    <tr>\n",
       "      <th>2</th>\n",
       "      <td>1</td>\n",
       "      <td>22</td>\n",
       "      <td>A</td>\n",
       "      <td>1648.0</td>\n",
       "      <td>879.222222</td>\n",
       "      <td>0</td>\n",
       "      <td>9</td>\n",
       "    </tr>\n",
       "    <tr>\n",
       "      <th>3</th>\n",
       "      <td>1</td>\n",
       "      <td>118</td>\n",
       "      <td>A</td>\n",
       "      <td>4697.0</td>\n",
       "      <td>1127.888889</td>\n",
       "      <td>1</td>\n",
       "      <td>1</td>\n",
       "    </tr>\n",
       "    <tr>\n",
       "      <th>4</th>\n",
       "      <td>1</td>\n",
       "      <td>190</td>\n",
       "      <td>A</td>\n",
       "      <td>3434.0</td>\n",
       "      <td>3783.888889</td>\n",
       "      <td>1</td>\n",
       "      <td>0</td>\n",
       "    </tr>\n",
       "    <tr>\n",
       "      <th>...</th>\n",
       "      <td>...</td>\n",
       "      <td>...</td>\n",
       "      <td>...</td>\n",
       "      <td>...</td>\n",
       "      <td>...</td>\n",
       "      <td>...</td>\n",
       "      <td>...</td>\n",
       "    </tr>\n",
       "    <tr>\n",
       "      <th>10093</th>\n",
       "      <td>25</td>\n",
       "      <td>5460</td>\n",
       "      <td>C</td>\n",
       "      <td>770.0</td>\n",
       "      <td>2600.833333</td>\n",
       "      <td>0</td>\n",
       "      <td>7</td>\n",
       "    </tr>\n",
       "    <tr>\n",
       "      <th>10094</th>\n",
       "      <td>25</td>\n",
       "      <td>5478</td>\n",
       "      <td>C</td>\n",
       "      <td>904.0</td>\n",
       "      <td>3017.833333</td>\n",
       "      <td>0</td>\n",
       "      <td>15</td>\n",
       "    </tr>\n",
       "    <tr>\n",
       "      <th>10095</th>\n",
       "      <td>25</td>\n",
       "      <td>5483</td>\n",
       "      <td>C</td>\n",
       "      <td>624.0</td>\n",
       "      <td>3044.888889</td>\n",
       "      <td>0</td>\n",
       "      <td>7</td>\n",
       "    </tr>\n",
       "    <tr>\n",
       "      <th>10096</th>\n",
       "      <td>25</td>\n",
       "      <td>5486</td>\n",
       "      <td>C</td>\n",
       "      <td>810.0</td>\n",
       "      <td>2093.277778</td>\n",
       "      <td>0</td>\n",
       "      <td>10</td>\n",
       "    </tr>\n",
       "    <tr>\n",
       "      <th>10097</th>\n",
       "      <td>25</td>\n",
       "      <td>5487</td>\n",
       "      <td>C</td>\n",
       "      <td>481.0</td>\n",
       "      <td>2718.111111</td>\n",
       "      <td>0</td>\n",
       "      <td>14</td>\n",
       "    </tr>\n",
       "  </tbody>\n",
       "</table>\n",
       "<p>10098 rows × 7 columns</p>\n",
       "</div>"
      ],
      "text/plain": [
       "       FOV  cell_ID Timepoint  Size (pixels)  CD34_median  \\\n",
       "0        1        2         A         2089.0  9282.555556   \n",
       "1        1        8         A          994.0  1011.666667   \n",
       "2        1       22         A         1648.0   879.222222   \n",
       "3        1      118         A         4697.0  1127.888889   \n",
       "4        1      190         A         3434.0  3783.888889   \n",
       "...    ...      ...       ...            ...          ...   \n",
       "10093   25     5460         C          770.0  2600.833333   \n",
       "10094   25     5478         C          904.0  3017.833333   \n",
       "10095   25     5483         C          624.0  3044.888889   \n",
       "10096   25     5486         C          810.0  2093.277778   \n",
       "10097   25     5487         C          481.0  2718.111111   \n",
       "\n",
       "       PhenoGraph_clusters_round_1  PhenoGraph_clusters  \n",
       "0                                1                    0  \n",
       "1                                0                    9  \n",
       "2                                0                    9  \n",
       "3                                1                    1  \n",
       "4                                1                    0  \n",
       "...                            ...                  ...  \n",
       "10093                            0                    7  \n",
       "10094                            0                   15  \n",
       "10095                            0                    7  \n",
       "10096                            0                   10  \n",
       "10097                            0                   14  \n",
       "\n",
       "[10098 rows x 7 columns]"
      ]
     },
     "execution_count": 6,
     "metadata": {},
     "output_type": "execute_result"
    }
   ],
   "source": [
    "morph_predicted = morph_predicted.drop(columns=[\"Unnamed: 0\"])\n",
    "morph_predicted"
   ]
  },
  {
   "cell_type": "code",
   "execution_count": 7,
   "id": "722bac83",
   "metadata": {},
   "outputs": [
    {
     "name": "stderr",
     "output_type": "stream",
     "text": [
      "/tmp/ipykernel_1647633/3630664858.py:3: SettingWithCopyWarning: \n",
      "A value is trying to be set on a copy of a slice from a DataFrame\n",
      "\n",
      "See the caveats in the documentation: https://pandas.pydata.org/pandas-docs/stable/user_guide/indexing.html#returning-a-view-versus-a-copy\n",
      "  morph_predicted['Lk_cell'][morph_predicted['PhenoGraph_clusters'].isin([0,1,3,4,5,7,17])] = 1\n"
     ]
    },
    {
     "data": {
      "text/html": [
       "<div>\n",
       "<style scoped>\n",
       "    .dataframe tbody tr th:only-of-type {\n",
       "        vertical-align: middle;\n",
       "    }\n",
       "\n",
       "    .dataframe tbody tr th {\n",
       "        vertical-align: top;\n",
       "    }\n",
       "\n",
       "    .dataframe thead th {\n",
       "        text-align: right;\n",
       "    }\n",
       "</style>\n",
       "<table border=\"1\" class=\"dataframe\">\n",
       "  <thead>\n",
       "    <tr style=\"text-align: right;\">\n",
       "      <th></th>\n",
       "      <th>FOV</th>\n",
       "      <th>cell_ID</th>\n",
       "      <th>Timepoint</th>\n",
       "      <th>Size (pixels)</th>\n",
       "      <th>CD34_median</th>\n",
       "      <th>PhenoGraph_clusters_round_1</th>\n",
       "      <th>PhenoGraph_clusters</th>\n",
       "      <th>Lk_cell</th>\n",
       "    </tr>\n",
       "  </thead>\n",
       "  <tbody>\n",
       "    <tr>\n",
       "      <th>0</th>\n",
       "      <td>1</td>\n",
       "      <td>2</td>\n",
       "      <td>A</td>\n",
       "      <td>2089.0</td>\n",
       "      <td>9282.555556</td>\n",
       "      <td>1</td>\n",
       "      <td>0</td>\n",
       "      <td>1</td>\n",
       "    </tr>\n",
       "    <tr>\n",
       "      <th>1</th>\n",
       "      <td>1</td>\n",
       "      <td>8</td>\n",
       "      <td>A</td>\n",
       "      <td>994.0</td>\n",
       "      <td>1011.666667</td>\n",
       "      <td>0</td>\n",
       "      <td>9</td>\n",
       "      <td>0</td>\n",
       "    </tr>\n",
       "    <tr>\n",
       "      <th>2</th>\n",
       "      <td>1</td>\n",
       "      <td>22</td>\n",
       "      <td>A</td>\n",
       "      <td>1648.0</td>\n",
       "      <td>879.222222</td>\n",
       "      <td>0</td>\n",
       "      <td>9</td>\n",
       "      <td>0</td>\n",
       "    </tr>\n",
       "    <tr>\n",
       "      <th>3</th>\n",
       "      <td>1</td>\n",
       "      <td>118</td>\n",
       "      <td>A</td>\n",
       "      <td>4697.0</td>\n",
       "      <td>1127.888889</td>\n",
       "      <td>1</td>\n",
       "      <td>1</td>\n",
       "      <td>1</td>\n",
       "    </tr>\n",
       "    <tr>\n",
       "      <th>4</th>\n",
       "      <td>1</td>\n",
       "      <td>190</td>\n",
       "      <td>A</td>\n",
       "      <td>3434.0</td>\n",
       "      <td>3783.888889</td>\n",
       "      <td>1</td>\n",
       "      <td>0</td>\n",
       "      <td>1</td>\n",
       "    </tr>\n",
       "    <tr>\n",
       "      <th>...</th>\n",
       "      <td>...</td>\n",
       "      <td>...</td>\n",
       "      <td>...</td>\n",
       "      <td>...</td>\n",
       "      <td>...</td>\n",
       "      <td>...</td>\n",
       "      <td>...</td>\n",
       "      <td>...</td>\n",
       "    </tr>\n",
       "    <tr>\n",
       "      <th>10093</th>\n",
       "      <td>25</td>\n",
       "      <td>5460</td>\n",
       "      <td>C</td>\n",
       "      <td>770.0</td>\n",
       "      <td>2600.833333</td>\n",
       "      <td>0</td>\n",
       "      <td>7</td>\n",
       "      <td>1</td>\n",
       "    </tr>\n",
       "    <tr>\n",
       "      <th>10094</th>\n",
       "      <td>25</td>\n",
       "      <td>5478</td>\n",
       "      <td>C</td>\n",
       "      <td>904.0</td>\n",
       "      <td>3017.833333</td>\n",
       "      <td>0</td>\n",
       "      <td>15</td>\n",
       "      <td>0</td>\n",
       "    </tr>\n",
       "    <tr>\n",
       "      <th>10095</th>\n",
       "      <td>25</td>\n",
       "      <td>5483</td>\n",
       "      <td>C</td>\n",
       "      <td>624.0</td>\n",
       "      <td>3044.888889</td>\n",
       "      <td>0</td>\n",
       "      <td>7</td>\n",
       "      <td>1</td>\n",
       "    </tr>\n",
       "    <tr>\n",
       "      <th>10096</th>\n",
       "      <td>25</td>\n",
       "      <td>5486</td>\n",
       "      <td>C</td>\n",
       "      <td>810.0</td>\n",
       "      <td>2093.277778</td>\n",
       "      <td>0</td>\n",
       "      <td>10</td>\n",
       "      <td>0</td>\n",
       "    </tr>\n",
       "    <tr>\n",
       "      <th>10097</th>\n",
       "      <td>25</td>\n",
       "      <td>5487</td>\n",
       "      <td>C</td>\n",
       "      <td>481.0</td>\n",
       "      <td>2718.111111</td>\n",
       "      <td>0</td>\n",
       "      <td>14</td>\n",
       "      <td>0</td>\n",
       "    </tr>\n",
       "  </tbody>\n",
       "</table>\n",
       "<p>10098 rows × 8 columns</p>\n",
       "</div>"
      ],
      "text/plain": [
       "       FOV  cell_ID Timepoint  Size (pixels)  CD34_median  \\\n",
       "0        1        2         A         2089.0  9282.555556   \n",
       "1        1        8         A          994.0  1011.666667   \n",
       "2        1       22         A         1648.0   879.222222   \n",
       "3        1      118         A         4697.0  1127.888889   \n",
       "4        1      190         A         3434.0  3783.888889   \n",
       "...    ...      ...       ...            ...          ...   \n",
       "10093   25     5460         C          770.0  2600.833333   \n",
       "10094   25     5478         C          904.0  3017.833333   \n",
       "10095   25     5483         C          624.0  3044.888889   \n",
       "10096   25     5486         C          810.0  2093.277778   \n",
       "10097   25     5487         C          481.0  2718.111111   \n",
       "\n",
       "       PhenoGraph_clusters_round_1  PhenoGraph_clusters  Lk_cell  \n",
       "0                                1                    0        1  \n",
       "1                                0                    9        0  \n",
       "2                                0                    9        0  \n",
       "3                                1                    1        1  \n",
       "4                                1                    0        1  \n",
       "...                            ...                  ...      ...  \n",
       "10093                            0                    7        1  \n",
       "10094                            0                   15        0  \n",
       "10095                            0                    7        1  \n",
       "10096                            0                   10        0  \n",
       "10097                            0                   14        0  \n",
       "\n",
       "[10098 rows x 8 columns]"
      ]
     },
     "execution_count": 7,
     "metadata": {},
     "output_type": "execute_result"
    }
   ],
   "source": [
    "# add col to indicate if cell is predicted CD34+ lk cell\n",
    "morph_predicted['Lk_cell'] = 0\n",
    "morph_predicted['Lk_cell'][morph_predicted['PhenoGraph_clusters'].isin([0,1,3,4,5,7,17])] = 1\n",
    "morph_predicted"
   ]
  },
  {
   "cell_type": "code",
   "execution_count": 8,
   "id": "4fd3ba89",
   "metadata": {},
   "outputs": [
    {
     "data": {
      "text/html": [
       "<div>\n",
       "<style scoped>\n",
       "    .dataframe tbody tr th:only-of-type {\n",
       "        vertical-align: middle;\n",
       "    }\n",
       "\n",
       "    .dataframe tbody tr th {\n",
       "        vertical-align: top;\n",
       "    }\n",
       "\n",
       "    .dataframe thead th {\n",
       "        text-align: right;\n",
       "    }\n",
       "</style>\n",
       "<table border=\"1\" class=\"dataframe\">\n",
       "  <thead>\n",
       "    <tr style=\"text-align: right;\">\n",
       "      <th></th>\n",
       "      <th>FOV</th>\n",
       "      <th>cell_ID</th>\n",
       "      <th>Timepoint</th>\n",
       "      <th>Size (pixels)</th>\n",
       "      <th>CD34_median</th>\n",
       "      <th>PhenoGraph_clusters_round_1</th>\n",
       "      <th>PhenoGraph_clusters</th>\n",
       "      <th>Lk_cell</th>\n",
       "    </tr>\n",
       "  </thead>\n",
       "  <tbody>\n",
       "    <tr>\n",
       "      <th>0</th>\n",
       "      <td>1</td>\n",
       "      <td>2</td>\n",
       "      <td>A</td>\n",
       "      <td>2089.0</td>\n",
       "      <td>9282.555556</td>\n",
       "      <td>1</td>\n",
       "      <td>0</td>\n",
       "      <td>1</td>\n",
       "    </tr>\n",
       "    <tr>\n",
       "      <th>3</th>\n",
       "      <td>1</td>\n",
       "      <td>118</td>\n",
       "      <td>A</td>\n",
       "      <td>4697.0</td>\n",
       "      <td>1127.888889</td>\n",
       "      <td>1</td>\n",
       "      <td>1</td>\n",
       "      <td>1</td>\n",
       "    </tr>\n",
       "    <tr>\n",
       "      <th>4</th>\n",
       "      <td>1</td>\n",
       "      <td>190</td>\n",
       "      <td>A</td>\n",
       "      <td>3434.0</td>\n",
       "      <td>3783.888889</td>\n",
       "      <td>1</td>\n",
       "      <td>0</td>\n",
       "      <td>1</td>\n",
       "    </tr>\n",
       "    <tr>\n",
       "      <th>6</th>\n",
       "      <td>1</td>\n",
       "      <td>216</td>\n",
       "      <td>A</td>\n",
       "      <td>2165.0</td>\n",
       "      <td>1658.111111</td>\n",
       "      <td>1</td>\n",
       "      <td>0</td>\n",
       "      <td>1</td>\n",
       "    </tr>\n",
       "    <tr>\n",
       "      <th>10</th>\n",
       "      <td>1</td>\n",
       "      <td>246</td>\n",
       "      <td>A</td>\n",
       "      <td>3947.0</td>\n",
       "      <td>2541.666667</td>\n",
       "      <td>1</td>\n",
       "      <td>0</td>\n",
       "      <td>1</td>\n",
       "    </tr>\n",
       "    <tr>\n",
       "      <th>...</th>\n",
       "      <td>...</td>\n",
       "      <td>...</td>\n",
       "      <td>...</td>\n",
       "      <td>...</td>\n",
       "      <td>...</td>\n",
       "      <td>...</td>\n",
       "      <td>...</td>\n",
       "      <td>...</td>\n",
       "    </tr>\n",
       "    <tr>\n",
       "      <th>10084</th>\n",
       "      <td>25</td>\n",
       "      <td>5382</td>\n",
       "      <td>C</td>\n",
       "      <td>1595.0</td>\n",
       "      <td>1523.000000</td>\n",
       "      <td>0</td>\n",
       "      <td>3</td>\n",
       "      <td>1</td>\n",
       "    </tr>\n",
       "    <tr>\n",
       "      <th>10087</th>\n",
       "      <td>25</td>\n",
       "      <td>5397</td>\n",
       "      <td>C</td>\n",
       "      <td>1235.0</td>\n",
       "      <td>7789.444444</td>\n",
       "      <td>0</td>\n",
       "      <td>0</td>\n",
       "      <td>1</td>\n",
       "    </tr>\n",
       "    <tr>\n",
       "      <th>10089</th>\n",
       "      <td>25</td>\n",
       "      <td>5432</td>\n",
       "      <td>C</td>\n",
       "      <td>1161.0</td>\n",
       "      <td>2159.777778</td>\n",
       "      <td>0</td>\n",
       "      <td>4</td>\n",
       "      <td>1</td>\n",
       "    </tr>\n",
       "    <tr>\n",
       "      <th>10093</th>\n",
       "      <td>25</td>\n",
       "      <td>5460</td>\n",
       "      <td>C</td>\n",
       "      <td>770.0</td>\n",
       "      <td>2600.833333</td>\n",
       "      <td>0</td>\n",
       "      <td>7</td>\n",
       "      <td>1</td>\n",
       "    </tr>\n",
       "    <tr>\n",
       "      <th>10095</th>\n",
       "      <td>25</td>\n",
       "      <td>5483</td>\n",
       "      <td>C</td>\n",
       "      <td>624.0</td>\n",
       "      <td>3044.888889</td>\n",
       "      <td>0</td>\n",
       "      <td>7</td>\n",
       "      <td>1</td>\n",
       "    </tr>\n",
       "  </tbody>\n",
       "</table>\n",
       "<p>6036 rows × 8 columns</p>\n",
       "</div>"
      ],
      "text/plain": [
       "       FOV  cell_ID Timepoint  Size (pixels)  CD34_median  \\\n",
       "0        1        2         A         2089.0  9282.555556   \n",
       "3        1      118         A         4697.0  1127.888889   \n",
       "4        1      190         A         3434.0  3783.888889   \n",
       "6        1      216         A         2165.0  1658.111111   \n",
       "10       1      246         A         3947.0  2541.666667   \n",
       "...    ...      ...       ...            ...          ...   \n",
       "10084   25     5382         C         1595.0  1523.000000   \n",
       "10087   25     5397         C         1235.0  7789.444444   \n",
       "10089   25     5432         C         1161.0  2159.777778   \n",
       "10093   25     5460         C          770.0  2600.833333   \n",
       "10095   25     5483         C          624.0  3044.888889   \n",
       "\n",
       "       PhenoGraph_clusters_round_1  PhenoGraph_clusters  Lk_cell  \n",
       "0                                1                    0        1  \n",
       "3                                1                    1        1  \n",
       "4                                1                    0        1  \n",
       "6                                1                    0        1  \n",
       "10                               1                    0        1  \n",
       "...                            ...                  ...      ...  \n",
       "10084                            0                    3        1  \n",
       "10087                            0                    0        1  \n",
       "10089                            0                    4        1  \n",
       "10093                            0                    7        1  \n",
       "10095                            0                    7        1  \n",
       "\n",
       "[6036 rows x 8 columns]"
      ]
     },
     "execution_count": 8,
     "metadata": {},
     "output_type": "execute_result"
    }
   ],
   "source": [
    "morph_predicted[morph_predicted['Lk_cell'] == 1]"
   ]
  },
  {
   "cell_type": "code",
   "execution_count": 9,
   "id": "eba3359d",
   "metadata": {},
   "outputs": [],
   "source": [
    "# save list of all patient's CD34+ cells\n",
    "pos_to_save = morph_predicted[morph_predicted['Lk_cell'] == 1][['FOV', 'cell_ID']]\n",
    "pos_to_save['Patient'] = patient"
   ]
  },
  {
   "cell_type": "markdown",
   "id": "1c3fcf5a",
   "metadata": {},
   "source": [
    "### Visualize all cells with cluster names, highlight likely Lk cells"
   ]
  },
  {
   "cell_type": "code",
   "execution_count": 10,
   "id": "b487cc18",
   "metadata": {
    "scrolled": true
   },
   "outputs": [
    {
     "name": "stdout",
     "output_type": "stream",
     "text": [
      "20220228_110038_S2_C902_P99_N99_F001_normalized.png\n",
      "20220228_110038_S2_C902_P99_N99_F001_normalized_cp_masks.tif\n"
     ]
    },
    {
     "name": "stderr",
     "output_type": "stream",
     "text": [
      "/tmp/ipykernel_1647633/1622947058.py:58: SettingWithCopyWarning: \n",
      "A value is trying to be set on a copy of a slice from a DataFrame.\n",
      "Try using .loc[row_indexer,col_indexer] = value instead\n",
      "\n",
      "See the caveats in the documentation: https://pandas.pydata.org/pandas-docs/stable/user_guide/indexing.html#returning-a-view-versus-a-copy\n",
      "  one_fov['cell_ID'] = one_fov['cell_ID'].astype(int)\n"
     ]
    },
    {
     "name": "stdout",
     "output_type": "stream",
     "text": [
      "20220228_110038_S2_C902_P99_N99_F002_normalized.png\n",
      "20220228_110038_S2_C902_P99_N99_F002_normalized_cp_masks.tif\n"
     ]
    },
    {
     "name": "stderr",
     "output_type": "stream",
     "text": [
      "/tmp/ipykernel_1647633/1622947058.py:58: SettingWithCopyWarning: \n",
      "A value is trying to be set on a copy of a slice from a DataFrame.\n",
      "Try using .loc[row_indexer,col_indexer] = value instead\n",
      "\n",
      "See the caveats in the documentation: https://pandas.pydata.org/pandas-docs/stable/user_guide/indexing.html#returning-a-view-versus-a-copy\n",
      "  one_fov['cell_ID'] = one_fov['cell_ID'].astype(int)\n"
     ]
    },
    {
     "name": "stdout",
     "output_type": "stream",
     "text": [
      "20220228_110038_S2_C902_P99_N99_F003_normalized.png\n",
      "20220228_110038_S2_C902_P99_N99_F003_normalized_cp_masks.tif\n"
     ]
    },
    {
     "name": "stderr",
     "output_type": "stream",
     "text": [
      "/tmp/ipykernel_1647633/1622947058.py:58: SettingWithCopyWarning: \n",
      "A value is trying to be set on a copy of a slice from a DataFrame.\n",
      "Try using .loc[row_indexer,col_indexer] = value instead\n",
      "\n",
      "See the caveats in the documentation: https://pandas.pydata.org/pandas-docs/stable/user_guide/indexing.html#returning-a-view-versus-a-copy\n",
      "  one_fov['cell_ID'] = one_fov['cell_ID'].astype(int)\n"
     ]
    },
    {
     "name": "stdout",
     "output_type": "stream",
     "text": [
      "20220228_110038_S2_C902_P99_N99_F004_normalized.png\n",
      "20220228_110038_S2_C902_P99_N99_F004_normalized_cp_masks.tif\n"
     ]
    },
    {
     "name": "stderr",
     "output_type": "stream",
     "text": [
      "/tmp/ipykernel_1647633/1622947058.py:58: SettingWithCopyWarning: \n",
      "A value is trying to be set on a copy of a slice from a DataFrame.\n",
      "Try using .loc[row_indexer,col_indexer] = value instead\n",
      "\n",
      "See the caveats in the documentation: https://pandas.pydata.org/pandas-docs/stable/user_guide/indexing.html#returning-a-view-versus-a-copy\n",
      "  one_fov['cell_ID'] = one_fov['cell_ID'].astype(int)\n"
     ]
    },
    {
     "name": "stdout",
     "output_type": "stream",
     "text": [
      "20220228_110038_S2_C902_P99_N99_F005_normalized.png\n",
      "20220228_110038_S2_C902_P99_N99_F005_normalized_cp_masks.tif\n"
     ]
    },
    {
     "name": "stderr",
     "output_type": "stream",
     "text": [
      "/tmp/ipykernel_1647633/1622947058.py:58: SettingWithCopyWarning: \n",
      "A value is trying to be set on a copy of a slice from a DataFrame.\n",
      "Try using .loc[row_indexer,col_indexer] = value instead\n",
      "\n",
      "See the caveats in the documentation: https://pandas.pydata.org/pandas-docs/stable/user_guide/indexing.html#returning-a-view-versus-a-copy\n",
      "  one_fov['cell_ID'] = one_fov['cell_ID'].astype(int)\n"
     ]
    },
    {
     "name": "stdout",
     "output_type": "stream",
     "text": [
      "20220228_110038_S2_C902_P99_N99_F006_normalized.png\n",
      "20220228_110038_S2_C902_P99_N99_F006_normalized_cp_masks.tif\n"
     ]
    },
    {
     "name": "stderr",
     "output_type": "stream",
     "text": [
      "/tmp/ipykernel_1647633/1622947058.py:58: SettingWithCopyWarning: \n",
      "A value is trying to be set on a copy of a slice from a DataFrame.\n",
      "Try using .loc[row_indexer,col_indexer] = value instead\n",
      "\n",
      "See the caveats in the documentation: https://pandas.pydata.org/pandas-docs/stable/user_guide/indexing.html#returning-a-view-versus-a-copy\n",
      "  one_fov['cell_ID'] = one_fov['cell_ID'].astype(int)\n"
     ]
    },
    {
     "name": "stdout",
     "output_type": "stream",
     "text": [
      "20220228_110038_S2_C902_P99_N99_F007_normalized.png\n",
      "20220228_110038_S2_C902_P99_N99_F007_normalized_cp_masks.tif\n"
     ]
    },
    {
     "name": "stderr",
     "output_type": "stream",
     "text": [
      "/tmp/ipykernel_1647633/1622947058.py:58: SettingWithCopyWarning: \n",
      "A value is trying to be set on a copy of a slice from a DataFrame.\n",
      "Try using .loc[row_indexer,col_indexer] = value instead\n",
      "\n",
      "See the caveats in the documentation: https://pandas.pydata.org/pandas-docs/stable/user_guide/indexing.html#returning-a-view-versus-a-copy\n",
      "  one_fov['cell_ID'] = one_fov['cell_ID'].astype(int)\n"
     ]
    },
    {
     "name": "stdout",
     "output_type": "stream",
     "text": [
      "20220228_110038_S2_C902_P99_N99_F008_normalized.png\n",
      "20220228_110038_S2_C902_P99_N99_F008_normalized_cp_masks.tif\n"
     ]
    },
    {
     "name": "stderr",
     "output_type": "stream",
     "text": [
      "/tmp/ipykernel_1647633/1622947058.py:58: SettingWithCopyWarning: \n",
      "A value is trying to be set on a copy of a slice from a DataFrame.\n",
      "Try using .loc[row_indexer,col_indexer] = value instead\n",
      "\n",
      "See the caveats in the documentation: https://pandas.pydata.org/pandas-docs/stable/user_guide/indexing.html#returning-a-view-versus-a-copy\n",
      "  one_fov['cell_ID'] = one_fov['cell_ID'].astype(int)\n"
     ]
    },
    {
     "name": "stdout",
     "output_type": "stream",
     "text": [
      "20220228_110038_S2_C902_P99_N99_F009_normalized.png\n",
      "20220228_110038_S2_C902_P99_N99_F009_normalized_cp_masks.tif\n"
     ]
    },
    {
     "name": "stderr",
     "output_type": "stream",
     "text": [
      "/tmp/ipykernel_1647633/1622947058.py:58: SettingWithCopyWarning: \n",
      "A value is trying to be set on a copy of a slice from a DataFrame.\n",
      "Try using .loc[row_indexer,col_indexer] = value instead\n",
      "\n",
      "See the caveats in the documentation: https://pandas.pydata.org/pandas-docs/stable/user_guide/indexing.html#returning-a-view-versus-a-copy\n",
      "  one_fov['cell_ID'] = one_fov['cell_ID'].astype(int)\n"
     ]
    },
    {
     "name": "stdout",
     "output_type": "stream",
     "text": [
      "20220228_110038_S2_C902_P99_N99_F010_normalized.png\n",
      "20220228_110038_S2_C902_P99_N99_F010_normalized_cp_masks.tif\n"
     ]
    },
    {
     "name": "stderr",
     "output_type": "stream",
     "text": [
      "/tmp/ipykernel_1647633/1622947058.py:58: SettingWithCopyWarning: \n",
      "A value is trying to be set on a copy of a slice from a DataFrame.\n",
      "Try using .loc[row_indexer,col_indexer] = value instead\n",
      "\n",
      "See the caveats in the documentation: https://pandas.pydata.org/pandas-docs/stable/user_guide/indexing.html#returning-a-view-versus-a-copy\n",
      "  one_fov['cell_ID'] = one_fov['cell_ID'].astype(int)\n"
     ]
    },
    {
     "name": "stdout",
     "output_type": "stream",
     "text": [
      "20220228_110038_S2_C902_P99_N99_F011_normalized.png\n",
      "20220228_110038_S2_C902_P99_N99_F011_normalized_cp_masks.tif\n"
     ]
    },
    {
     "name": "stderr",
     "output_type": "stream",
     "text": [
      "/tmp/ipykernel_1647633/1622947058.py:58: SettingWithCopyWarning: \n",
      "A value is trying to be set on a copy of a slice from a DataFrame.\n",
      "Try using .loc[row_indexer,col_indexer] = value instead\n",
      "\n",
      "See the caveats in the documentation: https://pandas.pydata.org/pandas-docs/stable/user_guide/indexing.html#returning-a-view-versus-a-copy\n",
      "  one_fov['cell_ID'] = one_fov['cell_ID'].astype(int)\n"
     ]
    },
    {
     "name": "stdout",
     "output_type": "stream",
     "text": [
      "20220228_110038_S2_C902_P99_N99_F012_normalized.png\n",
      "20220228_110038_S2_C902_P99_N99_F012_normalized_cp_masks.tif\n"
     ]
    },
    {
     "name": "stderr",
     "output_type": "stream",
     "text": [
      "/tmp/ipykernel_1647633/1622947058.py:58: SettingWithCopyWarning: \n",
      "A value is trying to be set on a copy of a slice from a DataFrame.\n",
      "Try using .loc[row_indexer,col_indexer] = value instead\n",
      "\n",
      "See the caveats in the documentation: https://pandas.pydata.org/pandas-docs/stable/user_guide/indexing.html#returning-a-view-versus-a-copy\n",
      "  one_fov['cell_ID'] = one_fov['cell_ID'].astype(int)\n"
     ]
    },
    {
     "name": "stdout",
     "output_type": "stream",
     "text": [
      "20220228_110038_S2_C902_P99_N99_F013_normalized.png\n",
      "20220228_110038_S2_C902_P99_N99_F013_normalized_cp_masks.tif\n"
     ]
    },
    {
     "name": "stderr",
     "output_type": "stream",
     "text": [
      "/tmp/ipykernel_1647633/1622947058.py:58: SettingWithCopyWarning: \n",
      "A value is trying to be set on a copy of a slice from a DataFrame.\n",
      "Try using .loc[row_indexer,col_indexer] = value instead\n",
      "\n",
      "See the caveats in the documentation: https://pandas.pydata.org/pandas-docs/stable/user_guide/indexing.html#returning-a-view-versus-a-copy\n",
      "  one_fov['cell_ID'] = one_fov['cell_ID'].astype(int)\n"
     ]
    },
    {
     "name": "stdout",
     "output_type": "stream",
     "text": [
      "20220228_110038_S2_C902_P99_N99_F014_normalized.png\n",
      "20220228_110038_S2_C902_P99_N99_F014_normalized_cp_masks.tif\n"
     ]
    },
    {
     "name": "stderr",
     "output_type": "stream",
     "text": [
      "/tmp/ipykernel_1647633/1622947058.py:58: SettingWithCopyWarning: \n",
      "A value is trying to be set on a copy of a slice from a DataFrame.\n",
      "Try using .loc[row_indexer,col_indexer] = value instead\n",
      "\n",
      "See the caveats in the documentation: https://pandas.pydata.org/pandas-docs/stable/user_guide/indexing.html#returning-a-view-versus-a-copy\n",
      "  one_fov['cell_ID'] = one_fov['cell_ID'].astype(int)\n"
     ]
    },
    {
     "name": "stdout",
     "output_type": "stream",
     "text": [
      "20220228_110038_S2_C902_P99_N99_F015_normalized.png\n",
      "20220228_110038_S2_C902_P99_N99_F015_normalized_cp_masks.tif\n"
     ]
    },
    {
     "name": "stderr",
     "output_type": "stream",
     "text": [
      "/tmp/ipykernel_1647633/1622947058.py:58: SettingWithCopyWarning: \n",
      "A value is trying to be set on a copy of a slice from a DataFrame.\n",
      "Try using .loc[row_indexer,col_indexer] = value instead\n",
      "\n",
      "See the caveats in the documentation: https://pandas.pydata.org/pandas-docs/stable/user_guide/indexing.html#returning-a-view-versus-a-copy\n",
      "  one_fov['cell_ID'] = one_fov['cell_ID'].astype(int)\n"
     ]
    },
    {
     "name": "stdout",
     "output_type": "stream",
     "text": [
      "20220228_110038_S2_C902_P99_N99_F016_normalized.png\n",
      "20220228_110038_S2_C902_P99_N99_F016_normalized_cp_masks.tif\n"
     ]
    },
    {
     "name": "stderr",
     "output_type": "stream",
     "text": [
      "/tmp/ipykernel_1647633/1622947058.py:58: SettingWithCopyWarning: \n",
      "A value is trying to be set on a copy of a slice from a DataFrame.\n",
      "Try using .loc[row_indexer,col_indexer] = value instead\n",
      "\n",
      "See the caveats in the documentation: https://pandas.pydata.org/pandas-docs/stable/user_guide/indexing.html#returning-a-view-versus-a-copy\n",
      "  one_fov['cell_ID'] = one_fov['cell_ID'].astype(int)\n"
     ]
    },
    {
     "name": "stdout",
     "output_type": "stream",
     "text": [
      "20220228_110038_S2_C902_P99_N99_F017_normalized.png\n",
      "20220228_110038_S2_C902_P99_N99_F017_normalized_cp_masks.tif\n"
     ]
    },
    {
     "name": "stderr",
     "output_type": "stream",
     "text": [
      "/tmp/ipykernel_1647633/1622947058.py:58: SettingWithCopyWarning: \n",
      "A value is trying to be set on a copy of a slice from a DataFrame.\n",
      "Try using .loc[row_indexer,col_indexer] = value instead\n",
      "\n",
      "See the caveats in the documentation: https://pandas.pydata.org/pandas-docs/stable/user_guide/indexing.html#returning-a-view-versus-a-copy\n",
      "  one_fov['cell_ID'] = one_fov['cell_ID'].astype(int)\n"
     ]
    },
    {
     "name": "stdout",
     "output_type": "stream",
     "text": [
      "20220228_110038_S2_C902_P99_N99_F018_normalized.png\n",
      "20220228_110038_S2_C902_P99_N99_F018_normalized_cp_masks.tif\n"
     ]
    },
    {
     "name": "stderr",
     "output_type": "stream",
     "text": [
      "/tmp/ipykernel_1647633/1622947058.py:58: SettingWithCopyWarning: \n",
      "A value is trying to be set on a copy of a slice from a DataFrame.\n",
      "Try using .loc[row_indexer,col_indexer] = value instead\n",
      "\n",
      "See the caveats in the documentation: https://pandas.pydata.org/pandas-docs/stable/user_guide/indexing.html#returning-a-view-versus-a-copy\n",
      "  one_fov['cell_ID'] = one_fov['cell_ID'].astype(int)\n"
     ]
    },
    {
     "name": "stdout",
     "output_type": "stream",
     "text": [
      "20220228_110038_S2_C902_P99_N99_F019_normalized.png\n",
      "20220228_110038_S2_C902_P99_N99_F019_normalized_cp_masks.tif\n"
     ]
    },
    {
     "name": "stderr",
     "output_type": "stream",
     "text": [
      "/tmp/ipykernel_1647633/1622947058.py:58: SettingWithCopyWarning: \n",
      "A value is trying to be set on a copy of a slice from a DataFrame.\n",
      "Try using .loc[row_indexer,col_indexer] = value instead\n",
      "\n",
      "See the caveats in the documentation: https://pandas.pydata.org/pandas-docs/stable/user_guide/indexing.html#returning-a-view-versus-a-copy\n",
      "  one_fov['cell_ID'] = one_fov['cell_ID'].astype(int)\n"
     ]
    },
    {
     "name": "stdout",
     "output_type": "stream",
     "text": [
      "20220228_110038_S2_C902_P99_N99_F020_normalized.png\n",
      "20220228_110038_S2_C902_P99_N99_F020_normalized_cp_masks.tif\n"
     ]
    },
    {
     "name": "stderr",
     "output_type": "stream",
     "text": [
      "/tmp/ipykernel_1647633/1622947058.py:58: SettingWithCopyWarning: \n",
      "A value is trying to be set on a copy of a slice from a DataFrame.\n",
      "Try using .loc[row_indexer,col_indexer] = value instead\n",
      "\n",
      "See the caveats in the documentation: https://pandas.pydata.org/pandas-docs/stable/user_guide/indexing.html#returning-a-view-versus-a-copy\n",
      "  one_fov['cell_ID'] = one_fov['cell_ID'].astype(int)\n"
     ]
    },
    {
     "name": "stdout",
     "output_type": "stream",
     "text": [
      "20220228_110038_S2_C902_P99_N99_F021_normalized.png\n",
      "20220228_110038_S2_C902_P99_N99_F021_normalized_cp_masks.tif\n"
     ]
    },
    {
     "name": "stderr",
     "output_type": "stream",
     "text": [
      "/tmp/ipykernel_1647633/1622947058.py:58: SettingWithCopyWarning: \n",
      "A value is trying to be set on a copy of a slice from a DataFrame.\n",
      "Try using .loc[row_indexer,col_indexer] = value instead\n",
      "\n",
      "See the caveats in the documentation: https://pandas.pydata.org/pandas-docs/stable/user_guide/indexing.html#returning-a-view-versus-a-copy\n",
      "  one_fov['cell_ID'] = one_fov['cell_ID'].astype(int)\n"
     ]
    },
    {
     "name": "stdout",
     "output_type": "stream",
     "text": [
      "20220228_110038_S2_C902_P99_N99_F022_normalized.png\n",
      "20220228_110038_S2_C902_P99_N99_F022_normalized_cp_masks.tif\n"
     ]
    },
    {
     "name": "stderr",
     "output_type": "stream",
     "text": [
      "/tmp/ipykernel_1647633/1622947058.py:58: SettingWithCopyWarning: \n",
      "A value is trying to be set on a copy of a slice from a DataFrame.\n",
      "Try using .loc[row_indexer,col_indexer] = value instead\n",
      "\n",
      "See the caveats in the documentation: https://pandas.pydata.org/pandas-docs/stable/user_guide/indexing.html#returning-a-view-versus-a-copy\n",
      "  one_fov['cell_ID'] = one_fov['cell_ID'].astype(int)\n"
     ]
    },
    {
     "name": "stdout",
     "output_type": "stream",
     "text": [
      "20220228_110038_S2_C902_P99_N99_F023_normalized.png\n",
      "20220228_110038_S2_C902_P99_N99_F023_normalized_cp_masks.tif\n"
     ]
    },
    {
     "name": "stderr",
     "output_type": "stream",
     "text": [
      "/tmp/ipykernel_1647633/1622947058.py:58: SettingWithCopyWarning: \n",
      "A value is trying to be set on a copy of a slice from a DataFrame.\n",
      "Try using .loc[row_indexer,col_indexer] = value instead\n",
      "\n",
      "See the caveats in the documentation: https://pandas.pydata.org/pandas-docs/stable/user_guide/indexing.html#returning-a-view-versus-a-copy\n",
      "  one_fov['cell_ID'] = one_fov['cell_ID'].astype(int)\n"
     ]
    },
    {
     "name": "stdout",
     "output_type": "stream",
     "text": [
      "20220228_110038_S2_C902_P99_N99_F024_normalized.png\n",
      "20220228_110038_S2_C902_P99_N99_F024_normalized_cp_masks.tif\n"
     ]
    },
    {
     "name": "stderr",
     "output_type": "stream",
     "text": [
      "/tmp/ipykernel_1647633/1622947058.py:58: SettingWithCopyWarning: \n",
      "A value is trying to be set on a copy of a slice from a DataFrame.\n",
      "Try using .loc[row_indexer,col_indexer] = value instead\n",
      "\n",
      "See the caveats in the documentation: https://pandas.pydata.org/pandas-docs/stable/user_guide/indexing.html#returning-a-view-versus-a-copy\n",
      "  one_fov['cell_ID'] = one_fov['cell_ID'].astype(int)\n"
     ]
    },
    {
     "name": "stdout",
     "output_type": "stream",
     "text": [
      "20220228_110038_S2_C902_P99_N99_F025_normalized.png\n",
      "20220228_110038_S2_C902_P99_N99_F025_normalized_cp_masks.tif\n"
     ]
    },
    {
     "name": "stderr",
     "output_type": "stream",
     "text": [
      "/tmp/ipykernel_1647633/1622947058.py:58: SettingWithCopyWarning: \n",
      "A value is trying to be set on a copy of a slice from a DataFrame.\n",
      "Try using .loc[row_indexer,col_indexer] = value instead\n",
      "\n",
      "See the caveats in the documentation: https://pandas.pydata.org/pandas-docs/stable/user_guide/indexing.html#returning-a-view-versus-a-copy\n",
      "  one_fov['cell_ID'] = one_fov['cell_ID'].astype(int)\n"
     ]
    }
   ],
   "source": [
    "# create list of fovs\n",
    "fovs = list(set(morph_predicted['FOV'].tolist()))\n",
    "fovs.sort()\n",
    "    \n",
    "for fov in fovs:\n",
    "    \n",
    "    # subset FOV        \n",
    "    one_fov = morph_predicted[morph_predicted['FOV'] == fov]\n",
    "    \n",
    "    # Load img\n",
    "    location = img_dirs[patient]\n",
    "    dirlist = listdir(location)\n",
    "    dirlist.sort()\n",
    "    for item in dirlist:\n",
    "        if 'F0' + str(fov).zfill(2) in item:\n",
    "            img = cv2.imread(location + item)\n",
    "            print(item)\n",
    "            break\n",
    "            \n",
    "    # brighten image\n",
    "    # define the alpha and beta\n",
    "    alpha = 1.5 # Contrast control\n",
    "    beta = 35 # Brightness control\n",
    "\n",
    "    # call convertScaleAbs function\n",
    "    img = cv2.convertScaleAbs(img, alpha=alpha, beta=beta)\n",
    "\n",
    "    # Load masks\n",
    "    location = mask_dir\n",
    "    dirlist = listdir(location)\n",
    "    dirlist.sort()\n",
    "    for item in dirlist:\n",
    "        if 'F0' + str(fov).zfill(2) in item:\n",
    "            labels = tifffile.imread(location + item)\n",
    "            print(item)\n",
    "            break\n",
    "        elif 'FOV' + str(fov).zfill(2) in item:\n",
    "            labels = tifffile.imread(location + item)\n",
    "            print(item)\n",
    "            break\n",
    "\n",
    "    # get all mask values\n",
    "    fov_cells = np.unique(labels)\n",
    "    \n",
    "    # Load centroids\n",
    "    coords_dir = mask_dir + 'cell_centroids/'\n",
    "    dirlist = listdir(coords_dir)\n",
    "    dirlist.sort()\n",
    "    for item in dirlist:\n",
    "        if 'F0' + str(fov).zfill(2) in item:\n",
    "            centroids = pd.read_csv(coords_dir + item, index_col=0)\n",
    "            break\n",
    "        elif 'FOV' + str(fov).zfill(2) in item:\n",
    "            centroids = pd.read_csv(coords_dir + item, index_col=0)\n",
    "            break\n",
    "            \n",
    "    # merge prediction and centroid tables\n",
    "    one_fov['cell_ID'] = one_fov['cell_ID'].astype(int)\n",
    "    one_fov = one_fov.rename(columns={\"cell_ID\": \"label\"})\n",
    "                \n",
    "    combo = pd.merge(one_fov,centroids,left_on='label',right_on='label',how='left')\n",
    "    \n",
    "    # visualize all segmented cells\n",
    "    boundaries = segmentation.find_boundaries(labels, connectivity=1, mode='inner', background=0)\n",
    "    boundaries = boundaries.astype(int)\n",
    "    img[boundaries>0] = [255,255,0]\n",
    "    \n",
    "    # create list of CD34+ cells\n",
    "    pos_cells = combo[combo['Lk_cell'] == 1]['label'].tolist()\n",
    "    pos_cells = [int(i) for i in pos_cells]\n",
    "    # set all labels of other clusters to zero\n",
    "    labels_edited = labels.copy()\n",
    "    for cell in fov_cells:\n",
    "        if cell in pos_cells:\n",
    "            pass\n",
    "        else:\n",
    "            labels_edited[labels_edited == cell] = 0\n",
    "\n",
    "    # add colored outline\n",
    "    boundaries = segmentation.find_boundaries(labels_edited, connectivity=1, mode='thick', background=0)\n",
    "    boundaries = boundaries.astype(int)\n",
    "    img[boundaries>0] = [0,0,255]\n",
    "\n",
    "    # get unique phenograph clusters\n",
    "    clusters = list(set(combo['PhenoGraph_clusters'].tolist()))\n",
    "    \n",
    "    for cluster in clusters:\n",
    "\n",
    "        # create list of this cluster's cells\n",
    "        pos_cells_df = combo[combo['PhenoGraph_clusters'] == cluster]\n",
    "\n",
    "        for k in range(pos_cells_df.shape[0]):\n",
    "            img = cv2.putText(img, str(cluster), (int(pos_cells_df['x'].iloc[k]), int(pos_cells_df['y'].iloc[k])), cv2.FONT_HERSHEY_SIMPLEX, 0.5, [255,255,255], 2, cv2.LINE_AA)\n",
    "            \n",
    "    # save image\n",
    "    cv2.imwrite('CD34_subclusters_overlaid/' + patient + '_FOV' + str(fov).zfill(2) + '_CD34_subcluster.png', img)"
   ]
  },
  {
   "cell_type": "code",
   "execution_count": 11,
   "id": "e0d788a8",
   "metadata": {},
   "outputs": [],
   "source": [
    "# save list of CD34+ lk cells\n",
    "pos_to_save.to_csv(patient + '_LkCells.csv', index=False)"
   ]
  },
  {
   "cell_type": "code",
   "execution_count": null,
   "id": "55c10169",
   "metadata": {},
   "outputs": [],
   "source": []
  }
 ],
 "metadata": {
  "kernelspec": {
   "display_name": "snakemakePipeline",
   "language": "python",
   "name": "snakemakepipeline"
  },
  "language_info": {
   "codemirror_mode": {
    "name": "ipython",
    "version": 3
   },
   "file_extension": ".py",
   "mimetype": "text/x-python",
   "name": "python",
   "nbconvert_exporter": "python",
   "pygments_lexer": "ipython3",
   "version": "3.8.5"
  }
 },
 "nbformat": 4,
 "nbformat_minor": 5
}
