{
 "cells": [
  {
   "cell_type": "markdown",
   "id": "2f856b10",
   "metadata": {},
   "source": [
    "# Visualize suspected leukemia cells"
   ]
  },
  {
   "cell_type": "markdown",
   "id": "bee5b087",
   "metadata": {},
   "source": [
    "#### This notebook labels each cell within this patient's images by it's Phenograph cluster number generated in Phenograph-CD45_features.ipynb. Suspected Lk cells are outlined in red to visually confirm."
   ]
  },
  {
   "cell_type": "code",
   "execution_count": 1,
   "id": "d3dd6ee6",
   "metadata": {},
   "outputs": [],
   "source": [
    "import matplotlib.pyplot as plt\n",
    "import numpy as np\n",
    "import pandas as pd\n",
    "import tifffile\n",
    "import cv2\n",
    "from PIL import Image\n",
    "from PIL import ImageDraw\n",
    "from skimage import data, color, io, img_as_float\n",
    "from os import listdir\n",
    "from os.path import isfile, join\n",
    "import skimage.io\n",
    "import skimage.util\n",
    "from skimage import data, segmentation, util, measure\n",
    "from skimage.segmentation import expand_labels"
   ]
  },
  {
   "cell_type": "code",
   "execution_count": 2,
   "id": "bf93e03b",
   "metadata": {},
   "outputs": [],
   "source": [
    "# create dictionary of directories for each patient\n",
    "img_dirs = {'P51':'/data/Zhaolab/1_AMLCosMx/Final_scripts/1_Normalization/0_NormalizedImg/P51_R1158_S1_Normalized_DAPI_B2M_CD34/', \n",
    "            'P52':'/data/Zhaolab/1_AMLCosMx/Final_scripts/1_Normalization/0_NormalizedImg/P52_R1149_S1_Normalized_DAPI_B2M_CD34/', \n",
    "            'P53':'/data/Zhaolab/1_AMLCosMx/Final_scripts/1_Normalization/0_NormalizedImg/P53_R1149_S2_Normalized_DAPI_B2M_CD34/', \n",
    "            'P56':'/data/Zhaolab/1_AMLCosMx/Final_scripts/1_Normalization/0_NormalizedImg/P56_R1158_S2_Normalized_DAPI_B2M_CD34/', \n",
    "            'P57':'/data/Zhaolab/1_AMLCosMx/Final_scripts/1_Normalization/0_NormalizedImg/P57_R1158_S3_Normalized_DAPI_B2M_CD34/', \n",
    "            'P58':'/data/Zhaolab/1_AMLCosMx/Final_scripts/1_Normalization/0_NormalizedImg/P58_R1149_S3_Normalized_DAPI_B2M_CD34/'}"
   ]
  },
  {
   "cell_type": "code",
   "execution_count": 3,
   "id": "7eaf9a0a",
   "metadata": {},
   "outputs": [],
   "source": [
    "patient = 'P51'"
   ]
  },
  {
   "cell_type": "code",
   "execution_count": 4,
   "id": "80629ffb",
   "metadata": {},
   "outputs": [],
   "source": [
    "# create dictionary of directories for each patient\n",
    "mask_dir = '/data/Zhaolab/1_AMLCosMx/Final_scripts/2_Segmentation/3_NucMemMerging/' + patient + '_hybrid/labels_predicted_2_15_24/'"
   ]
  },
  {
   "cell_type": "code",
   "execution_count": 5,
   "id": "a2411e58",
   "metadata": {},
   "outputs": [
    {
     "data": {
      "text/html": [
       "<div>\n",
       "<style scoped>\n",
       "    .dataframe tbody tr th:only-of-type {\n",
       "        vertical-align: middle;\n",
       "    }\n",
       "\n",
       "    .dataframe tbody tr th {\n",
       "        vertical-align: top;\n",
       "    }\n",
       "\n",
       "    .dataframe thead th {\n",
       "        text-align: right;\n",
       "    }\n",
       "</style>\n",
       "<table border=\"1\" class=\"dataframe\">\n",
       "  <thead>\n",
       "    <tr style=\"text-align: right;\">\n",
       "      <th></th>\n",
       "      <th>Unnamed: 0</th>\n",
       "      <th>FOV</th>\n",
       "      <th>cell_ID</th>\n",
       "      <th>Timepoint</th>\n",
       "      <th>Size (pixels)</th>\n",
       "      <th>CD34_median</th>\n",
       "      <th>Passed_QC</th>\n",
       "      <th>PhenoGraph_clusters_round_1</th>\n",
       "      <th>PhenoGraph_clusters</th>\n",
       "    </tr>\n",
       "  </thead>\n",
       "  <tbody>\n",
       "    <tr>\n",
       "      <th>0</th>\n",
       "      <td>P51_FOV01_cell_2</td>\n",
       "      <td>1</td>\n",
       "      <td>2</td>\n",
       "      <td>A</td>\n",
       "      <td>1122.0</td>\n",
       "      <td>928.333333</td>\n",
       "      <td>1.0</td>\n",
       "      <td>1</td>\n",
       "      <td>2</td>\n",
       "    </tr>\n",
       "    <tr>\n",
       "      <th>1</th>\n",
       "      <td>P51_FOV01_cell_12</td>\n",
       "      <td>1</td>\n",
       "      <td>12</td>\n",
       "      <td>A</td>\n",
       "      <td>1493.0</td>\n",
       "      <td>1334.777778</td>\n",
       "      <td>1.0</td>\n",
       "      <td>1</td>\n",
       "      <td>0</td>\n",
       "    </tr>\n",
       "    <tr>\n",
       "      <th>2</th>\n",
       "      <td>P51_FOV01_cell_27</td>\n",
       "      <td>1</td>\n",
       "      <td>27</td>\n",
       "      <td>A</td>\n",
       "      <td>1940.0</td>\n",
       "      <td>1037.277778</td>\n",
       "      <td>1.0</td>\n",
       "      <td>1</td>\n",
       "      <td>4</td>\n",
       "    </tr>\n",
       "    <tr>\n",
       "      <th>3</th>\n",
       "      <td>P51_FOV01_cell_30</td>\n",
       "      <td>1</td>\n",
       "      <td>30</td>\n",
       "      <td>A</td>\n",
       "      <td>1109.0</td>\n",
       "      <td>1014.222222</td>\n",
       "      <td>1.0</td>\n",
       "      <td>1</td>\n",
       "      <td>13</td>\n",
       "    </tr>\n",
       "    <tr>\n",
       "      <th>4</th>\n",
       "      <td>P51_FOV01_cell_34</td>\n",
       "      <td>1</td>\n",
       "      <td>34</td>\n",
       "      <td>A</td>\n",
       "      <td>896.0</td>\n",
       "      <td>1197.944444</td>\n",
       "      <td>1.0</td>\n",
       "      <td>1</td>\n",
       "      <td>10</td>\n",
       "    </tr>\n",
       "    <tr>\n",
       "      <th>...</th>\n",
       "      <td>...</td>\n",
       "      <td>...</td>\n",
       "      <td>...</td>\n",
       "      <td>...</td>\n",
       "      <td>...</td>\n",
       "      <td>...</td>\n",
       "      <td>...</td>\n",
       "      <td>...</td>\n",
       "      <td>...</td>\n",
       "    </tr>\n",
       "    <tr>\n",
       "      <th>15021</th>\n",
       "      <td>P51_FOV22_cell_6578</td>\n",
       "      <td>22</td>\n",
       "      <td>6578</td>\n",
       "      <td>C</td>\n",
       "      <td>1448.0</td>\n",
       "      <td>1176.833333</td>\n",
       "      <td>1.0</td>\n",
       "      <td>1</td>\n",
       "      <td>1</td>\n",
       "    </tr>\n",
       "    <tr>\n",
       "      <th>15022</th>\n",
       "      <td>P51_FOV22_cell_6583</td>\n",
       "      <td>22</td>\n",
       "      <td>6583</td>\n",
       "      <td>C</td>\n",
       "      <td>1228.0</td>\n",
       "      <td>1204.944444</td>\n",
       "      <td>1.0</td>\n",
       "      <td>1</td>\n",
       "      <td>8</td>\n",
       "    </tr>\n",
       "    <tr>\n",
       "      <th>15023</th>\n",
       "      <td>P51_FOV22_cell_6615</td>\n",
       "      <td>22</td>\n",
       "      <td>6615</td>\n",
       "      <td>C</td>\n",
       "      <td>2388.0</td>\n",
       "      <td>994.055556</td>\n",
       "      <td>1.0</td>\n",
       "      <td>1</td>\n",
       "      <td>4</td>\n",
       "    </tr>\n",
       "    <tr>\n",
       "      <th>15024</th>\n",
       "      <td>P51_FOV22_cell_6705</td>\n",
       "      <td>22</td>\n",
       "      <td>6705</td>\n",
       "      <td>C</td>\n",
       "      <td>1438.0</td>\n",
       "      <td>1050.888889</td>\n",
       "      <td>1.0</td>\n",
       "      <td>1</td>\n",
       "      <td>3</td>\n",
       "    </tr>\n",
       "    <tr>\n",
       "      <th>15025</th>\n",
       "      <td>P51_FOV22_cell_6716</td>\n",
       "      <td>22</td>\n",
       "      <td>6716</td>\n",
       "      <td>C</td>\n",
       "      <td>1596.0</td>\n",
       "      <td>1019.722222</td>\n",
       "      <td>1.0</td>\n",
       "      <td>1</td>\n",
       "      <td>13</td>\n",
       "    </tr>\n",
       "  </tbody>\n",
       "</table>\n",
       "<p>15026 rows × 9 columns</p>\n",
       "</div>"
      ],
      "text/plain": [
       "                Unnamed: 0  FOV  cell_ID Timepoint  Size (pixels)  \\\n",
       "0         P51_FOV01_cell_2    1        2         A         1122.0   \n",
       "1        P51_FOV01_cell_12    1       12         A         1493.0   \n",
       "2        P51_FOV01_cell_27    1       27         A         1940.0   \n",
       "3        P51_FOV01_cell_30    1       30         A         1109.0   \n",
       "4        P51_FOV01_cell_34    1       34         A          896.0   \n",
       "...                    ...  ...      ...       ...            ...   \n",
       "15021  P51_FOV22_cell_6578   22     6578         C         1448.0   \n",
       "15022  P51_FOV22_cell_6583   22     6583         C         1228.0   \n",
       "15023  P51_FOV22_cell_6615   22     6615         C         2388.0   \n",
       "15024  P51_FOV22_cell_6705   22     6705         C         1438.0   \n",
       "15025  P51_FOV22_cell_6716   22     6716         C         1596.0   \n",
       "\n",
       "       CD34_median  Passed_QC  PhenoGraph_clusters_round_1  \\\n",
       "0       928.333333        1.0                            1   \n",
       "1      1334.777778        1.0                            1   \n",
       "2      1037.277778        1.0                            1   \n",
       "3      1014.222222        1.0                            1   \n",
       "4      1197.944444        1.0                            1   \n",
       "...            ...        ...                          ...   \n",
       "15021  1176.833333        1.0                            1   \n",
       "15022  1204.944444        1.0                            1   \n",
       "15023   994.055556        1.0                            1   \n",
       "15024  1050.888889        1.0                            1   \n",
       "15025  1019.722222        1.0                            1   \n",
       "\n",
       "       PhenoGraph_clusters  \n",
       "0                        2  \n",
       "1                        0  \n",
       "2                        4  \n",
       "3                       13  \n",
       "4                       10  \n",
       "...                    ...  \n",
       "15021                    1  \n",
       "15022                    8  \n",
       "15023                    4  \n",
       "15024                    3  \n",
       "15025                   13  \n",
       "\n",
       "[15026 rows x 9 columns]"
      ]
     },
     "execution_count": 5,
     "metadata": {},
     "output_type": "execute_result"
    }
   ],
   "source": [
    "# load in celltype predictions for all cells\n",
    "morph_predicted = pd.read_csv(patient + '_backsubCD34_subclusters.csv')\n",
    "morph_predicted"
   ]
  },
  {
   "cell_type": "code",
   "execution_count": 6,
   "id": "77b19ea9",
   "metadata": {},
   "outputs": [
    {
     "data": {
      "text/html": [
       "<div>\n",
       "<style scoped>\n",
       "    .dataframe tbody tr th:only-of-type {\n",
       "        vertical-align: middle;\n",
       "    }\n",
       "\n",
       "    .dataframe tbody tr th {\n",
       "        vertical-align: top;\n",
       "    }\n",
       "\n",
       "    .dataframe thead th {\n",
       "        text-align: right;\n",
       "    }\n",
       "</style>\n",
       "<table border=\"1\" class=\"dataframe\">\n",
       "  <thead>\n",
       "    <tr style=\"text-align: right;\">\n",
       "      <th></th>\n",
       "      <th>FOV</th>\n",
       "      <th>cell_ID</th>\n",
       "      <th>Timepoint</th>\n",
       "      <th>Size (pixels)</th>\n",
       "      <th>CD34_median</th>\n",
       "      <th>Passed_QC</th>\n",
       "      <th>PhenoGraph_clusters_round_1</th>\n",
       "      <th>PhenoGraph_clusters</th>\n",
       "    </tr>\n",
       "  </thead>\n",
       "  <tbody>\n",
       "    <tr>\n",
       "      <th>0</th>\n",
       "      <td>1</td>\n",
       "      <td>2</td>\n",
       "      <td>A</td>\n",
       "      <td>1122.0</td>\n",
       "      <td>928.333333</td>\n",
       "      <td>1.0</td>\n",
       "      <td>1</td>\n",
       "      <td>2</td>\n",
       "    </tr>\n",
       "    <tr>\n",
       "      <th>1</th>\n",
       "      <td>1</td>\n",
       "      <td>12</td>\n",
       "      <td>A</td>\n",
       "      <td>1493.0</td>\n",
       "      <td>1334.777778</td>\n",
       "      <td>1.0</td>\n",
       "      <td>1</td>\n",
       "      <td>0</td>\n",
       "    </tr>\n",
       "    <tr>\n",
       "      <th>2</th>\n",
       "      <td>1</td>\n",
       "      <td>27</td>\n",
       "      <td>A</td>\n",
       "      <td>1940.0</td>\n",
       "      <td>1037.277778</td>\n",
       "      <td>1.0</td>\n",
       "      <td>1</td>\n",
       "      <td>4</td>\n",
       "    </tr>\n",
       "    <tr>\n",
       "      <th>3</th>\n",
       "      <td>1</td>\n",
       "      <td>30</td>\n",
       "      <td>A</td>\n",
       "      <td>1109.0</td>\n",
       "      <td>1014.222222</td>\n",
       "      <td>1.0</td>\n",
       "      <td>1</td>\n",
       "      <td>13</td>\n",
       "    </tr>\n",
       "    <tr>\n",
       "      <th>4</th>\n",
       "      <td>1</td>\n",
       "      <td>34</td>\n",
       "      <td>A</td>\n",
       "      <td>896.0</td>\n",
       "      <td>1197.944444</td>\n",
       "      <td>1.0</td>\n",
       "      <td>1</td>\n",
       "      <td>10</td>\n",
       "    </tr>\n",
       "    <tr>\n",
       "      <th>...</th>\n",
       "      <td>...</td>\n",
       "      <td>...</td>\n",
       "      <td>...</td>\n",
       "      <td>...</td>\n",
       "      <td>...</td>\n",
       "      <td>...</td>\n",
       "      <td>...</td>\n",
       "      <td>...</td>\n",
       "    </tr>\n",
       "    <tr>\n",
       "      <th>15021</th>\n",
       "      <td>22</td>\n",
       "      <td>6578</td>\n",
       "      <td>C</td>\n",
       "      <td>1448.0</td>\n",
       "      <td>1176.833333</td>\n",
       "      <td>1.0</td>\n",
       "      <td>1</td>\n",
       "      <td>1</td>\n",
       "    </tr>\n",
       "    <tr>\n",
       "      <th>15022</th>\n",
       "      <td>22</td>\n",
       "      <td>6583</td>\n",
       "      <td>C</td>\n",
       "      <td>1228.0</td>\n",
       "      <td>1204.944444</td>\n",
       "      <td>1.0</td>\n",
       "      <td>1</td>\n",
       "      <td>8</td>\n",
       "    </tr>\n",
       "    <tr>\n",
       "      <th>15023</th>\n",
       "      <td>22</td>\n",
       "      <td>6615</td>\n",
       "      <td>C</td>\n",
       "      <td>2388.0</td>\n",
       "      <td>994.055556</td>\n",
       "      <td>1.0</td>\n",
       "      <td>1</td>\n",
       "      <td>4</td>\n",
       "    </tr>\n",
       "    <tr>\n",
       "      <th>15024</th>\n",
       "      <td>22</td>\n",
       "      <td>6705</td>\n",
       "      <td>C</td>\n",
       "      <td>1438.0</td>\n",
       "      <td>1050.888889</td>\n",
       "      <td>1.0</td>\n",
       "      <td>1</td>\n",
       "      <td>3</td>\n",
       "    </tr>\n",
       "    <tr>\n",
       "      <th>15025</th>\n",
       "      <td>22</td>\n",
       "      <td>6716</td>\n",
       "      <td>C</td>\n",
       "      <td>1596.0</td>\n",
       "      <td>1019.722222</td>\n",
       "      <td>1.0</td>\n",
       "      <td>1</td>\n",
       "      <td>13</td>\n",
       "    </tr>\n",
       "  </tbody>\n",
       "</table>\n",
       "<p>15026 rows × 8 columns</p>\n",
       "</div>"
      ],
      "text/plain": [
       "       FOV  cell_ID Timepoint  Size (pixels)  CD34_median  Passed_QC  \\\n",
       "0        1        2         A         1122.0   928.333333        1.0   \n",
       "1        1       12         A         1493.0  1334.777778        1.0   \n",
       "2        1       27         A         1940.0  1037.277778        1.0   \n",
       "3        1       30         A         1109.0  1014.222222        1.0   \n",
       "4        1       34         A          896.0  1197.944444        1.0   \n",
       "...    ...      ...       ...            ...          ...        ...   \n",
       "15021   22     6578         C         1448.0  1176.833333        1.0   \n",
       "15022   22     6583         C         1228.0  1204.944444        1.0   \n",
       "15023   22     6615         C         2388.0   994.055556        1.0   \n",
       "15024   22     6705         C         1438.0  1050.888889        1.0   \n",
       "15025   22     6716         C         1596.0  1019.722222        1.0   \n",
       "\n",
       "       PhenoGraph_clusters_round_1  PhenoGraph_clusters  \n",
       "0                                1                    2  \n",
       "1                                1                    0  \n",
       "2                                1                    4  \n",
       "3                                1                   13  \n",
       "4                                1                   10  \n",
       "...                            ...                  ...  \n",
       "15021                            1                    1  \n",
       "15022                            1                    8  \n",
       "15023                            1                    4  \n",
       "15024                            1                    3  \n",
       "15025                            1                   13  \n",
       "\n",
       "[15026 rows x 8 columns]"
      ]
     },
     "execution_count": 6,
     "metadata": {},
     "output_type": "execute_result"
    }
   ],
   "source": [
    "morph_predicted = morph_predicted.drop(columns=[\"Unnamed: 0\"])\n",
    "morph_predicted"
   ]
  },
  {
   "cell_type": "code",
   "execution_count": 7,
   "id": "722bac83",
   "metadata": {},
   "outputs": [
    {
     "name": "stderr",
     "output_type": "stream",
     "text": [
      "/tmp/ipykernel_1930568/2558848885.py:3: SettingWithCopyWarning: \n",
      "A value is trying to be set on a copy of a slice from a DataFrame\n",
      "\n",
      "See the caveats in the documentation: https://pandas.pydata.org/pandas-docs/stable/user_guide/indexing.html#returning-a-view-versus-a-copy\n",
      "  morph_predicted['Lk_cell'][morph_predicted['PhenoGraph_clusters'].isin([0,1,5,10])] = 1\n"
     ]
    },
    {
     "data": {
      "text/html": [
       "<div>\n",
       "<style scoped>\n",
       "    .dataframe tbody tr th:only-of-type {\n",
       "        vertical-align: middle;\n",
       "    }\n",
       "\n",
       "    .dataframe tbody tr th {\n",
       "        vertical-align: top;\n",
       "    }\n",
       "\n",
       "    .dataframe thead th {\n",
       "        text-align: right;\n",
       "    }\n",
       "</style>\n",
       "<table border=\"1\" class=\"dataframe\">\n",
       "  <thead>\n",
       "    <tr style=\"text-align: right;\">\n",
       "      <th></th>\n",
       "      <th>FOV</th>\n",
       "      <th>cell_ID</th>\n",
       "      <th>Timepoint</th>\n",
       "      <th>Size (pixels)</th>\n",
       "      <th>CD34_median</th>\n",
       "      <th>Passed_QC</th>\n",
       "      <th>PhenoGraph_clusters_round_1</th>\n",
       "      <th>PhenoGraph_clusters</th>\n",
       "      <th>Lk_cell</th>\n",
       "    </tr>\n",
       "  </thead>\n",
       "  <tbody>\n",
       "    <tr>\n",
       "      <th>0</th>\n",
       "      <td>1</td>\n",
       "      <td>2</td>\n",
       "      <td>A</td>\n",
       "      <td>1122.0</td>\n",
       "      <td>928.333333</td>\n",
       "      <td>1.0</td>\n",
       "      <td>1</td>\n",
       "      <td>2</td>\n",
       "      <td>0</td>\n",
       "    </tr>\n",
       "    <tr>\n",
       "      <th>1</th>\n",
       "      <td>1</td>\n",
       "      <td>12</td>\n",
       "      <td>A</td>\n",
       "      <td>1493.0</td>\n",
       "      <td>1334.777778</td>\n",
       "      <td>1.0</td>\n",
       "      <td>1</td>\n",
       "      <td>0</td>\n",
       "      <td>1</td>\n",
       "    </tr>\n",
       "    <tr>\n",
       "      <th>2</th>\n",
       "      <td>1</td>\n",
       "      <td>27</td>\n",
       "      <td>A</td>\n",
       "      <td>1940.0</td>\n",
       "      <td>1037.277778</td>\n",
       "      <td>1.0</td>\n",
       "      <td>1</td>\n",
       "      <td>4</td>\n",
       "      <td>0</td>\n",
       "    </tr>\n",
       "    <tr>\n",
       "      <th>3</th>\n",
       "      <td>1</td>\n",
       "      <td>30</td>\n",
       "      <td>A</td>\n",
       "      <td>1109.0</td>\n",
       "      <td>1014.222222</td>\n",
       "      <td>1.0</td>\n",
       "      <td>1</td>\n",
       "      <td>13</td>\n",
       "      <td>0</td>\n",
       "    </tr>\n",
       "    <tr>\n",
       "      <th>4</th>\n",
       "      <td>1</td>\n",
       "      <td>34</td>\n",
       "      <td>A</td>\n",
       "      <td>896.0</td>\n",
       "      <td>1197.944444</td>\n",
       "      <td>1.0</td>\n",
       "      <td>1</td>\n",
       "      <td>10</td>\n",
       "      <td>1</td>\n",
       "    </tr>\n",
       "    <tr>\n",
       "      <th>...</th>\n",
       "      <td>...</td>\n",
       "      <td>...</td>\n",
       "      <td>...</td>\n",
       "      <td>...</td>\n",
       "      <td>...</td>\n",
       "      <td>...</td>\n",
       "      <td>...</td>\n",
       "      <td>...</td>\n",
       "      <td>...</td>\n",
       "    </tr>\n",
       "    <tr>\n",
       "      <th>15021</th>\n",
       "      <td>22</td>\n",
       "      <td>6578</td>\n",
       "      <td>C</td>\n",
       "      <td>1448.0</td>\n",
       "      <td>1176.833333</td>\n",
       "      <td>1.0</td>\n",
       "      <td>1</td>\n",
       "      <td>1</td>\n",
       "      <td>1</td>\n",
       "    </tr>\n",
       "    <tr>\n",
       "      <th>15022</th>\n",
       "      <td>22</td>\n",
       "      <td>6583</td>\n",
       "      <td>C</td>\n",
       "      <td>1228.0</td>\n",
       "      <td>1204.944444</td>\n",
       "      <td>1.0</td>\n",
       "      <td>1</td>\n",
       "      <td>8</td>\n",
       "      <td>0</td>\n",
       "    </tr>\n",
       "    <tr>\n",
       "      <th>15023</th>\n",
       "      <td>22</td>\n",
       "      <td>6615</td>\n",
       "      <td>C</td>\n",
       "      <td>2388.0</td>\n",
       "      <td>994.055556</td>\n",
       "      <td>1.0</td>\n",
       "      <td>1</td>\n",
       "      <td>4</td>\n",
       "      <td>0</td>\n",
       "    </tr>\n",
       "    <tr>\n",
       "      <th>15024</th>\n",
       "      <td>22</td>\n",
       "      <td>6705</td>\n",
       "      <td>C</td>\n",
       "      <td>1438.0</td>\n",
       "      <td>1050.888889</td>\n",
       "      <td>1.0</td>\n",
       "      <td>1</td>\n",
       "      <td>3</td>\n",
       "      <td>0</td>\n",
       "    </tr>\n",
       "    <tr>\n",
       "      <th>15025</th>\n",
       "      <td>22</td>\n",
       "      <td>6716</td>\n",
       "      <td>C</td>\n",
       "      <td>1596.0</td>\n",
       "      <td>1019.722222</td>\n",
       "      <td>1.0</td>\n",
       "      <td>1</td>\n",
       "      <td>13</td>\n",
       "      <td>0</td>\n",
       "    </tr>\n",
       "  </tbody>\n",
       "</table>\n",
       "<p>15026 rows × 9 columns</p>\n",
       "</div>"
      ],
      "text/plain": [
       "       FOV  cell_ID Timepoint  Size (pixels)  CD34_median  Passed_QC  \\\n",
       "0        1        2         A         1122.0   928.333333        1.0   \n",
       "1        1       12         A         1493.0  1334.777778        1.0   \n",
       "2        1       27         A         1940.0  1037.277778        1.0   \n",
       "3        1       30         A         1109.0  1014.222222        1.0   \n",
       "4        1       34         A          896.0  1197.944444        1.0   \n",
       "...    ...      ...       ...            ...          ...        ...   \n",
       "15021   22     6578         C         1448.0  1176.833333        1.0   \n",
       "15022   22     6583         C         1228.0  1204.944444        1.0   \n",
       "15023   22     6615         C         2388.0   994.055556        1.0   \n",
       "15024   22     6705         C         1438.0  1050.888889        1.0   \n",
       "15025   22     6716         C         1596.0  1019.722222        1.0   \n",
       "\n",
       "       PhenoGraph_clusters_round_1  PhenoGraph_clusters  Lk_cell  \n",
       "0                                1                    2        0  \n",
       "1                                1                    0        1  \n",
       "2                                1                    4        0  \n",
       "3                                1                   13        0  \n",
       "4                                1                   10        1  \n",
       "...                            ...                  ...      ...  \n",
       "15021                            1                    1        1  \n",
       "15022                            1                    8        0  \n",
       "15023                            1                    4        0  \n",
       "15024                            1                    3        0  \n",
       "15025                            1                   13        0  \n",
       "\n",
       "[15026 rows x 9 columns]"
      ]
     },
     "execution_count": 7,
     "metadata": {},
     "output_type": "execute_result"
    }
   ],
   "source": [
    "# add col to indicate if cell is predicted CD34+ lk cell\n",
    "morph_predicted['Lk_cell'] = 0\n",
    "morph_predicted['Lk_cell'][morph_predicted['PhenoGraph_clusters'].isin([0,1,5,10])] = 1\n",
    "morph_predicted"
   ]
  },
  {
   "cell_type": "code",
   "execution_count": 8,
   "id": "4fd3ba89",
   "metadata": {},
   "outputs": [
    {
     "data": {
      "text/html": [
       "<div>\n",
       "<style scoped>\n",
       "    .dataframe tbody tr th:only-of-type {\n",
       "        vertical-align: middle;\n",
       "    }\n",
       "\n",
       "    .dataframe tbody tr th {\n",
       "        vertical-align: top;\n",
       "    }\n",
       "\n",
       "    .dataframe thead th {\n",
       "        text-align: right;\n",
       "    }\n",
       "</style>\n",
       "<table border=\"1\" class=\"dataframe\">\n",
       "  <thead>\n",
       "    <tr style=\"text-align: right;\">\n",
       "      <th></th>\n",
       "      <th>FOV</th>\n",
       "      <th>cell_ID</th>\n",
       "      <th>Timepoint</th>\n",
       "      <th>Size (pixels)</th>\n",
       "      <th>CD34_median</th>\n",
       "      <th>Passed_QC</th>\n",
       "      <th>PhenoGraph_clusters_round_1</th>\n",
       "      <th>PhenoGraph_clusters</th>\n",
       "      <th>Lk_cell</th>\n",
       "    </tr>\n",
       "  </thead>\n",
       "  <tbody>\n",
       "    <tr>\n",
       "      <th>1</th>\n",
       "      <td>1</td>\n",
       "      <td>12</td>\n",
       "      <td>A</td>\n",
       "      <td>1493.0</td>\n",
       "      <td>1334.777778</td>\n",
       "      <td>1.0</td>\n",
       "      <td>1</td>\n",
       "      <td>0</td>\n",
       "      <td>1</td>\n",
       "    </tr>\n",
       "    <tr>\n",
       "      <th>4</th>\n",
       "      <td>1</td>\n",
       "      <td>34</td>\n",
       "      <td>A</td>\n",
       "      <td>896.0</td>\n",
       "      <td>1197.944444</td>\n",
       "      <td>1.0</td>\n",
       "      <td>1</td>\n",
       "      <td>10</td>\n",
       "      <td>1</td>\n",
       "    </tr>\n",
       "    <tr>\n",
       "      <th>7</th>\n",
       "      <td>1</td>\n",
       "      <td>45</td>\n",
       "      <td>A</td>\n",
       "      <td>1893.0</td>\n",
       "      <td>1048.777778</td>\n",
       "      <td>1.0</td>\n",
       "      <td>1</td>\n",
       "      <td>1</td>\n",
       "      <td>1</td>\n",
       "    </tr>\n",
       "    <tr>\n",
       "      <th>23</th>\n",
       "      <td>1</td>\n",
       "      <td>231</td>\n",
       "      <td>A</td>\n",
       "      <td>1540.0</td>\n",
       "      <td>1214.944444</td>\n",
       "      <td>1.0</td>\n",
       "      <td>1</td>\n",
       "      <td>1</td>\n",
       "      <td>1</td>\n",
       "    </tr>\n",
       "    <tr>\n",
       "      <th>27</th>\n",
       "      <td>1</td>\n",
       "      <td>267</td>\n",
       "      <td>A</td>\n",
       "      <td>2361.0</td>\n",
       "      <td>1146.000000</td>\n",
       "      <td>1.0</td>\n",
       "      <td>1</td>\n",
       "      <td>1</td>\n",
       "      <td>1</td>\n",
       "    </tr>\n",
       "    <tr>\n",
       "      <th>...</th>\n",
       "      <td>...</td>\n",
       "      <td>...</td>\n",
       "      <td>...</td>\n",
       "      <td>...</td>\n",
       "      <td>...</td>\n",
       "      <td>...</td>\n",
       "      <td>...</td>\n",
       "      <td>...</td>\n",
       "      <td>...</td>\n",
       "    </tr>\n",
       "    <tr>\n",
       "      <th>14975</th>\n",
       "      <td>22</td>\n",
       "      <td>5143</td>\n",
       "      <td>C</td>\n",
       "      <td>875.0</td>\n",
       "      <td>1284.555556</td>\n",
       "      <td>1.0</td>\n",
       "      <td>1</td>\n",
       "      <td>5</td>\n",
       "      <td>1</td>\n",
       "    </tr>\n",
       "    <tr>\n",
       "      <th>15008</th>\n",
       "      <td>22</td>\n",
       "      <td>6406</td>\n",
       "      <td>C</td>\n",
       "      <td>1604.0</td>\n",
       "      <td>1330.111111</td>\n",
       "      <td>1.0</td>\n",
       "      <td>1</td>\n",
       "      <td>0</td>\n",
       "      <td>1</td>\n",
       "    </tr>\n",
       "    <tr>\n",
       "      <th>15011</th>\n",
       "      <td>22</td>\n",
       "      <td>6487</td>\n",
       "      <td>C</td>\n",
       "      <td>1015.0</td>\n",
       "      <td>988.555556</td>\n",
       "      <td>1.0</td>\n",
       "      <td>1</td>\n",
       "      <td>1</td>\n",
       "      <td>1</td>\n",
       "    </tr>\n",
       "    <tr>\n",
       "      <th>15015</th>\n",
       "      <td>22</td>\n",
       "      <td>6531</td>\n",
       "      <td>C</td>\n",
       "      <td>2016.0</td>\n",
       "      <td>1098.555556</td>\n",
       "      <td>1.0</td>\n",
       "      <td>1</td>\n",
       "      <td>10</td>\n",
       "      <td>1</td>\n",
       "    </tr>\n",
       "    <tr>\n",
       "      <th>15021</th>\n",
       "      <td>22</td>\n",
       "      <td>6578</td>\n",
       "      <td>C</td>\n",
       "      <td>1448.0</td>\n",
       "      <td>1176.833333</td>\n",
       "      <td>1.0</td>\n",
       "      <td>1</td>\n",
       "      <td>1</td>\n",
       "      <td>1</td>\n",
       "    </tr>\n",
       "  </tbody>\n",
       "</table>\n",
       "<p>5005 rows × 9 columns</p>\n",
       "</div>"
      ],
      "text/plain": [
       "       FOV  cell_ID Timepoint  Size (pixels)  CD34_median  Passed_QC  \\\n",
       "1        1       12         A         1493.0  1334.777778        1.0   \n",
       "4        1       34         A          896.0  1197.944444        1.0   \n",
       "7        1       45         A         1893.0  1048.777778        1.0   \n",
       "23       1      231         A         1540.0  1214.944444        1.0   \n",
       "27       1      267         A         2361.0  1146.000000        1.0   \n",
       "...    ...      ...       ...            ...          ...        ...   \n",
       "14975   22     5143         C          875.0  1284.555556        1.0   \n",
       "15008   22     6406         C         1604.0  1330.111111        1.0   \n",
       "15011   22     6487         C         1015.0   988.555556        1.0   \n",
       "15015   22     6531         C         2016.0  1098.555556        1.0   \n",
       "15021   22     6578         C         1448.0  1176.833333        1.0   \n",
       "\n",
       "       PhenoGraph_clusters_round_1  PhenoGraph_clusters  Lk_cell  \n",
       "1                                1                    0        1  \n",
       "4                                1                   10        1  \n",
       "7                                1                    1        1  \n",
       "23                               1                    1        1  \n",
       "27                               1                    1        1  \n",
       "...                            ...                  ...      ...  \n",
       "14975                            1                    5        1  \n",
       "15008                            1                    0        1  \n",
       "15011                            1                    1        1  \n",
       "15015                            1                   10        1  \n",
       "15021                            1                    1        1  \n",
       "\n",
       "[5005 rows x 9 columns]"
      ]
     },
     "execution_count": 8,
     "metadata": {},
     "output_type": "execute_result"
    }
   ],
   "source": [
    "morph_predicted[morph_predicted['Lk_cell'] == 1]"
   ]
  },
  {
   "cell_type": "code",
   "execution_count": 9,
   "id": "eba3359d",
   "metadata": {},
   "outputs": [],
   "source": [
    "# save list of all patient's CD34+ cells\n",
    "pos_to_save = morph_predicted[morph_predicted['Lk_cell'] == 1][['FOV', 'cell_ID']]\n",
    "pos_to_save['Patient'] = patient"
   ]
  },
  {
   "cell_type": "markdown",
   "id": "1c3fcf5a",
   "metadata": {},
   "source": [
    "### Visualize all cells with cluster names, highlight likely Lk cells"
   ]
  },
  {
   "cell_type": "code",
   "execution_count": 23,
   "id": "b487cc18",
   "metadata": {
    "scrolled": true
   },
   "outputs": [
    {
     "name": "stdout",
     "output_type": "stream",
     "text": [
      "20220228_173209_S1_C902_P99_N99_F001_normalized.png\n",
      "20220228_173209_S1_C902_P99_N99_F001_normalized_cp_masks.tif\n"
     ]
    },
    {
     "name": "stderr",
     "output_type": "stream",
     "text": [
      "/tmp/ipykernel_2147583/1622947058.py:58: SettingWithCopyWarning: \n",
      "A value is trying to be set on a copy of a slice from a DataFrame.\n",
      "Try using .loc[row_indexer,col_indexer] = value instead\n",
      "\n",
      "See the caveats in the documentation: https://pandas.pydata.org/pandas-docs/stable/user_guide/indexing.html#returning-a-view-versus-a-copy\n",
      "  one_fov['cell_ID'] = one_fov['cell_ID'].astype(int)\n"
     ]
    },
    {
     "name": "stdout",
     "output_type": "stream",
     "text": [
      "20220228_173209_S1_C902_P99_N99_F002_normalized.png\n",
      "20220228_173209_S1_C902_P99_N99_F002_normalized_cp_masks.tif\n"
     ]
    },
    {
     "name": "stderr",
     "output_type": "stream",
     "text": [
      "/tmp/ipykernel_2147583/1622947058.py:58: SettingWithCopyWarning: \n",
      "A value is trying to be set on a copy of a slice from a DataFrame.\n",
      "Try using .loc[row_indexer,col_indexer] = value instead\n",
      "\n",
      "See the caveats in the documentation: https://pandas.pydata.org/pandas-docs/stable/user_guide/indexing.html#returning-a-view-versus-a-copy\n",
      "  one_fov['cell_ID'] = one_fov['cell_ID'].astype(int)\n"
     ]
    },
    {
     "name": "stdout",
     "output_type": "stream",
     "text": [
      "20220228_173209_S1_C902_P99_N99_F003_normalized.png\n",
      "20220228_173209_S1_C902_P99_N99_F003_normalized_cp_masks.tif\n"
     ]
    },
    {
     "name": "stderr",
     "output_type": "stream",
     "text": [
      "/tmp/ipykernel_2147583/1622947058.py:58: SettingWithCopyWarning: \n",
      "A value is trying to be set on a copy of a slice from a DataFrame.\n",
      "Try using .loc[row_indexer,col_indexer] = value instead\n",
      "\n",
      "See the caveats in the documentation: https://pandas.pydata.org/pandas-docs/stable/user_guide/indexing.html#returning-a-view-versus-a-copy\n",
      "  one_fov['cell_ID'] = one_fov['cell_ID'].astype(int)\n"
     ]
    },
    {
     "name": "stdout",
     "output_type": "stream",
     "text": [
      "20220228_173209_S1_C902_P99_N99_F004_normalized.png\n",
      "20220228_173209_S1_C902_P99_N99_F004_normalized_cp_masks.tif\n"
     ]
    },
    {
     "name": "stderr",
     "output_type": "stream",
     "text": [
      "/tmp/ipykernel_2147583/1622947058.py:58: SettingWithCopyWarning: \n",
      "A value is trying to be set on a copy of a slice from a DataFrame.\n",
      "Try using .loc[row_indexer,col_indexer] = value instead\n",
      "\n",
      "See the caveats in the documentation: https://pandas.pydata.org/pandas-docs/stable/user_guide/indexing.html#returning-a-view-versus-a-copy\n",
      "  one_fov['cell_ID'] = one_fov['cell_ID'].astype(int)\n"
     ]
    },
    {
     "name": "stdout",
     "output_type": "stream",
     "text": [
      "20220228_173209_S1_C902_P99_N99_F005_normalized.png\n",
      "20220228_173209_S1_C902_P99_N99_F005_normalized_cp_masks.tif\n"
     ]
    },
    {
     "name": "stderr",
     "output_type": "stream",
     "text": [
      "/tmp/ipykernel_2147583/1622947058.py:58: SettingWithCopyWarning: \n",
      "A value is trying to be set on a copy of a slice from a DataFrame.\n",
      "Try using .loc[row_indexer,col_indexer] = value instead\n",
      "\n",
      "See the caveats in the documentation: https://pandas.pydata.org/pandas-docs/stable/user_guide/indexing.html#returning-a-view-versus-a-copy\n",
      "  one_fov['cell_ID'] = one_fov['cell_ID'].astype(int)\n"
     ]
    },
    {
     "name": "stdout",
     "output_type": "stream",
     "text": [
      "20220228_173209_S1_C902_P99_N99_F006_normalized.png\n",
      "20220228_173209_S1_C902_P99_N99_F006_normalized_cp_masks.tif\n"
     ]
    },
    {
     "name": "stderr",
     "output_type": "stream",
     "text": [
      "/tmp/ipykernel_2147583/1622947058.py:58: SettingWithCopyWarning: \n",
      "A value is trying to be set on a copy of a slice from a DataFrame.\n",
      "Try using .loc[row_indexer,col_indexer] = value instead\n",
      "\n",
      "See the caveats in the documentation: https://pandas.pydata.org/pandas-docs/stable/user_guide/indexing.html#returning-a-view-versus-a-copy\n",
      "  one_fov['cell_ID'] = one_fov['cell_ID'].astype(int)\n"
     ]
    },
    {
     "name": "stdout",
     "output_type": "stream",
     "text": [
      "20220228_173209_S1_C902_P99_N99_F007_normalized.png\n",
      "20220228_173209_S1_C902_P99_N99_F007_normalized_cp_masks.tif\n"
     ]
    },
    {
     "name": "stderr",
     "output_type": "stream",
     "text": [
      "/tmp/ipykernel_2147583/1622947058.py:58: SettingWithCopyWarning: \n",
      "A value is trying to be set on a copy of a slice from a DataFrame.\n",
      "Try using .loc[row_indexer,col_indexer] = value instead\n",
      "\n",
      "See the caveats in the documentation: https://pandas.pydata.org/pandas-docs/stable/user_guide/indexing.html#returning-a-view-versus-a-copy\n",
      "  one_fov['cell_ID'] = one_fov['cell_ID'].astype(int)\n"
     ]
    },
    {
     "name": "stdout",
     "output_type": "stream",
     "text": [
      "20220228_173209_S1_C902_P99_N99_F008_normalized.png\n",
      "20220228_173209_S1_C902_P99_N99_F008_normalized_cp_masks.tif\n"
     ]
    },
    {
     "name": "stderr",
     "output_type": "stream",
     "text": [
      "/tmp/ipykernel_2147583/1622947058.py:58: SettingWithCopyWarning: \n",
      "A value is trying to be set on a copy of a slice from a DataFrame.\n",
      "Try using .loc[row_indexer,col_indexer] = value instead\n",
      "\n",
      "See the caveats in the documentation: https://pandas.pydata.org/pandas-docs/stable/user_guide/indexing.html#returning-a-view-versus-a-copy\n",
      "  one_fov['cell_ID'] = one_fov['cell_ID'].astype(int)\n"
     ]
    },
    {
     "name": "stdout",
     "output_type": "stream",
     "text": [
      "20220228_173209_S1_C902_P99_N99_F009_normalized.png\n",
      "20220228_173209_S1_C902_P99_N99_F009_normalized_cp_masks.tif\n"
     ]
    },
    {
     "name": "stderr",
     "output_type": "stream",
     "text": [
      "/tmp/ipykernel_2147583/1622947058.py:58: SettingWithCopyWarning: \n",
      "A value is trying to be set on a copy of a slice from a DataFrame.\n",
      "Try using .loc[row_indexer,col_indexer] = value instead\n",
      "\n",
      "See the caveats in the documentation: https://pandas.pydata.org/pandas-docs/stable/user_guide/indexing.html#returning-a-view-versus-a-copy\n",
      "  one_fov['cell_ID'] = one_fov['cell_ID'].astype(int)\n"
     ]
    },
    {
     "name": "stdout",
     "output_type": "stream",
     "text": [
      "20220228_173209_S1_C902_P99_N99_F010_normalized.png\n",
      "20220228_173209_S1_C902_P99_N99_F010_normalized_cp_masks.tif\n"
     ]
    },
    {
     "name": "stderr",
     "output_type": "stream",
     "text": [
      "/tmp/ipykernel_2147583/1622947058.py:58: SettingWithCopyWarning: \n",
      "A value is trying to be set on a copy of a slice from a DataFrame.\n",
      "Try using .loc[row_indexer,col_indexer] = value instead\n",
      "\n",
      "See the caveats in the documentation: https://pandas.pydata.org/pandas-docs/stable/user_guide/indexing.html#returning-a-view-versus-a-copy\n",
      "  one_fov['cell_ID'] = one_fov['cell_ID'].astype(int)\n"
     ]
    },
    {
     "name": "stdout",
     "output_type": "stream",
     "text": [
      "20220228_173209_S1_C902_P99_N99_F011_normalized.png\n",
      "20220228_173209_S1_C902_P99_N99_F011_normalized_cp_masks.tif\n"
     ]
    },
    {
     "name": "stderr",
     "output_type": "stream",
     "text": [
      "/tmp/ipykernel_2147583/1622947058.py:58: SettingWithCopyWarning: \n",
      "A value is trying to be set on a copy of a slice from a DataFrame.\n",
      "Try using .loc[row_indexer,col_indexer] = value instead\n",
      "\n",
      "See the caveats in the documentation: https://pandas.pydata.org/pandas-docs/stable/user_guide/indexing.html#returning-a-view-versus-a-copy\n",
      "  one_fov['cell_ID'] = one_fov['cell_ID'].astype(int)\n"
     ]
    },
    {
     "name": "stdout",
     "output_type": "stream",
     "text": [
      "20220228_173209_S1_C902_P99_N99_F012_normalized.png\n",
      "20220228_173209_S1_C902_P99_N99_F012_normalized_cp_masks.tif\n"
     ]
    },
    {
     "name": "stderr",
     "output_type": "stream",
     "text": [
      "/tmp/ipykernel_2147583/1622947058.py:58: SettingWithCopyWarning: \n",
      "A value is trying to be set on a copy of a slice from a DataFrame.\n",
      "Try using .loc[row_indexer,col_indexer] = value instead\n",
      "\n",
      "See the caveats in the documentation: https://pandas.pydata.org/pandas-docs/stable/user_guide/indexing.html#returning-a-view-versus-a-copy\n",
      "  one_fov['cell_ID'] = one_fov['cell_ID'].astype(int)\n"
     ]
    },
    {
     "name": "stdout",
     "output_type": "stream",
     "text": [
      "20220228_173209_S1_C902_P99_N99_F013_normalized.png\n",
      "20220228_173209_S1_C902_P99_N99_F013_normalized_cp_masks.tif\n"
     ]
    },
    {
     "name": "stderr",
     "output_type": "stream",
     "text": [
      "/tmp/ipykernel_2147583/1622947058.py:58: SettingWithCopyWarning: \n",
      "A value is trying to be set on a copy of a slice from a DataFrame.\n",
      "Try using .loc[row_indexer,col_indexer] = value instead\n",
      "\n",
      "See the caveats in the documentation: https://pandas.pydata.org/pandas-docs/stable/user_guide/indexing.html#returning-a-view-versus-a-copy\n",
      "  one_fov['cell_ID'] = one_fov['cell_ID'].astype(int)\n"
     ]
    },
    {
     "name": "stdout",
     "output_type": "stream",
     "text": [
      "20220228_173209_S1_C902_P99_N99_F014_normalized.png\n",
      "20220228_173209_S1_C902_P99_N99_F014_normalized_cp_masks.tif\n"
     ]
    },
    {
     "name": "stderr",
     "output_type": "stream",
     "text": [
      "/tmp/ipykernel_2147583/1622947058.py:58: SettingWithCopyWarning: \n",
      "A value is trying to be set on a copy of a slice from a DataFrame.\n",
      "Try using .loc[row_indexer,col_indexer] = value instead\n",
      "\n",
      "See the caveats in the documentation: https://pandas.pydata.org/pandas-docs/stable/user_guide/indexing.html#returning-a-view-versus-a-copy\n",
      "  one_fov['cell_ID'] = one_fov['cell_ID'].astype(int)\n"
     ]
    },
    {
     "name": "stdout",
     "output_type": "stream",
     "text": [
      "20220228_173209_S1_C902_P99_N99_F015_normalized.png\n",
      "20220228_173209_S1_C902_P99_N99_F015_normalized_cp_masks.tif\n"
     ]
    },
    {
     "name": "stderr",
     "output_type": "stream",
     "text": [
      "/tmp/ipykernel_2147583/1622947058.py:58: SettingWithCopyWarning: \n",
      "A value is trying to be set on a copy of a slice from a DataFrame.\n",
      "Try using .loc[row_indexer,col_indexer] = value instead\n",
      "\n",
      "See the caveats in the documentation: https://pandas.pydata.org/pandas-docs/stable/user_guide/indexing.html#returning-a-view-versus-a-copy\n",
      "  one_fov['cell_ID'] = one_fov['cell_ID'].astype(int)\n"
     ]
    },
    {
     "name": "stdout",
     "output_type": "stream",
     "text": [
      "20220228_173209_S1_C902_P99_N99_F016_normalized.png\n",
      "20220228_173209_S1_C902_P99_N99_F016_normalized_cp_masks.tif\n"
     ]
    },
    {
     "name": "stderr",
     "output_type": "stream",
     "text": [
      "/tmp/ipykernel_2147583/1622947058.py:58: SettingWithCopyWarning: \n",
      "A value is trying to be set on a copy of a slice from a DataFrame.\n",
      "Try using .loc[row_indexer,col_indexer] = value instead\n",
      "\n",
      "See the caveats in the documentation: https://pandas.pydata.org/pandas-docs/stable/user_guide/indexing.html#returning-a-view-versus-a-copy\n",
      "  one_fov['cell_ID'] = one_fov['cell_ID'].astype(int)\n"
     ]
    },
    {
     "name": "stdout",
     "output_type": "stream",
     "text": [
      "20220228_173209_S1_C902_P99_N99_F017_normalized.png\n",
      "20220228_173209_S1_C902_P99_N99_F017_normalized_cp_masks.tif\n"
     ]
    },
    {
     "name": "stderr",
     "output_type": "stream",
     "text": [
      "/tmp/ipykernel_2147583/1622947058.py:58: SettingWithCopyWarning: \n",
      "A value is trying to be set on a copy of a slice from a DataFrame.\n",
      "Try using .loc[row_indexer,col_indexer] = value instead\n",
      "\n",
      "See the caveats in the documentation: https://pandas.pydata.org/pandas-docs/stable/user_guide/indexing.html#returning-a-view-versus-a-copy\n",
      "  one_fov['cell_ID'] = one_fov['cell_ID'].astype(int)\n"
     ]
    },
    {
     "name": "stdout",
     "output_type": "stream",
     "text": [
      "20220228_173209_S1_C902_P99_N99_F018_normalized.png\n",
      "20220228_173209_S1_C902_P99_N99_F018_normalized_cp_masks.tif\n"
     ]
    },
    {
     "name": "stderr",
     "output_type": "stream",
     "text": [
      "/tmp/ipykernel_2147583/1622947058.py:58: SettingWithCopyWarning: \n",
      "A value is trying to be set on a copy of a slice from a DataFrame.\n",
      "Try using .loc[row_indexer,col_indexer] = value instead\n",
      "\n",
      "See the caveats in the documentation: https://pandas.pydata.org/pandas-docs/stable/user_guide/indexing.html#returning-a-view-versus-a-copy\n",
      "  one_fov['cell_ID'] = one_fov['cell_ID'].astype(int)\n"
     ]
    },
    {
     "name": "stdout",
     "output_type": "stream",
     "text": [
      "20220228_173209_S1_C902_P99_N99_F019_normalized.png\n",
      "20220228_173209_S1_C902_P99_N99_F019_normalized_cp_masks.tif\n"
     ]
    },
    {
     "name": "stderr",
     "output_type": "stream",
     "text": [
      "/tmp/ipykernel_2147583/1622947058.py:58: SettingWithCopyWarning: \n",
      "A value is trying to be set on a copy of a slice from a DataFrame.\n",
      "Try using .loc[row_indexer,col_indexer] = value instead\n",
      "\n",
      "See the caveats in the documentation: https://pandas.pydata.org/pandas-docs/stable/user_guide/indexing.html#returning-a-view-versus-a-copy\n",
      "  one_fov['cell_ID'] = one_fov['cell_ID'].astype(int)\n"
     ]
    },
    {
     "name": "stdout",
     "output_type": "stream",
     "text": [
      "20220228_173209_S1_C902_P99_N99_F020_normalized.png\n",
      "20220228_173209_S1_C902_P99_N99_F020_normalized_cp_masks.tif\n"
     ]
    },
    {
     "name": "stderr",
     "output_type": "stream",
     "text": [
      "/tmp/ipykernel_2147583/1622947058.py:58: SettingWithCopyWarning: \n",
      "A value is trying to be set on a copy of a slice from a DataFrame.\n",
      "Try using .loc[row_indexer,col_indexer] = value instead\n",
      "\n",
      "See the caveats in the documentation: https://pandas.pydata.org/pandas-docs/stable/user_guide/indexing.html#returning-a-view-versus-a-copy\n",
      "  one_fov['cell_ID'] = one_fov['cell_ID'].astype(int)\n"
     ]
    },
    {
     "name": "stdout",
     "output_type": "stream",
     "text": [
      "20220228_173209_S1_C902_P99_N99_F021_normalized.png\n",
      "20220228_173209_S1_C902_P99_N99_F021_normalized_cp_masks.tif\n"
     ]
    },
    {
     "name": "stderr",
     "output_type": "stream",
     "text": [
      "/tmp/ipykernel_2147583/1622947058.py:58: SettingWithCopyWarning: \n",
      "A value is trying to be set on a copy of a slice from a DataFrame.\n",
      "Try using .loc[row_indexer,col_indexer] = value instead\n",
      "\n",
      "See the caveats in the documentation: https://pandas.pydata.org/pandas-docs/stable/user_guide/indexing.html#returning-a-view-versus-a-copy\n",
      "  one_fov['cell_ID'] = one_fov['cell_ID'].astype(int)\n"
     ]
    },
    {
     "name": "stdout",
     "output_type": "stream",
     "text": [
      "20220228_173209_S1_C902_P99_N99_F022_normalized.png\n",
      "20220228_173209_S1_C902_P99_N99_F022_normalized_cp_masks.tif\n"
     ]
    },
    {
     "name": "stderr",
     "output_type": "stream",
     "text": [
      "/tmp/ipykernel_2147583/1622947058.py:58: SettingWithCopyWarning: \n",
      "A value is trying to be set on a copy of a slice from a DataFrame.\n",
      "Try using .loc[row_indexer,col_indexer] = value instead\n",
      "\n",
      "See the caveats in the documentation: https://pandas.pydata.org/pandas-docs/stable/user_guide/indexing.html#returning-a-view-versus-a-copy\n",
      "  one_fov['cell_ID'] = one_fov['cell_ID'].astype(int)\n"
     ]
    }
   ],
   "source": [
    "# create list of fovs\n",
    "fovs = list(set(morph_predicted['FOV'].tolist()))\n",
    "fovs.sort()\n",
    "    \n",
    "for fov in fovs:\n",
    "    \n",
    "    # subset FOV        \n",
    "    one_fov = morph_predicted[morph_predicted['FOV'] == fov]\n",
    "    \n",
    "    # Load img\n",
    "    location = img_dirs[patient]\n",
    "    dirlist = listdir(location)\n",
    "    dirlist.sort()\n",
    "    for item in dirlist:\n",
    "        if 'F0' + str(fov).zfill(2) in item:\n",
    "            img = cv2.imread(location + item)\n",
    "            print(item)\n",
    "            break\n",
    "            \n",
    "    # brighten image\n",
    "    # define the alpha and beta\n",
    "    alpha = 1.5 # Contrast control\n",
    "    beta = 35 # Brightness control\n",
    "\n",
    "    # call convertScaleAbs function\n",
    "    img = cv2.convertScaleAbs(img, alpha=alpha, beta=beta)\n",
    "\n",
    "    # Load masks\n",
    "    location = mask_dir\n",
    "    dirlist = listdir(location)\n",
    "    dirlist.sort()\n",
    "    for item in dirlist:\n",
    "        if 'F0' + str(fov).zfill(2) in item:\n",
    "            labels = tifffile.imread(location + item)\n",
    "            print(item)\n",
    "            break\n",
    "        elif 'FOV' + str(fov).zfill(2) in item:\n",
    "            labels = tifffile.imread(location + item)\n",
    "            print(item)\n",
    "            break\n",
    "\n",
    "    # get all mask values\n",
    "    fov_cells = np.unique(labels)\n",
    "    \n",
    "    # Load centroids\n",
    "    coords_dir = mask_dir + 'cell_centroids/'\n",
    "    dirlist = listdir(coords_dir)\n",
    "    dirlist.sort()\n",
    "    for item in dirlist:\n",
    "        if 'F0' + str(fov).zfill(2) in item:\n",
    "            centroids = pd.read_csv(coords_dir + item, index_col=0)\n",
    "            break\n",
    "        elif 'FOV' + str(fov).zfill(2) in item:\n",
    "            centroids = pd.read_csv(coords_dir + item, index_col=0)\n",
    "            break\n",
    "            \n",
    "    # merge prediction and centroid tables\n",
    "    one_fov['cell_ID'] = one_fov['cell_ID'].astype(int)\n",
    "    one_fov = one_fov.rename(columns={\"cell_ID\": \"label\"})\n",
    "                \n",
    "    combo = pd.merge(one_fov,centroids,left_on='label',right_on='label',how='left')\n",
    "    \n",
    "    # visualize all segmented cells\n",
    "    boundaries = segmentation.find_boundaries(labels, connectivity=1, mode='inner', background=0)\n",
    "    boundaries = boundaries.astype(int)\n",
    "    img[boundaries>0] = [255,255,0]\n",
    "    \n",
    "    # create list of CD34+ cells\n",
    "    pos_cells = combo[combo['Lk_cell'] == 1]['label'].tolist()\n",
    "    pos_cells = [int(i) for i in pos_cells]\n",
    "    # set all labels of other clusters to zero\n",
    "    labels_edited = labels.copy()\n",
    "    for cell in fov_cells:\n",
    "        if cell in pos_cells:\n",
    "            pass\n",
    "        else:\n",
    "            labels_edited[labels_edited == cell] = 0\n",
    "\n",
    "    # add colored outline\n",
    "    boundaries = segmentation.find_boundaries(labels_edited, connectivity=1, mode='thick', background=0)\n",
    "    boundaries = boundaries.astype(int)\n",
    "    img[boundaries>0] = [0,0,255]\n",
    "\n",
    "    # get unique phenograph clusters\n",
    "    clusters = list(set(combo['PhenoGraph_clusters'].tolist()))\n",
    "    \n",
    "    for cluster in clusters:\n",
    "\n",
    "        # create list of this cluster's cells\n",
    "        pos_cells_df = combo[combo['PhenoGraph_clusters'] == cluster]\n",
    "\n",
    "        for k in range(pos_cells_df.shape[0]):\n",
    "            img = cv2.putText(img, str(cluster), (int(pos_cells_df['x'].iloc[k]), int(pos_cells_df['y'].iloc[k])), cv2.FONT_HERSHEY_SIMPLEX, 0.5, [255,255,255], 2, cv2.LINE_AA)\n",
    "            \n",
    "    # save image\n",
    "    cv2.imwrite('CD34_subclusters_overlaid/' + patient + '_FOV' + str(fov).zfill(2) + '_CD34_subcluster.png', img)"
   ]
  },
  {
   "cell_type": "markdown",
   "id": "418662ef",
   "metadata": {},
   "source": [
    "## View calls on background-subtracted image"
   ]
  },
  {
   "cell_type": "code",
   "execution_count": 24,
   "id": "18efb226",
   "metadata": {},
   "outputs": [],
   "source": [
    "# create dictionary of directories for each patient\n",
    "img_dir = 'CD34_no_background/'"
   ]
  },
  {
   "cell_type": "code",
   "execution_count": 25,
   "id": "ffbbc2c6",
   "metadata": {
    "scrolled": true
   },
   "outputs": [
    {
     "name": "stdout",
     "output_type": "stream",
     "text": [
      "20220228_173209_S1_C902_P99_N99_F001_CD34_backgrndSub.png\n",
      "20220228_173209_S1_C902_P99_N99_F001_normalized_cp_masks.tif\n"
     ]
    },
    {
     "name": "stderr",
     "output_type": "stream",
     "text": [
      "/tmp/ipykernel_2147583/1217142737.py:51: SettingWithCopyWarning: \n",
      "A value is trying to be set on a copy of a slice from a DataFrame.\n",
      "Try using .loc[row_indexer,col_indexer] = value instead\n",
      "\n",
      "See the caveats in the documentation: https://pandas.pydata.org/pandas-docs/stable/user_guide/indexing.html#returning-a-view-versus-a-copy\n",
      "  one_fov['cell_ID'] = one_fov['cell_ID'].astype(int)\n"
     ]
    },
    {
     "name": "stdout",
     "output_type": "stream",
     "text": [
      "20220228_173209_S1_C902_P99_N99_F002_CD34_backgrndSub.png\n",
      "20220228_173209_S1_C902_P99_N99_F002_normalized_cp_masks.tif\n"
     ]
    },
    {
     "name": "stderr",
     "output_type": "stream",
     "text": [
      "/tmp/ipykernel_2147583/1217142737.py:51: SettingWithCopyWarning: \n",
      "A value is trying to be set on a copy of a slice from a DataFrame.\n",
      "Try using .loc[row_indexer,col_indexer] = value instead\n",
      "\n",
      "See the caveats in the documentation: https://pandas.pydata.org/pandas-docs/stable/user_guide/indexing.html#returning-a-view-versus-a-copy\n",
      "  one_fov['cell_ID'] = one_fov['cell_ID'].astype(int)\n"
     ]
    },
    {
     "name": "stdout",
     "output_type": "stream",
     "text": [
      "20220228_173209_S1_C902_P99_N99_F003_CD34_backgrndSub.png\n",
      "20220228_173209_S1_C902_P99_N99_F003_normalized_cp_masks.tif\n"
     ]
    },
    {
     "name": "stderr",
     "output_type": "stream",
     "text": [
      "/tmp/ipykernel_2147583/1217142737.py:51: SettingWithCopyWarning: \n",
      "A value is trying to be set on a copy of a slice from a DataFrame.\n",
      "Try using .loc[row_indexer,col_indexer] = value instead\n",
      "\n",
      "See the caveats in the documentation: https://pandas.pydata.org/pandas-docs/stable/user_guide/indexing.html#returning-a-view-versus-a-copy\n",
      "  one_fov['cell_ID'] = one_fov['cell_ID'].astype(int)\n"
     ]
    },
    {
     "name": "stdout",
     "output_type": "stream",
     "text": [
      "20220228_173209_S1_C902_P99_N99_F004_CD34_backgrndSub.png\n",
      "20220228_173209_S1_C902_P99_N99_F004_normalized_cp_masks.tif\n"
     ]
    },
    {
     "name": "stderr",
     "output_type": "stream",
     "text": [
      "/tmp/ipykernel_2147583/1217142737.py:51: SettingWithCopyWarning: \n",
      "A value is trying to be set on a copy of a slice from a DataFrame.\n",
      "Try using .loc[row_indexer,col_indexer] = value instead\n",
      "\n",
      "See the caveats in the documentation: https://pandas.pydata.org/pandas-docs/stable/user_guide/indexing.html#returning-a-view-versus-a-copy\n",
      "  one_fov['cell_ID'] = one_fov['cell_ID'].astype(int)\n"
     ]
    },
    {
     "name": "stdout",
     "output_type": "stream",
     "text": [
      "20220228_173209_S1_C902_P99_N99_F005_CD34_backgrndSub.png\n",
      "20220228_173209_S1_C902_P99_N99_F005_normalized_cp_masks.tif\n"
     ]
    },
    {
     "name": "stderr",
     "output_type": "stream",
     "text": [
      "/tmp/ipykernel_2147583/1217142737.py:51: SettingWithCopyWarning: \n",
      "A value is trying to be set on a copy of a slice from a DataFrame.\n",
      "Try using .loc[row_indexer,col_indexer] = value instead\n",
      "\n",
      "See the caveats in the documentation: https://pandas.pydata.org/pandas-docs/stable/user_guide/indexing.html#returning-a-view-versus-a-copy\n",
      "  one_fov['cell_ID'] = one_fov['cell_ID'].astype(int)\n"
     ]
    },
    {
     "name": "stdout",
     "output_type": "stream",
     "text": [
      "20220228_173209_S1_C902_P99_N99_F006_CD34_backgrndSub.png\n",
      "20220228_173209_S1_C902_P99_N99_F006_normalized_cp_masks.tif\n"
     ]
    },
    {
     "name": "stderr",
     "output_type": "stream",
     "text": [
      "/tmp/ipykernel_2147583/1217142737.py:51: SettingWithCopyWarning: \n",
      "A value is trying to be set on a copy of a slice from a DataFrame.\n",
      "Try using .loc[row_indexer,col_indexer] = value instead\n",
      "\n",
      "See the caveats in the documentation: https://pandas.pydata.org/pandas-docs/stable/user_guide/indexing.html#returning-a-view-versus-a-copy\n",
      "  one_fov['cell_ID'] = one_fov['cell_ID'].astype(int)\n"
     ]
    },
    {
     "name": "stdout",
     "output_type": "stream",
     "text": [
      "20220228_173209_S1_C902_P99_N99_F007_CD34_backgrndSub.png\n",
      "20220228_173209_S1_C902_P99_N99_F007_normalized_cp_masks.tif\n"
     ]
    },
    {
     "name": "stderr",
     "output_type": "stream",
     "text": [
      "/tmp/ipykernel_2147583/1217142737.py:51: SettingWithCopyWarning: \n",
      "A value is trying to be set on a copy of a slice from a DataFrame.\n",
      "Try using .loc[row_indexer,col_indexer] = value instead\n",
      "\n",
      "See the caveats in the documentation: https://pandas.pydata.org/pandas-docs/stable/user_guide/indexing.html#returning-a-view-versus-a-copy\n",
      "  one_fov['cell_ID'] = one_fov['cell_ID'].astype(int)\n"
     ]
    },
    {
     "name": "stdout",
     "output_type": "stream",
     "text": [
      "20220228_173209_S1_C902_P99_N99_F008_CD34_backgrndSub.png\n",
      "20220228_173209_S1_C902_P99_N99_F008_normalized_cp_masks.tif\n"
     ]
    },
    {
     "name": "stderr",
     "output_type": "stream",
     "text": [
      "/tmp/ipykernel_2147583/1217142737.py:51: SettingWithCopyWarning: \n",
      "A value is trying to be set on a copy of a slice from a DataFrame.\n",
      "Try using .loc[row_indexer,col_indexer] = value instead\n",
      "\n",
      "See the caveats in the documentation: https://pandas.pydata.org/pandas-docs/stable/user_guide/indexing.html#returning-a-view-versus-a-copy\n",
      "  one_fov['cell_ID'] = one_fov['cell_ID'].astype(int)\n"
     ]
    },
    {
     "name": "stdout",
     "output_type": "stream",
     "text": [
      "20220228_173209_S1_C902_P99_N99_F009_CD34_backgrndSub.png\n",
      "20220228_173209_S1_C902_P99_N99_F009_normalized_cp_masks.tif\n"
     ]
    },
    {
     "name": "stderr",
     "output_type": "stream",
     "text": [
      "/tmp/ipykernel_2147583/1217142737.py:51: SettingWithCopyWarning: \n",
      "A value is trying to be set on a copy of a slice from a DataFrame.\n",
      "Try using .loc[row_indexer,col_indexer] = value instead\n",
      "\n",
      "See the caveats in the documentation: https://pandas.pydata.org/pandas-docs/stable/user_guide/indexing.html#returning-a-view-versus-a-copy\n",
      "  one_fov['cell_ID'] = one_fov['cell_ID'].astype(int)\n"
     ]
    },
    {
     "name": "stdout",
     "output_type": "stream",
     "text": [
      "20220228_173209_S1_C902_P99_N99_F010_CD34_backgrndSub.png\n",
      "20220228_173209_S1_C902_P99_N99_F010_normalized_cp_masks.tif\n"
     ]
    },
    {
     "name": "stderr",
     "output_type": "stream",
     "text": [
      "/tmp/ipykernel_2147583/1217142737.py:51: SettingWithCopyWarning: \n",
      "A value is trying to be set on a copy of a slice from a DataFrame.\n",
      "Try using .loc[row_indexer,col_indexer] = value instead\n",
      "\n",
      "See the caveats in the documentation: https://pandas.pydata.org/pandas-docs/stable/user_guide/indexing.html#returning-a-view-versus-a-copy\n",
      "  one_fov['cell_ID'] = one_fov['cell_ID'].astype(int)\n"
     ]
    },
    {
     "name": "stdout",
     "output_type": "stream",
     "text": [
      "20220228_173209_S1_C902_P99_N99_F011_CD34_backgrndSub.png\n",
      "20220228_173209_S1_C902_P99_N99_F011_normalized_cp_masks.tif\n"
     ]
    },
    {
     "name": "stderr",
     "output_type": "stream",
     "text": [
      "/tmp/ipykernel_2147583/1217142737.py:51: SettingWithCopyWarning: \n",
      "A value is trying to be set on a copy of a slice from a DataFrame.\n",
      "Try using .loc[row_indexer,col_indexer] = value instead\n",
      "\n",
      "See the caveats in the documentation: https://pandas.pydata.org/pandas-docs/stable/user_guide/indexing.html#returning-a-view-versus-a-copy\n",
      "  one_fov['cell_ID'] = one_fov['cell_ID'].astype(int)\n"
     ]
    },
    {
     "name": "stdout",
     "output_type": "stream",
     "text": [
      "20220228_173209_S1_C902_P99_N99_F012_CD34_backgrndSub.png\n",
      "20220228_173209_S1_C902_P99_N99_F012_normalized_cp_masks.tif\n"
     ]
    },
    {
     "name": "stderr",
     "output_type": "stream",
     "text": [
      "/tmp/ipykernel_2147583/1217142737.py:51: SettingWithCopyWarning: \n",
      "A value is trying to be set on a copy of a slice from a DataFrame.\n",
      "Try using .loc[row_indexer,col_indexer] = value instead\n",
      "\n",
      "See the caveats in the documentation: https://pandas.pydata.org/pandas-docs/stable/user_guide/indexing.html#returning-a-view-versus-a-copy\n",
      "  one_fov['cell_ID'] = one_fov['cell_ID'].astype(int)\n"
     ]
    },
    {
     "name": "stdout",
     "output_type": "stream",
     "text": [
      "20220228_173209_S1_C902_P99_N99_F013_CD34_backgrndSub.png\n",
      "20220228_173209_S1_C902_P99_N99_F013_normalized_cp_masks.tif\n"
     ]
    },
    {
     "name": "stderr",
     "output_type": "stream",
     "text": [
      "/tmp/ipykernel_2147583/1217142737.py:51: SettingWithCopyWarning: \n",
      "A value is trying to be set on a copy of a slice from a DataFrame.\n",
      "Try using .loc[row_indexer,col_indexer] = value instead\n",
      "\n",
      "See the caveats in the documentation: https://pandas.pydata.org/pandas-docs/stable/user_guide/indexing.html#returning-a-view-versus-a-copy\n",
      "  one_fov['cell_ID'] = one_fov['cell_ID'].astype(int)\n"
     ]
    },
    {
     "name": "stdout",
     "output_type": "stream",
     "text": [
      "20220228_173209_S1_C902_P99_N99_F014_CD34_backgrndSub.png\n",
      "20220228_173209_S1_C902_P99_N99_F014_normalized_cp_masks.tif\n"
     ]
    },
    {
     "name": "stderr",
     "output_type": "stream",
     "text": [
      "/tmp/ipykernel_2147583/1217142737.py:51: SettingWithCopyWarning: \n",
      "A value is trying to be set on a copy of a slice from a DataFrame.\n",
      "Try using .loc[row_indexer,col_indexer] = value instead\n",
      "\n",
      "See the caveats in the documentation: https://pandas.pydata.org/pandas-docs/stable/user_guide/indexing.html#returning-a-view-versus-a-copy\n",
      "  one_fov['cell_ID'] = one_fov['cell_ID'].astype(int)\n"
     ]
    },
    {
     "name": "stdout",
     "output_type": "stream",
     "text": [
      "20220228_173209_S1_C902_P99_N99_F015_CD34_backgrndSub.png\n",
      "20220228_173209_S1_C902_P99_N99_F015_normalized_cp_masks.tif\n"
     ]
    },
    {
     "name": "stderr",
     "output_type": "stream",
     "text": [
      "/tmp/ipykernel_2147583/1217142737.py:51: SettingWithCopyWarning: \n",
      "A value is trying to be set on a copy of a slice from a DataFrame.\n",
      "Try using .loc[row_indexer,col_indexer] = value instead\n",
      "\n",
      "See the caveats in the documentation: https://pandas.pydata.org/pandas-docs/stable/user_guide/indexing.html#returning-a-view-versus-a-copy\n",
      "  one_fov['cell_ID'] = one_fov['cell_ID'].astype(int)\n"
     ]
    },
    {
     "name": "stdout",
     "output_type": "stream",
     "text": [
      "20220228_173209_S1_C902_P99_N99_F016_CD34_backgrndSub.png\n",
      "20220228_173209_S1_C902_P99_N99_F016_normalized_cp_masks.tif\n"
     ]
    },
    {
     "name": "stderr",
     "output_type": "stream",
     "text": [
      "/tmp/ipykernel_2147583/1217142737.py:51: SettingWithCopyWarning: \n",
      "A value is trying to be set on a copy of a slice from a DataFrame.\n",
      "Try using .loc[row_indexer,col_indexer] = value instead\n",
      "\n",
      "See the caveats in the documentation: https://pandas.pydata.org/pandas-docs/stable/user_guide/indexing.html#returning-a-view-versus-a-copy\n",
      "  one_fov['cell_ID'] = one_fov['cell_ID'].astype(int)\n"
     ]
    },
    {
     "name": "stdout",
     "output_type": "stream",
     "text": [
      "20220228_173209_S1_C902_P99_N99_F017_CD34_backgrndSub.png\n",
      "20220228_173209_S1_C902_P99_N99_F017_normalized_cp_masks.tif\n"
     ]
    },
    {
     "name": "stderr",
     "output_type": "stream",
     "text": [
      "/tmp/ipykernel_2147583/1217142737.py:51: SettingWithCopyWarning: \n",
      "A value is trying to be set on a copy of a slice from a DataFrame.\n",
      "Try using .loc[row_indexer,col_indexer] = value instead\n",
      "\n",
      "See the caveats in the documentation: https://pandas.pydata.org/pandas-docs/stable/user_guide/indexing.html#returning-a-view-versus-a-copy\n",
      "  one_fov['cell_ID'] = one_fov['cell_ID'].astype(int)\n"
     ]
    },
    {
     "name": "stdout",
     "output_type": "stream",
     "text": [
      "20220228_173209_S1_C902_P99_N99_F018_CD34_backgrndSub.png\n",
      "20220228_173209_S1_C902_P99_N99_F018_normalized_cp_masks.tif\n"
     ]
    },
    {
     "name": "stderr",
     "output_type": "stream",
     "text": [
      "/tmp/ipykernel_2147583/1217142737.py:51: SettingWithCopyWarning: \n",
      "A value is trying to be set on a copy of a slice from a DataFrame.\n",
      "Try using .loc[row_indexer,col_indexer] = value instead\n",
      "\n",
      "See the caveats in the documentation: https://pandas.pydata.org/pandas-docs/stable/user_guide/indexing.html#returning-a-view-versus-a-copy\n",
      "  one_fov['cell_ID'] = one_fov['cell_ID'].astype(int)\n"
     ]
    },
    {
     "name": "stdout",
     "output_type": "stream",
     "text": [
      "20220228_173209_S1_C902_P99_N99_F019_CD34_backgrndSub.png\n",
      "20220228_173209_S1_C902_P99_N99_F019_normalized_cp_masks.tif\n"
     ]
    },
    {
     "name": "stderr",
     "output_type": "stream",
     "text": [
      "/tmp/ipykernel_2147583/1217142737.py:51: SettingWithCopyWarning: \n",
      "A value is trying to be set on a copy of a slice from a DataFrame.\n",
      "Try using .loc[row_indexer,col_indexer] = value instead\n",
      "\n",
      "See the caveats in the documentation: https://pandas.pydata.org/pandas-docs/stable/user_guide/indexing.html#returning-a-view-versus-a-copy\n",
      "  one_fov['cell_ID'] = one_fov['cell_ID'].astype(int)\n"
     ]
    },
    {
     "name": "stdout",
     "output_type": "stream",
     "text": [
      "20220228_173209_S1_C902_P99_N99_F020_CD34_backgrndSub.png\n",
      "20220228_173209_S1_C902_P99_N99_F020_normalized_cp_masks.tif\n"
     ]
    },
    {
     "name": "stderr",
     "output_type": "stream",
     "text": [
      "/tmp/ipykernel_2147583/1217142737.py:51: SettingWithCopyWarning: \n",
      "A value is trying to be set on a copy of a slice from a DataFrame.\n",
      "Try using .loc[row_indexer,col_indexer] = value instead\n",
      "\n",
      "See the caveats in the documentation: https://pandas.pydata.org/pandas-docs/stable/user_guide/indexing.html#returning-a-view-versus-a-copy\n",
      "  one_fov['cell_ID'] = one_fov['cell_ID'].astype(int)\n"
     ]
    },
    {
     "name": "stdout",
     "output_type": "stream",
     "text": [
      "20220228_173209_S1_C902_P99_N99_F021_CD34_backgrndSub.png\n",
      "20220228_173209_S1_C902_P99_N99_F021_normalized_cp_masks.tif\n"
     ]
    },
    {
     "name": "stderr",
     "output_type": "stream",
     "text": [
      "/tmp/ipykernel_2147583/1217142737.py:51: SettingWithCopyWarning: \n",
      "A value is trying to be set on a copy of a slice from a DataFrame.\n",
      "Try using .loc[row_indexer,col_indexer] = value instead\n",
      "\n",
      "See the caveats in the documentation: https://pandas.pydata.org/pandas-docs/stable/user_guide/indexing.html#returning-a-view-versus-a-copy\n",
      "  one_fov['cell_ID'] = one_fov['cell_ID'].astype(int)\n"
     ]
    },
    {
     "name": "stdout",
     "output_type": "stream",
     "text": [
      "20220228_173209_S1_C902_P99_N99_F022_CD34_backgrndSub.png\n",
      "20220228_173209_S1_C902_P99_N99_F022_normalized_cp_masks.tif\n"
     ]
    },
    {
     "name": "stderr",
     "output_type": "stream",
     "text": [
      "/tmp/ipykernel_2147583/1217142737.py:51: SettingWithCopyWarning: \n",
      "A value is trying to be set on a copy of a slice from a DataFrame.\n",
      "Try using .loc[row_indexer,col_indexer] = value instead\n",
      "\n",
      "See the caveats in the documentation: https://pandas.pydata.org/pandas-docs/stable/user_guide/indexing.html#returning-a-view-versus-a-copy\n",
      "  one_fov['cell_ID'] = one_fov['cell_ID'].astype(int)\n"
     ]
    }
   ],
   "source": [
    "# create list of fovs\n",
    "fovs = list(set(morph_predicted['FOV'].tolist()))\n",
    "fovs.sort()\n",
    "    \n",
    "for fov in fovs:\n",
    "    \n",
    "    # subset FOV        \n",
    "    one_fov = morph_predicted[morph_predicted['FOV'] == fov]\n",
    "    \n",
    "    # Load img\n",
    "    location = img_dir\n",
    "    dirlist = listdir(location)\n",
    "    dirlist.sort()\n",
    "    for item in dirlist:\n",
    "        if 'F0' + str(fov).zfill(2) in item:\n",
    "            img = cv2.imread(location + item)\n",
    "            #img = np.stack([img, img, img], axis=2)\n",
    "            print(item)\n",
    "            break\n",
    "\n",
    "    # Load masks\n",
    "    location = mask_dir\n",
    "    dirlist = listdir(location)\n",
    "    dirlist.sort()\n",
    "    for item in dirlist:\n",
    "        if 'F0' + str(fov).zfill(2) in item:\n",
    "            labels = tifffile.imread(location + item)\n",
    "            print(item)\n",
    "            break\n",
    "        elif 'FOV' + str(fov).zfill(2) in item:\n",
    "            labels = tifffile.imread(location + item)\n",
    "            print(item)\n",
    "            break\n",
    "\n",
    "    # get all mask values\n",
    "    fov_cells = np.unique(labels)\n",
    "    \n",
    "    # Load centroids\n",
    "    coords_dir = mask_dir + 'cell_centroids/'\n",
    "    dirlist = listdir(coords_dir)\n",
    "    dirlist.sort()\n",
    "    for item in dirlist:\n",
    "        if 'F0' + str(fov).zfill(2) in item:\n",
    "            centroids = pd.read_csv(coords_dir + item, index_col=0)\n",
    "            break\n",
    "        elif 'FOV' + str(fov).zfill(2) in item:\n",
    "            centroids = pd.read_csv(coords_dir + item, index_col=0)\n",
    "            break\n",
    "            \n",
    "    # merge prediction and centroid tables\n",
    "    one_fov['cell_ID'] = one_fov['cell_ID'].astype(int)\n",
    "    one_fov = one_fov.rename(columns={\"cell_ID\": \"label\"})\n",
    "                \n",
    "    combo = pd.merge(one_fov,centroids,left_on='label',right_on='label',how='left')\n",
    "    \n",
    "    # visualize all segmented cells\n",
    "    boundaries = segmentation.find_boundaries(labels, connectivity=1, mode='inner', background=0)\n",
    "    boundaries = boundaries.astype(int)\n",
    "    img[boundaries>0] = [255,255,0]\n",
    "    \n",
    "    # create list of CD34+ cells\n",
    "    pos_cells = combo[combo['Lk_cell'] == 1]['label'].tolist()\n",
    "    pos_cells = [int(i) for i in pos_cells]\n",
    "    # set all labels of other clusters to zero\n",
    "    labels_edited = labels.copy()\n",
    "    for cell in fov_cells:\n",
    "        if cell in pos_cells:\n",
    "            pass\n",
    "        else:\n",
    "            labels_edited[labels_edited == cell] = 0\n",
    "\n",
    "    # add colored outline\n",
    "    boundaries = segmentation.find_boundaries(labels_edited, connectivity=1, mode='thick', background=0)\n",
    "    boundaries = boundaries.astype(int)\n",
    "    img[boundaries>0] = [0,0,255]\n",
    "\n",
    "    # get unique phenograph clusters\n",
    "    clusters = list(set(combo['PhenoGraph_clusters'].tolist()))\n",
    "    \n",
    "    for cluster in clusters:\n",
    "\n",
    "        # create list of this cluster's cells\n",
    "        pos_cells_df = combo[combo['PhenoGraph_clusters'] == cluster]\n",
    "\n",
    "        for k in range(pos_cells_df.shape[0]):\n",
    "            img = cv2.putText(img, str(cluster), (int(pos_cells_df['x'].iloc[k]), int(pos_cells_df['y'].iloc[k])), cv2.FONT_HERSHEY_SIMPLEX, 0.5, [255,255,255], 2, cv2.LINE_AA)\n",
    "            \n",
    "    # save image\n",
    "    cv2.imwrite('CD34_subclusters_overlaid/' + patient + '_FOV' + str(fov).zfill(2) + '_backsubCD34_subcluster.png', img)"
   ]
  },
  {
   "cell_type": "code",
   "execution_count": 11,
   "id": "e0d788a8",
   "metadata": {},
   "outputs": [],
   "source": [
    "# save list of CD34+ lk cells\n",
    "pos_to_save.to_csv(patient + '_backsub_LkCells.csv', index=False)"
   ]
  },
  {
   "cell_type": "code",
   "execution_count": null,
   "id": "4fada70b",
   "metadata": {},
   "outputs": [],
   "source": []
  }
 ],
 "metadata": {
  "kernelspec": {
   "display_name": "snakemakePipeline",
   "language": "python",
   "name": "snakemakepipeline"
  },
  "language_info": {
   "codemirror_mode": {
    "name": "ipython",
    "version": 3
   },
   "file_extension": ".py",
   "mimetype": "text/x-python",
   "name": "python",
   "nbconvert_exporter": "python",
   "pygments_lexer": "ipython3",
   "version": "3.8.5"
  }
 },
 "nbformat": 4,
 "nbformat_minor": 5
}
