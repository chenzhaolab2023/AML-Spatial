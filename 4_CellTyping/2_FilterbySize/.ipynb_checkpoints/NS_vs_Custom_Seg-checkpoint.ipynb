{
 "cells": [
  {
   "cell_type": "markdown",
   "id": "93a7f480",
   "metadata": {},
   "source": [
    "# Compare cell size and reads per cell between default NS segmentation and trained model segmentation"
   ]
  },
  {
   "cell_type": "markdown",
   "id": "68a43332",
   "metadata": {},
   "source": [
    "#### This notebook summarizes reads per cell and cell size using custom segmentation and NS segmentation to directly compare them"
   ]
  },
  {
   "cell_type": "code",
   "execution_count": 1,
   "id": "cd2506ea",
   "metadata": {},
   "outputs": [],
   "source": [
    "import json\n",
    "import numpy as np\n",
    "from PIL import  Image\n",
    "import io\n",
    "import base64\n",
    "import zlib\n",
    "import cv2\n",
    "from string import Template\n",
    "import glob\n",
    "import os\n",
    "import tifffile\n",
    "import math\n",
    "from skimage import data, segmentation, util, measure\n",
    "import pandas as pd\n",
    "from os import listdir\n",
    "from os.path import isfile, join\n",
    "from matplotlib import pyplot as plt"
   ]
  },
  {
   "cell_type": "markdown",
   "id": "ea91ac0b",
   "metadata": {},
   "source": [
    "## Obtain area of each cell in pixels"
   ]
  },
  {
   "cell_type": "code",
   "execution_count": 2,
   "id": "77400bee",
   "metadata": {},
   "outputs": [],
   "source": [
    "patients = ['P51', 'P52', 'P53', 'P56', 'P57', 'P58']"
   ]
  },
  {
   "cell_type": "code",
   "execution_count": 3,
   "id": "949b88f5",
   "metadata": {},
   "outputs": [],
   "source": [
    "all_pts_dfs = []\n",
    "\n",
    "for patient in patients:\n",
    "\n",
    "    # loop through all mask files to get size of each cell\n",
    "    mask_dir = '/data/Zhaolab/1_AMLCosMx/Final_scripts/2_Segmentation/3_NucMemMerging/' + patient + '_hybrid/labels_predicted_2_15_24/'\n",
    "    masks = [f for f in listdir(mask_dir) if isfile(join(mask_dir, f))]\n",
    "    masks.sort()\n",
    "\n",
    "    all_fov_dfs = []\n",
    "\n",
    "    for i in range(len(masks)):\n",
    "\n",
    "        name = masks[i].replace('_normalized_cp_masks.tif', '')\n",
    "        fov = int(name[-2:])\n",
    "        # Read image and mask\n",
    "        mask = tifffile.imread(mask_dir + masks[i])\n",
    "\n",
    "        # Find centroid and area of each cell\n",
    "        label_image = mask.astype(int)\n",
    "        props = measure.regionprops_table(label_image,\n",
    "                                   properties=['label', 'area', 'centroid'])\n",
    "        data = pd.DataFrame(props)\n",
    "        data = data.rename(columns={\"centroid-0\": \"y\", \"centroid-1\": \"x\"}) # this was corrected\n",
    "        data['Patient'] = patient\n",
    "        data['FOV'] = fov\n",
    "        data['ID'] = data['Patient'] + '_FOV' + data['FOV'].astype(str).str.zfill(2) + '_cell_' + data['label'].astype(str)\n",
    "\n",
    "        all_fov_dfs.append(data)\n",
    "\n",
    "    # combine all cell size DFs from given patient    \n",
    "    AllPt_cells = pd.concat(all_fov_dfs)\n",
    "    AllPt_cells = AllPt_cells.set_index('ID')\n",
    "\n",
    "    # read in RBC labels from all 3 timepoints\n",
    "    tba = pd.read_csv('/data/Zhaolab/1_AMLCosMx/Final_scripts/4_CellTyping/1_IdentifyRBCs_2channel/' + patient + '/TPA/' + patient + 'A_RBCs.csv')\n",
    "    tbb = pd.read_csv('/data/Zhaolab/1_AMLCosMx/Final_scripts/4_CellTyping/1_IdentifyRBCs_2channel/' + patient + '/TPB/' + patient + 'B_RBCs.csv')\n",
    "    tbc = pd.read_csv('/data/Zhaolab/1_AMLCosMx/Final_scripts/4_CellTyping/1_IdentifyRBCs_2channel/' + patient + '/TPC/' + patient + 'C_RBCs.csv')\n",
    "    rbcs = pd.concat([tba, tbb, tbc], ignore_index=True)\n",
    "\n",
    "    # give each cell unique ID, set as index\n",
    "    rbcs['ID'] = rbcs['Patient'] + '_FOV' + rbcs['FOV'].astype(str).str.zfill(2) + '_cell_' + rbcs['cell_ID'].astype(str)\n",
    "    rbcs = rbcs.set_index('ID')\n",
    "\n",
    "    # add column to identify all cells as RBCs\n",
    "    rbcs['RBC'] = 1\n",
    "\n",
    "    # merge RBC DF with all cell DF (0 means not RBC, 1 means RBC)\n",
    "    AllPt_cells = AllPt_cells.merge(rbcs['RBC'], how='left', left_index=True, right_index=True)\n",
    "    AllPt_cells['RBC'] = AllPt_cells['RBC'].fillna(0)\n",
    "    AllPt_cells['RBC'] = AllPt_cells['RBC'].astype(int)\n",
    "    \n",
    "    # save single patient output to list\n",
    "    all_pts_dfs.append(AllPt_cells)"
   ]
  },
  {
   "cell_type": "code",
   "execution_count": 4,
   "id": "89c48f49",
   "metadata": {},
   "outputs": [
    {
     "data": {
      "text/html": [
       "<div>\n",
       "<style scoped>\n",
       "    .dataframe tbody tr th:only-of-type {\n",
       "        vertical-align: middle;\n",
       "    }\n",
       "\n",
       "    .dataframe tbody tr th {\n",
       "        vertical-align: top;\n",
       "    }\n",
       "\n",
       "    .dataframe thead th {\n",
       "        text-align: right;\n",
       "    }\n",
       "</style>\n",
       "<table border=\"1\" class=\"dataframe\">\n",
       "  <thead>\n",
       "    <tr style=\"text-align: right;\">\n",
       "      <th></th>\n",
       "      <th>label</th>\n",
       "      <th>area</th>\n",
       "      <th>y</th>\n",
       "      <th>x</th>\n",
       "      <th>Patient</th>\n",
       "      <th>FOV</th>\n",
       "      <th>RBC</th>\n",
       "    </tr>\n",
       "    <tr>\n",
       "      <th>ID</th>\n",
       "      <th></th>\n",
       "      <th></th>\n",
       "      <th></th>\n",
       "      <th></th>\n",
       "      <th></th>\n",
       "      <th></th>\n",
       "      <th></th>\n",
       "    </tr>\n",
       "  </thead>\n",
       "  <tbody>\n",
       "    <tr>\n",
       "      <th>P51_FOV01_cell_1</th>\n",
       "      <td>1</td>\n",
       "      <td>903</td>\n",
       "      <td>15.766334</td>\n",
       "      <td>74.070875</td>\n",
       "      <td>P51</td>\n",
       "      <td>1</td>\n",
       "      <td>0</td>\n",
       "    </tr>\n",
       "    <tr>\n",
       "      <th>P51_FOV01_cell_2</th>\n",
       "      <td>2</td>\n",
       "      <td>1122</td>\n",
       "      <td>14.835116</td>\n",
       "      <td>117.772727</td>\n",
       "      <td>P51</td>\n",
       "      <td>1</td>\n",
       "      <td>0</td>\n",
       "    </tr>\n",
       "    <tr>\n",
       "      <th>P51_FOV01_cell_3</th>\n",
       "      <td>3</td>\n",
       "      <td>2034</td>\n",
       "      <td>20.265487</td>\n",
       "      <td>218.211898</td>\n",
       "      <td>P51</td>\n",
       "      <td>1</td>\n",
       "      <td>0</td>\n",
       "    </tr>\n",
       "    <tr>\n",
       "      <th>P51_FOV01_cell_4</th>\n",
       "      <td>4</td>\n",
       "      <td>2534</td>\n",
       "      <td>41.141279</td>\n",
       "      <td>962.670481</td>\n",
       "      <td>P51</td>\n",
       "      <td>1</td>\n",
       "      <td>0</td>\n",
       "    </tr>\n",
       "    <tr>\n",
       "      <th>P51_FOV01_cell_5</th>\n",
       "      <td>5</td>\n",
       "      <td>1006</td>\n",
       "      <td>16.085487</td>\n",
       "      <td>1059.072565</td>\n",
       "      <td>P51</td>\n",
       "      <td>1</td>\n",
       "      <td>0</td>\n",
       "    </tr>\n",
       "    <tr>\n",
       "      <th>...</th>\n",
       "      <td>...</td>\n",
       "      <td>...</td>\n",
       "      <td>...</td>\n",
       "      <td>...</td>\n",
       "      <td>...</td>\n",
       "      <td>...</td>\n",
       "      <td>...</td>\n",
       "    </tr>\n",
       "    <tr>\n",
       "      <th>P58_FOV23_cell_7971</th>\n",
       "      <td>7971</td>\n",
       "      <td>596</td>\n",
       "      <td>3640.771812</td>\n",
       "      <td>4117.850671</td>\n",
       "      <td>P58</td>\n",
       "      <td>23</td>\n",
       "      <td>0</td>\n",
       "    </tr>\n",
       "    <tr>\n",
       "      <th>P58_FOV23_cell_7972</th>\n",
       "      <td>7972</td>\n",
       "      <td>359</td>\n",
       "      <td>3641.122563</td>\n",
       "      <td>4992.493036</td>\n",
       "      <td>P58</td>\n",
       "      <td>23</td>\n",
       "      <td>0</td>\n",
       "    </tr>\n",
       "    <tr>\n",
       "      <th>P58_FOV23_cell_7973</th>\n",
       "      <td>7973</td>\n",
       "      <td>188</td>\n",
       "      <td>3642.707447</td>\n",
       "      <td>3546.191489</td>\n",
       "      <td>P58</td>\n",
       "      <td>23</td>\n",
       "      <td>0</td>\n",
       "    </tr>\n",
       "    <tr>\n",
       "      <th>P58_FOV23_cell_7974</th>\n",
       "      <td>7974</td>\n",
       "      <td>323</td>\n",
       "      <td>3642.761610</td>\n",
       "      <td>3656.486068</td>\n",
       "      <td>P58</td>\n",
       "      <td>23</td>\n",
       "      <td>0</td>\n",
       "    </tr>\n",
       "    <tr>\n",
       "      <th>P58_FOV23_cell_7975</th>\n",
       "      <td>7975</td>\n",
       "      <td>303</td>\n",
       "      <td>3642.389439</td>\n",
       "      <td>4786.735974</td>\n",
       "      <td>P58</td>\n",
       "      <td>23</td>\n",
       "      <td>0</td>\n",
       "    </tr>\n",
       "  </tbody>\n",
       "</table>\n",
       "<p>630206 rows × 7 columns</p>\n",
       "</div>"
      ],
      "text/plain": [
       "                     label  area            y            x Patient  FOV  RBC\n",
       "ID                                                                          \n",
       "P51_FOV01_cell_1         1   903    15.766334    74.070875     P51    1    0\n",
       "P51_FOV01_cell_2         2  1122    14.835116   117.772727     P51    1    0\n",
       "P51_FOV01_cell_3         3  2034    20.265487   218.211898     P51    1    0\n",
       "P51_FOV01_cell_4         4  2534    41.141279   962.670481     P51    1    0\n",
       "P51_FOV01_cell_5         5  1006    16.085487  1059.072565     P51    1    0\n",
       "...                    ...   ...          ...          ...     ...  ...  ...\n",
       "P58_FOV23_cell_7971   7971   596  3640.771812  4117.850671     P58   23    0\n",
       "P58_FOV23_cell_7972   7972   359  3641.122563  4992.493036     P58   23    0\n",
       "P58_FOV23_cell_7973   7973   188  3642.707447  3546.191489     P58   23    0\n",
       "P58_FOV23_cell_7974   7974   323  3642.761610  3656.486068     P58   23    0\n",
       "P58_FOV23_cell_7975   7975   303  3642.389439  4786.735974     P58   23    0\n",
       "\n",
       "[630206 rows x 7 columns]"
      ]
     },
     "execution_count": 4,
     "metadata": {},
     "output_type": "execute_result"
    }
   ],
   "source": [
    "# concatenate into one table for all patients\n",
    "all_pt_data = pd.concat(all_pts_dfs)\n",
    "all_pt_data"
   ]
  },
  {
   "cell_type": "code",
   "execution_count": 5,
   "id": "1628f4e2",
   "metadata": {},
   "outputs": [
    {
     "data": {
      "text/plain": [
       "1423.0"
      ]
     },
     "execution_count": 5,
     "metadata": {},
     "output_type": "execute_result"
    }
   ],
   "source": [
    "# get median area of all segmented cells\n",
    "all_pt_data['area'].median()"
   ]
  },
  {
   "cell_type": "code",
   "execution_count": 6,
   "id": "e606161e",
   "metadata": {},
   "outputs": [
    {
     "data": {
      "text/plain": [
       "1487.0"
      ]
     },
     "execution_count": 6,
     "metadata": {},
     "output_type": "execute_result"
    }
   ],
   "source": [
    "# get median area of all segmented cells (NO RBCs)\n",
    "all_pt_data[all_pt_data['RBC'] == 0]['area'].median()"
   ]
  },
  {
   "cell_type": "markdown",
   "id": "8053671c",
   "metadata": {},
   "source": [
    "## Apply size filter"
   ]
  },
  {
   "cell_type": "code",
   "execution_count": 7,
   "id": "37733b7b",
   "metadata": {},
   "outputs": [],
   "source": [
    "cells_to_keep = all_pt_data[all_pt_data['area'] > 250]"
   ]
  },
  {
   "cell_type": "code",
   "execution_count": 8,
   "id": "b37e5470",
   "metadata": {},
   "outputs": [
    {
     "data": {
      "text/html": [
       "<div>\n",
       "<style scoped>\n",
       "    .dataframe tbody tr th:only-of-type {\n",
       "        vertical-align: middle;\n",
       "    }\n",
       "\n",
       "    .dataframe tbody tr th {\n",
       "        vertical-align: top;\n",
       "    }\n",
       "\n",
       "    .dataframe thead th {\n",
       "        text-align: right;\n",
       "    }\n",
       "</style>\n",
       "<table border=\"1\" class=\"dataframe\">\n",
       "  <thead>\n",
       "    <tr style=\"text-align: right;\">\n",
       "      <th></th>\n",
       "      <th>label</th>\n",
       "      <th>area</th>\n",
       "      <th>y</th>\n",
       "      <th>x</th>\n",
       "      <th>Patient</th>\n",
       "      <th>FOV</th>\n",
       "      <th>RBC</th>\n",
       "    </tr>\n",
       "    <tr>\n",
       "      <th>ID</th>\n",
       "      <th></th>\n",
       "      <th></th>\n",
       "      <th></th>\n",
       "      <th></th>\n",
       "      <th></th>\n",
       "      <th></th>\n",
       "      <th></th>\n",
       "    </tr>\n",
       "  </thead>\n",
       "  <tbody>\n",
       "    <tr>\n",
       "      <th>P51_FOV01_cell_1</th>\n",
       "      <td>1</td>\n",
       "      <td>903</td>\n",
       "      <td>15.766334</td>\n",
       "      <td>74.070875</td>\n",
       "      <td>P51</td>\n",
       "      <td>1</td>\n",
       "      <td>0</td>\n",
       "    </tr>\n",
       "    <tr>\n",
       "      <th>P51_FOV01_cell_2</th>\n",
       "      <td>2</td>\n",
       "      <td>1122</td>\n",
       "      <td>14.835116</td>\n",
       "      <td>117.772727</td>\n",
       "      <td>P51</td>\n",
       "      <td>1</td>\n",
       "      <td>0</td>\n",
       "    </tr>\n",
       "    <tr>\n",
       "      <th>P51_FOV01_cell_3</th>\n",
       "      <td>3</td>\n",
       "      <td>2034</td>\n",
       "      <td>20.265487</td>\n",
       "      <td>218.211898</td>\n",
       "      <td>P51</td>\n",
       "      <td>1</td>\n",
       "      <td>0</td>\n",
       "    </tr>\n",
       "    <tr>\n",
       "      <th>P51_FOV01_cell_4</th>\n",
       "      <td>4</td>\n",
       "      <td>2534</td>\n",
       "      <td>41.141279</td>\n",
       "      <td>962.670481</td>\n",
       "      <td>P51</td>\n",
       "      <td>1</td>\n",
       "      <td>0</td>\n",
       "    </tr>\n",
       "    <tr>\n",
       "      <th>P51_FOV01_cell_5</th>\n",
       "      <td>5</td>\n",
       "      <td>1006</td>\n",
       "      <td>16.085487</td>\n",
       "      <td>1059.072565</td>\n",
       "      <td>P51</td>\n",
       "      <td>1</td>\n",
       "      <td>0</td>\n",
       "    </tr>\n",
       "    <tr>\n",
       "      <th>...</th>\n",
       "      <td>...</td>\n",
       "      <td>...</td>\n",
       "      <td>...</td>\n",
       "      <td>...</td>\n",
       "      <td>...</td>\n",
       "      <td>...</td>\n",
       "      <td>...</td>\n",
       "    </tr>\n",
       "    <tr>\n",
       "      <th>P58_FOV23_cell_7966</th>\n",
       "      <td>7966</td>\n",
       "      <td>731</td>\n",
       "      <td>3638.218878</td>\n",
       "      <td>4327.127223</td>\n",
       "      <td>P58</td>\n",
       "      <td>23</td>\n",
       "      <td>0</td>\n",
       "    </tr>\n",
       "    <tr>\n",
       "      <th>P58_FOV23_cell_7971</th>\n",
       "      <td>7971</td>\n",
       "      <td>596</td>\n",
       "      <td>3640.771812</td>\n",
       "      <td>4117.850671</td>\n",
       "      <td>P58</td>\n",
       "      <td>23</td>\n",
       "      <td>0</td>\n",
       "    </tr>\n",
       "    <tr>\n",
       "      <th>P58_FOV23_cell_7972</th>\n",
       "      <td>7972</td>\n",
       "      <td>359</td>\n",
       "      <td>3641.122563</td>\n",
       "      <td>4992.493036</td>\n",
       "      <td>P58</td>\n",
       "      <td>23</td>\n",
       "      <td>0</td>\n",
       "    </tr>\n",
       "    <tr>\n",
       "      <th>P58_FOV23_cell_7974</th>\n",
       "      <td>7974</td>\n",
       "      <td>323</td>\n",
       "      <td>3642.761610</td>\n",
       "      <td>3656.486068</td>\n",
       "      <td>P58</td>\n",
       "      <td>23</td>\n",
       "      <td>0</td>\n",
       "    </tr>\n",
       "    <tr>\n",
       "      <th>P58_FOV23_cell_7975</th>\n",
       "      <td>7975</td>\n",
       "      <td>303</td>\n",
       "      <td>3642.389439</td>\n",
       "      <td>4786.735974</td>\n",
       "      <td>P58</td>\n",
       "      <td>23</td>\n",
       "      <td>0</td>\n",
       "    </tr>\n",
       "  </tbody>\n",
       "</table>\n",
       "<p>629051 rows × 7 columns</p>\n",
       "</div>"
      ],
      "text/plain": [
       "                     label  area            y            x Patient  FOV  RBC\n",
       "ID                                                                          \n",
       "P51_FOV01_cell_1         1   903    15.766334    74.070875     P51    1    0\n",
       "P51_FOV01_cell_2         2  1122    14.835116   117.772727     P51    1    0\n",
       "P51_FOV01_cell_3         3  2034    20.265487   218.211898     P51    1    0\n",
       "P51_FOV01_cell_4         4  2534    41.141279   962.670481     P51    1    0\n",
       "P51_FOV01_cell_5         5  1006    16.085487  1059.072565     P51    1    0\n",
       "...                    ...   ...          ...          ...     ...  ...  ...\n",
       "P58_FOV23_cell_7966   7966   731  3638.218878  4327.127223     P58   23    0\n",
       "P58_FOV23_cell_7971   7971   596  3640.771812  4117.850671     P58   23    0\n",
       "P58_FOV23_cell_7972   7972   359  3641.122563  4992.493036     P58   23    0\n",
       "P58_FOV23_cell_7974   7974   323  3642.761610  3656.486068     P58   23    0\n",
       "P58_FOV23_cell_7975   7975   303  3642.389439  4786.735974     P58   23    0\n",
       "\n",
       "[629051 rows x 7 columns]"
      ]
     },
     "execution_count": 8,
     "metadata": {},
     "output_type": "execute_result"
    }
   ],
   "source": [
    "cells_to_keep"
   ]
  },
  {
   "cell_type": "code",
   "execution_count": 9,
   "id": "19c91b29",
   "metadata": {},
   "outputs": [
    {
     "data": {
      "text/plain": [
       "1424.0"
      ]
     },
     "execution_count": 9,
     "metadata": {},
     "output_type": "execute_result"
    }
   ],
   "source": [
    "# get median area of all segmented cells\n",
    "cells_to_keep['area'].median()"
   ]
  },
  {
   "cell_type": "code",
   "execution_count": 10,
   "id": "cdcefd3e",
   "metadata": {},
   "outputs": [
    {
     "data": {
      "text/plain": [
       "1489.0"
      ]
     },
     "execution_count": 10,
     "metadata": {},
     "output_type": "execute_result"
    }
   ],
   "source": [
    "# get median area of all segmented cells (NO RBCs)\n",
    "cells_to_keep[cells_to_keep['RBC'] == 0]['area'].median()"
   ]
  },
  {
   "cell_type": "code",
   "execution_count": 11,
   "id": "794e8bac",
   "metadata": {},
   "outputs": [
    {
     "name": "stdout",
     "output_type": "stream",
     "text": [
      "P51 size median (px): 1478.0\n",
      "P52 size median (px): 1314.0\n",
      "P53 size median (px): 1380.0\n",
      "P56 size median (px): 1759.0\n",
      "P57 size median (px): 1285.0\n",
      "P58 size median (px): 1476.0\n"
     ]
    }
   ],
   "source": [
    "# get median area of P51 segmented cells (NO RBCs)\n",
    "#cells_to_keep_noRBC = cells_to_keep[cells_to_keep['RBC'] == 0]\n",
    "\n",
    "for patient in patients:\n",
    "    \n",
    "    one_pt = cells_to_keep[cells_to_keep['Patient'] == patient]\n",
    "    print(patient + ' size median (px): ' + str(one_pt['area'].median()))"
   ]
  },
  {
   "cell_type": "code",
   "execution_count": 12,
   "id": "93edb462",
   "metadata": {},
   "outputs": [
    {
     "data": {
      "text/plain": [
       "981.1211657936857"
      ]
     },
     "execution_count": 12,
     "metadata": {},
     "output_type": "execute_result"
    }
   ],
   "source": [
    "cells_to_keep['area'].std()"
   ]
  },
  {
   "cell_type": "markdown",
   "id": "372cb865",
   "metadata": {},
   "source": [
    "## Convert pixels to microns squared"
   ]
  },
  {
   "cell_type": "code",
   "execution_count": 13,
   "id": "11e0a77c",
   "metadata": {},
   "outputs": [
    {
     "name": "stderr",
     "output_type": "stream",
     "text": [
      "/tmp/ipykernel_4026728/2126299412.py:1: SettingWithCopyWarning: \n",
      "A value is trying to be set on a copy of a slice from a DataFrame.\n",
      "Try using .loc[row_indexer,col_indexer] = value instead\n",
      "\n",
      "See the caveats in the documentation: https://pandas.pydata.org/pandas-docs/stable/user_guide/indexing.html#returning-a-view-versus-a-copy\n",
      "  cells_to_keep['area_um2'] = 0.18*0.18*cells_to_keep['area']\n"
     ]
    }
   ],
   "source": [
    "cells_to_keep['area_um2'] = 0.18*0.18*cells_to_keep['area']"
   ]
  },
  {
   "cell_type": "code",
   "execution_count": 14,
   "id": "bb4849bd",
   "metadata": {},
   "outputs": [
    {
     "data": {
      "text/html": [
       "<div>\n",
       "<style scoped>\n",
       "    .dataframe tbody tr th:only-of-type {\n",
       "        vertical-align: middle;\n",
       "    }\n",
       "\n",
       "    .dataframe tbody tr th {\n",
       "        vertical-align: top;\n",
       "    }\n",
       "\n",
       "    .dataframe thead th {\n",
       "        text-align: right;\n",
       "    }\n",
       "</style>\n",
       "<table border=\"1\" class=\"dataframe\">\n",
       "  <thead>\n",
       "    <tr style=\"text-align: right;\">\n",
       "      <th></th>\n",
       "      <th>label</th>\n",
       "      <th>area</th>\n",
       "      <th>y</th>\n",
       "      <th>x</th>\n",
       "      <th>Patient</th>\n",
       "      <th>FOV</th>\n",
       "      <th>RBC</th>\n",
       "      <th>area_um2</th>\n",
       "    </tr>\n",
       "    <tr>\n",
       "      <th>ID</th>\n",
       "      <th></th>\n",
       "      <th></th>\n",
       "      <th></th>\n",
       "      <th></th>\n",
       "      <th></th>\n",
       "      <th></th>\n",
       "      <th></th>\n",
       "      <th></th>\n",
       "    </tr>\n",
       "  </thead>\n",
       "  <tbody>\n",
       "    <tr>\n",
       "      <th>P51_FOV01_cell_1</th>\n",
       "      <td>1</td>\n",
       "      <td>903</td>\n",
       "      <td>15.766334</td>\n",
       "      <td>74.070875</td>\n",
       "      <td>P51</td>\n",
       "      <td>1</td>\n",
       "      <td>0</td>\n",
       "      <td>29.2572</td>\n",
       "    </tr>\n",
       "    <tr>\n",
       "      <th>P51_FOV01_cell_2</th>\n",
       "      <td>2</td>\n",
       "      <td>1122</td>\n",
       "      <td>14.835116</td>\n",
       "      <td>117.772727</td>\n",
       "      <td>P51</td>\n",
       "      <td>1</td>\n",
       "      <td>0</td>\n",
       "      <td>36.3528</td>\n",
       "    </tr>\n",
       "    <tr>\n",
       "      <th>P51_FOV01_cell_3</th>\n",
       "      <td>3</td>\n",
       "      <td>2034</td>\n",
       "      <td>20.265487</td>\n",
       "      <td>218.211898</td>\n",
       "      <td>P51</td>\n",
       "      <td>1</td>\n",
       "      <td>0</td>\n",
       "      <td>65.9016</td>\n",
       "    </tr>\n",
       "    <tr>\n",
       "      <th>P51_FOV01_cell_4</th>\n",
       "      <td>4</td>\n",
       "      <td>2534</td>\n",
       "      <td>41.141279</td>\n",
       "      <td>962.670481</td>\n",
       "      <td>P51</td>\n",
       "      <td>1</td>\n",
       "      <td>0</td>\n",
       "      <td>82.1016</td>\n",
       "    </tr>\n",
       "    <tr>\n",
       "      <th>P51_FOV01_cell_5</th>\n",
       "      <td>5</td>\n",
       "      <td>1006</td>\n",
       "      <td>16.085487</td>\n",
       "      <td>1059.072565</td>\n",
       "      <td>P51</td>\n",
       "      <td>1</td>\n",
       "      <td>0</td>\n",
       "      <td>32.5944</td>\n",
       "    </tr>\n",
       "    <tr>\n",
       "      <th>...</th>\n",
       "      <td>...</td>\n",
       "      <td>...</td>\n",
       "      <td>...</td>\n",
       "      <td>...</td>\n",
       "      <td>...</td>\n",
       "      <td>...</td>\n",
       "      <td>...</td>\n",
       "      <td>...</td>\n",
       "    </tr>\n",
       "    <tr>\n",
       "      <th>P58_FOV23_cell_7966</th>\n",
       "      <td>7966</td>\n",
       "      <td>731</td>\n",
       "      <td>3638.218878</td>\n",
       "      <td>4327.127223</td>\n",
       "      <td>P58</td>\n",
       "      <td>23</td>\n",
       "      <td>0</td>\n",
       "      <td>23.6844</td>\n",
       "    </tr>\n",
       "    <tr>\n",
       "      <th>P58_FOV23_cell_7971</th>\n",
       "      <td>7971</td>\n",
       "      <td>596</td>\n",
       "      <td>3640.771812</td>\n",
       "      <td>4117.850671</td>\n",
       "      <td>P58</td>\n",
       "      <td>23</td>\n",
       "      <td>0</td>\n",
       "      <td>19.3104</td>\n",
       "    </tr>\n",
       "    <tr>\n",
       "      <th>P58_FOV23_cell_7972</th>\n",
       "      <td>7972</td>\n",
       "      <td>359</td>\n",
       "      <td>3641.122563</td>\n",
       "      <td>4992.493036</td>\n",
       "      <td>P58</td>\n",
       "      <td>23</td>\n",
       "      <td>0</td>\n",
       "      <td>11.6316</td>\n",
       "    </tr>\n",
       "    <tr>\n",
       "      <th>P58_FOV23_cell_7974</th>\n",
       "      <td>7974</td>\n",
       "      <td>323</td>\n",
       "      <td>3642.761610</td>\n",
       "      <td>3656.486068</td>\n",
       "      <td>P58</td>\n",
       "      <td>23</td>\n",
       "      <td>0</td>\n",
       "      <td>10.4652</td>\n",
       "    </tr>\n",
       "    <tr>\n",
       "      <th>P58_FOV23_cell_7975</th>\n",
       "      <td>7975</td>\n",
       "      <td>303</td>\n",
       "      <td>3642.389439</td>\n",
       "      <td>4786.735974</td>\n",
       "      <td>P58</td>\n",
       "      <td>23</td>\n",
       "      <td>0</td>\n",
       "      <td>9.8172</td>\n",
       "    </tr>\n",
       "  </tbody>\n",
       "</table>\n",
       "<p>629051 rows × 8 columns</p>\n",
       "</div>"
      ],
      "text/plain": [
       "                     label  area            y            x Patient  FOV  RBC  \\\n",
       "ID                                                                             \n",
       "P51_FOV01_cell_1         1   903    15.766334    74.070875     P51    1    0   \n",
       "P51_FOV01_cell_2         2  1122    14.835116   117.772727     P51    1    0   \n",
       "P51_FOV01_cell_3         3  2034    20.265487   218.211898     P51    1    0   \n",
       "P51_FOV01_cell_4         4  2534    41.141279   962.670481     P51    1    0   \n",
       "P51_FOV01_cell_5         5  1006    16.085487  1059.072565     P51    1    0   \n",
       "...                    ...   ...          ...          ...     ...  ...  ...   \n",
       "P58_FOV23_cell_7966   7966   731  3638.218878  4327.127223     P58   23    0   \n",
       "P58_FOV23_cell_7971   7971   596  3640.771812  4117.850671     P58   23    0   \n",
       "P58_FOV23_cell_7972   7972   359  3641.122563  4992.493036     P58   23    0   \n",
       "P58_FOV23_cell_7974   7974   323  3642.761610  3656.486068     P58   23    0   \n",
       "P58_FOV23_cell_7975   7975   303  3642.389439  4786.735974     P58   23    0   \n",
       "\n",
       "                     area_um2  \n",
       "ID                             \n",
       "P51_FOV01_cell_1      29.2572  \n",
       "P51_FOV01_cell_2      36.3528  \n",
       "P51_FOV01_cell_3      65.9016  \n",
       "P51_FOV01_cell_4      82.1016  \n",
       "P51_FOV01_cell_5      32.5944  \n",
       "...                       ...  \n",
       "P58_FOV23_cell_7966   23.6844  \n",
       "P58_FOV23_cell_7971   19.3104  \n",
       "P58_FOV23_cell_7972   11.6316  \n",
       "P58_FOV23_cell_7974   10.4652  \n",
       "P58_FOV23_cell_7975    9.8172  \n",
       "\n",
       "[629051 rows x 8 columns]"
      ]
     },
     "execution_count": 14,
     "metadata": {},
     "output_type": "execute_result"
    }
   ],
   "source": [
    "cells_to_keep"
   ]
  },
  {
   "cell_type": "code",
   "execution_count": 15,
   "id": "1a7387ba",
   "metadata": {},
   "outputs": [
    {
     "data": {
      "text/plain": [
       "46.1376"
      ]
     },
     "execution_count": 15,
     "metadata": {},
     "output_type": "execute_result"
    }
   ],
   "source": [
    "# get median area of all segmented cells\n",
    "cells_to_keep['area_um2'].median()"
   ]
  },
  {
   "cell_type": "code",
   "execution_count": 17,
   "id": "ae476c3c",
   "metadata": {},
   "outputs": [
    {
     "name": "stdout",
     "output_type": "stream",
     "text": [
      "P51 size median (um2): 47.8872\n",
      "P52 size median (um2): 42.5736\n",
      "P53 size median (um2): 44.711999999999996\n",
      "P56 size median (um2): 56.9916\n",
      "P57 size median (um2): 41.634\n",
      "P58 size median (um2): 47.822399999999995\n"
     ]
    }
   ],
   "source": [
    "# get median area of P51 segmented cells (NO RBCs)\n",
    "#cells_to_keep_noRBC = cells_to_keep[cells_to_keep['RBC'] == 0]\n",
    "\n",
    "for patient in patients:\n",
    "    \n",
    "    one_pt = cells_to_keep[cells_to_keep['Patient'] == patient]\n",
    "    print(patient + ' size median (um2): ' + str(one_pt['area_um2'].median()))"
   ]
  },
  {
   "cell_type": "code",
   "execution_count": 16,
   "id": "eed9a3cc",
   "metadata": {},
   "outputs": [
    {
     "data": {
      "text/plain": [
       "31.788325771715407"
      ]
     },
     "execution_count": 16,
     "metadata": {},
     "output_type": "execute_result"
    }
   ],
   "source": [
    "cells_to_keep['area_um2'].std()"
   ]
  },
  {
   "cell_type": "markdown",
   "id": "c9161ee7",
   "metadata": {},
   "source": [
    "## Get cell sizes from NS segmentation"
   ]
  },
  {
   "cell_type": "code",
   "execution_count": 18,
   "id": "eee71644",
   "metadata": {},
   "outputs": [],
   "source": [
    "# loop through all metadata files\n",
    "NS_metadata_dir = 'NS_cellseg_metadata/'\n",
    "metafiles = [f for f in listdir(NS_metadata_dir) if isfile(join(NS_metadata_dir, f))]\n",
    "metafiles.sort()"
   ]
  },
  {
   "cell_type": "code",
   "execution_count": 19,
   "id": "a2471beb",
   "metadata": {},
   "outputs": [
    {
     "data": {
      "text/plain": [
       "['P51_R1158_S1_metadata_file.csv',\n",
       " 'P52_R1149_S1_metadata_file.csv',\n",
       " 'P53_R1149_S2_metadata_file.csv',\n",
       " 'P56_R1158_S2_metadata_file.csv',\n",
       " 'P57_R1158_S3_metadata_file.csv',\n",
       " 'P58_R1149_S3_metadata_file.csv']"
      ]
     },
     "execution_count": 19,
     "metadata": {},
     "output_type": "execute_result"
    }
   ],
   "source": [
    "metafiles"
   ]
  },
  {
   "cell_type": "code",
   "execution_count": 20,
   "id": "9653b980",
   "metadata": {},
   "outputs": [
    {
     "name": "stdout",
     "output_type": "stream",
     "text": [
      "P51 size median (px): 1953.0\n",
      "P52 size median (px): 1762.0\n",
      "P53 size median (px): 1674.0\n",
      "P56 size median (px): 2165.0\n",
      "P57 size median (px): 1691.0\n",
      "P58 size median (px): 1753.0\n"
     ]
    }
   ],
   "source": [
    "allNS_areas = []\n",
    "for file in metafiles:\n",
    "    \n",
    "    patient = file[0:3]\n",
    "    df = pd.read_csv(NS_metadata_dir + file)\n",
    "    print(patient + ' size median (px): ' + str(df['Area'].median()))\n",
    "    allNS_areas += df['Area'].tolist()"
   ]
  },
  {
   "cell_type": "code",
   "execution_count": 21,
   "id": "a272fb10",
   "metadata": {},
   "outputs": [
    {
     "data": {
      "text/plain": [
       "1799.0"
      ]
     },
     "execution_count": 21,
     "metadata": {},
     "output_type": "execute_result"
    }
   ],
   "source": [
    "np.median(allNS_areas)"
   ]
  },
  {
   "cell_type": "code",
   "execution_count": 22,
   "id": "3fbba575",
   "metadata": {},
   "outputs": [
    {
     "data": {
      "text/plain": [
       "593279"
      ]
     },
     "execution_count": 22,
     "metadata": {},
     "output_type": "execute_result"
    }
   ],
   "source": [
    "len(allNS_areas)"
   ]
  },
  {
   "cell_type": "code",
   "execution_count": 23,
   "id": "1b7ac7a2",
   "metadata": {},
   "outputs": [],
   "source": [
    "df_areas = pd.Series( (v for v in allNS_areas) )"
   ]
  },
  {
   "cell_type": "code",
   "execution_count": 24,
   "id": "1e55b53d",
   "metadata": {},
   "outputs": [
    {
     "data": {
      "text/plain": [
       "839.4392774667988"
      ]
     },
     "execution_count": 24,
     "metadata": {},
     "output_type": "execute_result"
    }
   ],
   "source": [
    "df_areas.std()"
   ]
  },
  {
   "cell_type": "markdown",
   "id": "a9783e18",
   "metadata": {},
   "source": [
    "## Convert pixels to microns squared"
   ]
  },
  {
   "cell_type": "code",
   "execution_count": 27,
   "id": "ce759dfe",
   "metadata": {},
   "outputs": [],
   "source": [
    "df_areas_um = df_areas*0.18*0.18"
   ]
  },
  {
   "cell_type": "code",
   "execution_count": 29,
   "id": "bd1692a9",
   "metadata": {},
   "outputs": [
    {
     "data": {
      "text/plain": [
       "58.2876"
      ]
     },
     "execution_count": 29,
     "metadata": {},
     "output_type": "execute_result"
    }
   ],
   "source": [
    "# get median area of all segmented cells\n",
    "df_areas_um.median()"
   ]
  },
  {
   "cell_type": "code",
   "execution_count": 30,
   "id": "19cb21fe",
   "metadata": {},
   "outputs": [
    {
     "data": {
      "text/plain": [
       "27.197832589924285"
      ]
     },
     "execution_count": 30,
     "metadata": {},
     "output_type": "execute_result"
    }
   ],
   "source": [
    "df_areas_um.std()"
   ]
  },
  {
   "cell_type": "code",
   "execution_count": null,
   "id": "554fb54d",
   "metadata": {},
   "outputs": [],
   "source": []
  }
 ],
 "metadata": {
  "kernelspec": {
   "display_name": "snakemakePipeline",
   "language": "python",
   "name": "snakemakepipeline"
  },
  "language_info": {
   "codemirror_mode": {
    "name": "ipython",
    "version": 3
   },
   "file_extension": ".py",
   "mimetype": "text/x-python",
   "name": "python",
   "nbconvert_exporter": "python",
   "pygments_lexer": "ipython3",
   "version": "3.8.5"
  }
 },
 "nbformat": 4,
 "nbformat_minor": 5
}
