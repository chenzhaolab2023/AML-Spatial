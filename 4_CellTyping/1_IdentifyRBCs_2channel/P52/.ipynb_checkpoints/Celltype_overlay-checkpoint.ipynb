{
 "cells": [
  {
   "cell_type": "markdown",
   "id": "2f856b10",
   "metadata": {},
   "source": [
    "# Visualize suspected RBCs"
   ]
  },
  {
   "cell_type": "markdown",
   "id": "bee5b087",
   "metadata": {},
   "source": [
    "#### This notebook labels each cell within this patient's images by it's Phenograph cluster number generated in Phenograph-pt_RGB_features.ipynb. Suspected RBCs are outlined in red to visually confirm."
   ]
  },
  {
   "cell_type": "code",
   "execution_count": 13,
   "id": "d3dd6ee6",
   "metadata": {},
   "outputs": [],
   "source": [
    "import matplotlib.pyplot as plt\n",
    "import numpy as np\n",
    "import pandas as pd\n",
    "import tifffile\n",
    "import cv2\n",
    "from PIL import Image\n",
    "from PIL import ImageDraw\n",
    "from skimage import data, color, io, img_as_float\n",
    "from os import listdir\n",
    "from os.path import isfile, join\n",
    "import skimage.io\n",
    "import skimage.util\n",
    "from skimage import data, segmentation, util, measure\n",
    "from skimage.segmentation import expand_labels"
   ]
  },
  {
   "cell_type": "code",
   "execution_count": 14,
   "id": "bf93e03b",
   "metadata": {},
   "outputs": [],
   "source": [
    "# create dictionary of directories for each patient\n",
    "img_dirs = {'P51':'/data/Zhaolab/1_AMLCosMx/Final_scripts/1_Normalization/0_NormalizedImg/P51_R1158_S1_Normalized/', \n",
    "            'P52':'/data/Zhaolab/1_AMLCosMx/Final_scripts/1_Normalization/0_NormalizedImg/P52_R1149_S1_Normalized/', \n",
    "            'P53':'/data/Zhaolab/1_AMLCosMx/Final_scripts/1_Normalization/0_NormalizedImg/P53_R1149_S2_Normalized/', \n",
    "            'P56':'/data/Zhaolab/1_AMLCosMx/Final_scripts/1_Normalization/0_NormalizedImg/P56_R1158_S2_Normalized/', \n",
    "            'P57':'/data/Zhaolab/1_AMLCosMx/Final_scripts/1_Normalization/0_NormalizedImg/P57_R1158_S3_Normalized/', \n",
    "            'P58':'/data/Zhaolab/1_AMLCosMx/Final_scripts/1_Normalization/0_NormalizedImg/P58_R1149_S3_Normalized/'}"
   ]
  },
  {
   "cell_type": "code",
   "execution_count": 15,
   "id": "7eaf9a0a",
   "metadata": {},
   "outputs": [],
   "source": [
    "patient = 'P52'"
   ]
  },
  {
   "cell_type": "code",
   "execution_count": 16,
   "id": "80629ffb",
   "metadata": {},
   "outputs": [],
   "source": [
    "# create dictionary of directories for each patient\n",
    "mask_dir = '/data/Zhaolab/1_AMLCosMx/Final_scripts/2_Segmentation/3_NucMemMerging/' + patient + '_hybrid/labels_predicted_2_15_24/'"
   ]
  },
  {
   "cell_type": "markdown",
   "id": "8d39b392",
   "metadata": {},
   "source": [
    "## All cells excluding FOV07"
   ]
  },
  {
   "cell_type": "code",
   "execution_count": 32,
   "id": "a2411e58",
   "metadata": {},
   "outputs": [
    {
     "data": {
      "text/html": [
       "<div>\n",
       "<style scoped>\n",
       "    .dataframe tbody tr th:only-of-type {\n",
       "        vertical-align: middle;\n",
       "    }\n",
       "\n",
       "    .dataframe tbody tr th {\n",
       "        vertical-align: top;\n",
       "    }\n",
       "\n",
       "    .dataframe thead th {\n",
       "        text-align: right;\n",
       "    }\n",
       "</style>\n",
       "<table border=\"1\" class=\"dataframe\">\n",
       "  <thead>\n",
       "    <tr style=\"text-align: right;\">\n",
       "      <th></th>\n",
       "      <th>Unnamed: 0</th>\n",
       "      <th>FOV</th>\n",
       "      <th>cell_ID</th>\n",
       "      <th>PhenoGraph_clusters</th>\n",
       "    </tr>\n",
       "  </thead>\n",
       "  <tbody>\n",
       "    <tr>\n",
       "      <th>0</th>\n",
       "      <td>P52_FOV01_cell_1</td>\n",
       "      <td>1</td>\n",
       "      <td>1</td>\n",
       "      <td>2</td>\n",
       "    </tr>\n",
       "    <tr>\n",
       "      <th>1</th>\n",
       "      <td>P52_FOV01_cell_2</td>\n",
       "      <td>1</td>\n",
       "      <td>2</td>\n",
       "      <td>15</td>\n",
       "    </tr>\n",
       "    <tr>\n",
       "      <th>2</th>\n",
       "      <td>P52_FOV01_cell_3</td>\n",
       "      <td>1</td>\n",
       "      <td>3</td>\n",
       "      <td>4</td>\n",
       "    </tr>\n",
       "    <tr>\n",
       "      <th>3</th>\n",
       "      <td>P52_FOV01_cell_4</td>\n",
       "      <td>1</td>\n",
       "      <td>4</td>\n",
       "      <td>1</td>\n",
       "    </tr>\n",
       "    <tr>\n",
       "      <th>4</th>\n",
       "      <td>P52_FOV01_cell_5</td>\n",
       "      <td>1</td>\n",
       "      <td>5</td>\n",
       "      <td>1</td>\n",
       "    </tr>\n",
       "    <tr>\n",
       "      <th>...</th>\n",
       "      <td>...</td>\n",
       "      <td>...</td>\n",
       "      <td>...</td>\n",
       "      <td>...</td>\n",
       "    </tr>\n",
       "    <tr>\n",
       "      <th>114383</th>\n",
       "      <td>P52_FOV25_cell_8524</td>\n",
       "      <td>25</td>\n",
       "      <td>8524</td>\n",
       "      <td>5</td>\n",
       "    </tr>\n",
       "    <tr>\n",
       "      <th>114384</th>\n",
       "      <td>P52_FOV25_cell_8525</td>\n",
       "      <td>25</td>\n",
       "      <td>8525</td>\n",
       "      <td>9</td>\n",
       "    </tr>\n",
       "    <tr>\n",
       "      <th>114385</th>\n",
       "      <td>P52_FOV25_cell_8526</td>\n",
       "      <td>25</td>\n",
       "      <td>8526</td>\n",
       "      <td>2</td>\n",
       "    </tr>\n",
       "    <tr>\n",
       "      <th>114386</th>\n",
       "      <td>P52_FOV25_cell_8527</td>\n",
       "      <td>25</td>\n",
       "      <td>8527</td>\n",
       "      <td>5</td>\n",
       "    </tr>\n",
       "    <tr>\n",
       "      <th>114387</th>\n",
       "      <td>P52_FOV25_cell_8528</td>\n",
       "      <td>25</td>\n",
       "      <td>8528</td>\n",
       "      <td>14</td>\n",
       "    </tr>\n",
       "  </tbody>\n",
       "</table>\n",
       "<p>114388 rows × 4 columns</p>\n",
       "</div>"
      ],
      "text/plain": [
       "                 Unnamed: 0  FOV  cell_ID  PhenoGraph_clusters\n",
       "0          P52_FOV01_cell_1    1        1                    2\n",
       "1          P52_FOV01_cell_2    1        2                   15\n",
       "2          P52_FOV01_cell_3    1        3                    4\n",
       "3          P52_FOV01_cell_4    1        4                    1\n",
       "4          P52_FOV01_cell_5    1        5                    1\n",
       "...                     ...  ...      ...                  ...\n",
       "114383  P52_FOV25_cell_8524   25     8524                    5\n",
       "114384  P52_FOV25_cell_8525   25     8525                    9\n",
       "114385  P52_FOV25_cell_8526   25     8526                    2\n",
       "114386  P52_FOV25_cell_8527   25     8527                    5\n",
       "114387  P52_FOV25_cell_8528   25     8528                   14\n",
       "\n",
       "[114388 rows x 4 columns]"
      ]
     },
     "execution_count": 32,
     "metadata": {},
     "output_type": "execute_result"
    }
   ],
   "source": [
    "# load in celltype predictions for all cells\n",
    "morph_predicted = pd.read_csv('P52_RGB_clusters_exFOV07.csv')\n",
    "morph_predicted"
   ]
  },
  {
   "cell_type": "code",
   "execution_count": 33,
   "id": "77b19ea9",
   "metadata": {},
   "outputs": [
    {
     "data": {
      "text/html": [
       "<div>\n",
       "<style scoped>\n",
       "    .dataframe tbody tr th:only-of-type {\n",
       "        vertical-align: middle;\n",
       "    }\n",
       "\n",
       "    .dataframe tbody tr th {\n",
       "        vertical-align: top;\n",
       "    }\n",
       "\n",
       "    .dataframe thead th {\n",
       "        text-align: right;\n",
       "    }\n",
       "</style>\n",
       "<table border=\"1\" class=\"dataframe\">\n",
       "  <thead>\n",
       "    <tr style=\"text-align: right;\">\n",
       "      <th></th>\n",
       "      <th>FOV</th>\n",
       "      <th>cell_ID</th>\n",
       "      <th>PhenoGraph_clusters</th>\n",
       "    </tr>\n",
       "  </thead>\n",
       "  <tbody>\n",
       "    <tr>\n",
       "      <th>0</th>\n",
       "      <td>1</td>\n",
       "      <td>1</td>\n",
       "      <td>2</td>\n",
       "    </tr>\n",
       "    <tr>\n",
       "      <th>1</th>\n",
       "      <td>1</td>\n",
       "      <td>2</td>\n",
       "      <td>15</td>\n",
       "    </tr>\n",
       "    <tr>\n",
       "      <th>2</th>\n",
       "      <td>1</td>\n",
       "      <td>3</td>\n",
       "      <td>4</td>\n",
       "    </tr>\n",
       "    <tr>\n",
       "      <th>3</th>\n",
       "      <td>1</td>\n",
       "      <td>4</td>\n",
       "      <td>1</td>\n",
       "    </tr>\n",
       "    <tr>\n",
       "      <th>4</th>\n",
       "      <td>1</td>\n",
       "      <td>5</td>\n",
       "      <td>1</td>\n",
       "    </tr>\n",
       "    <tr>\n",
       "      <th>...</th>\n",
       "      <td>...</td>\n",
       "      <td>...</td>\n",
       "      <td>...</td>\n",
       "    </tr>\n",
       "    <tr>\n",
       "      <th>114383</th>\n",
       "      <td>25</td>\n",
       "      <td>8524</td>\n",
       "      <td>5</td>\n",
       "    </tr>\n",
       "    <tr>\n",
       "      <th>114384</th>\n",
       "      <td>25</td>\n",
       "      <td>8525</td>\n",
       "      <td>9</td>\n",
       "    </tr>\n",
       "    <tr>\n",
       "      <th>114385</th>\n",
       "      <td>25</td>\n",
       "      <td>8526</td>\n",
       "      <td>2</td>\n",
       "    </tr>\n",
       "    <tr>\n",
       "      <th>114386</th>\n",
       "      <td>25</td>\n",
       "      <td>8527</td>\n",
       "      <td>5</td>\n",
       "    </tr>\n",
       "    <tr>\n",
       "      <th>114387</th>\n",
       "      <td>25</td>\n",
       "      <td>8528</td>\n",
       "      <td>14</td>\n",
       "    </tr>\n",
       "  </tbody>\n",
       "</table>\n",
       "<p>114388 rows × 3 columns</p>\n",
       "</div>"
      ],
      "text/plain": [
       "        FOV  cell_ID  PhenoGraph_clusters\n",
       "0         1        1                    2\n",
       "1         1        2                   15\n",
       "2         1        3                    4\n",
       "3         1        4                    1\n",
       "4         1        5                    1\n",
       "...     ...      ...                  ...\n",
       "114383   25     8524                    5\n",
       "114384   25     8525                    9\n",
       "114385   25     8526                    2\n",
       "114386   25     8527                    5\n",
       "114387   25     8528                   14\n",
       "\n",
       "[114388 rows x 3 columns]"
      ]
     },
     "execution_count": 33,
     "metadata": {},
     "output_type": "execute_result"
    }
   ],
   "source": [
    "morph_predicted = morph_predicted.drop(columns=[\"Unnamed: 0\"])\n",
    "morph_predicted"
   ]
  },
  {
   "cell_type": "code",
   "execution_count": 34,
   "id": "722bac83",
   "metadata": {},
   "outputs": [
    {
     "data": {
      "text/html": [
       "<div>\n",
       "<style scoped>\n",
       "    .dataframe tbody tr th:only-of-type {\n",
       "        vertical-align: middle;\n",
       "    }\n",
       "\n",
       "    .dataframe tbody tr th {\n",
       "        vertical-align: top;\n",
       "    }\n",
       "\n",
       "    .dataframe thead th {\n",
       "        text-align: right;\n",
       "    }\n",
       "</style>\n",
       "<table border=\"1\" class=\"dataframe\">\n",
       "  <thead>\n",
       "    <tr style=\"text-align: right;\">\n",
       "      <th></th>\n",
       "      <th>FOV</th>\n",
       "      <th>cell_ID</th>\n",
       "      <th>PhenoGraph_clusters</th>\n",
       "      <th>RBC</th>\n",
       "    </tr>\n",
       "  </thead>\n",
       "  <tbody>\n",
       "    <tr>\n",
       "      <th>0</th>\n",
       "      <td>1</td>\n",
       "      <td>1</td>\n",
       "      <td>2</td>\n",
       "      <td>0</td>\n",
       "    </tr>\n",
       "    <tr>\n",
       "      <th>1</th>\n",
       "      <td>1</td>\n",
       "      <td>2</td>\n",
       "      <td>15</td>\n",
       "      <td>0</td>\n",
       "    </tr>\n",
       "    <tr>\n",
       "      <th>2</th>\n",
       "      <td>1</td>\n",
       "      <td>3</td>\n",
       "      <td>4</td>\n",
       "      <td>0</td>\n",
       "    </tr>\n",
       "    <tr>\n",
       "      <th>3</th>\n",
       "      <td>1</td>\n",
       "      <td>4</td>\n",
       "      <td>1</td>\n",
       "      <td>0</td>\n",
       "    </tr>\n",
       "    <tr>\n",
       "      <th>4</th>\n",
       "      <td>1</td>\n",
       "      <td>5</td>\n",
       "      <td>1</td>\n",
       "      <td>0</td>\n",
       "    </tr>\n",
       "    <tr>\n",
       "      <th>...</th>\n",
       "      <td>...</td>\n",
       "      <td>...</td>\n",
       "      <td>...</td>\n",
       "      <td>...</td>\n",
       "    </tr>\n",
       "    <tr>\n",
       "      <th>114383</th>\n",
       "      <td>25</td>\n",
       "      <td>8524</td>\n",
       "      <td>5</td>\n",
       "      <td>0</td>\n",
       "    </tr>\n",
       "    <tr>\n",
       "      <th>114384</th>\n",
       "      <td>25</td>\n",
       "      <td>8525</td>\n",
       "      <td>9</td>\n",
       "      <td>1</td>\n",
       "    </tr>\n",
       "    <tr>\n",
       "      <th>114385</th>\n",
       "      <td>25</td>\n",
       "      <td>8526</td>\n",
       "      <td>2</td>\n",
       "      <td>0</td>\n",
       "    </tr>\n",
       "    <tr>\n",
       "      <th>114386</th>\n",
       "      <td>25</td>\n",
       "      <td>8527</td>\n",
       "      <td>5</td>\n",
       "      <td>0</td>\n",
       "    </tr>\n",
       "    <tr>\n",
       "      <th>114387</th>\n",
       "      <td>25</td>\n",
       "      <td>8528</td>\n",
       "      <td>14</td>\n",
       "      <td>1</td>\n",
       "    </tr>\n",
       "  </tbody>\n",
       "</table>\n",
       "<p>114388 rows × 4 columns</p>\n",
       "</div>"
      ],
      "text/plain": [
       "        FOV  cell_ID  PhenoGraph_clusters  RBC\n",
       "0         1        1                    2    0\n",
       "1         1        2                   15    0\n",
       "2         1        3                    4    0\n",
       "3         1        4                    1    0\n",
       "4         1        5                    1    0\n",
       "...     ...      ...                  ...  ...\n",
       "114383   25     8524                    5    0\n",
       "114384   25     8525                    9    1\n",
       "114385   25     8526                    2    0\n",
       "114386   25     8527                    5    0\n",
       "114387   25     8528                   14    1\n",
       "\n",
       "[114388 rows x 4 columns]"
      ]
     },
     "execution_count": 34,
     "metadata": {},
     "output_type": "execute_result"
    }
   ],
   "source": [
    "# add col to indicate if cell is predicted RBC\n",
    "morph_predicted['RBC'] = 0\n",
    "morph_predicted['RBC'][morph_predicted['PhenoGraph_clusters'].isin([6,7,9,14,16])] = 1\n",
    "morph_predicted"
   ]
  },
  {
   "cell_type": "code",
   "execution_count": 35,
   "id": "4fd3ba89",
   "metadata": {},
   "outputs": [
    {
     "data": {
      "text/html": [
       "<div>\n",
       "<style scoped>\n",
       "    .dataframe tbody tr th:only-of-type {\n",
       "        vertical-align: middle;\n",
       "    }\n",
       "\n",
       "    .dataframe tbody tr th {\n",
       "        vertical-align: top;\n",
       "    }\n",
       "\n",
       "    .dataframe thead th {\n",
       "        text-align: right;\n",
       "    }\n",
       "</style>\n",
       "<table border=\"1\" class=\"dataframe\">\n",
       "  <thead>\n",
       "    <tr style=\"text-align: right;\">\n",
       "      <th></th>\n",
       "      <th>FOV</th>\n",
       "      <th>cell_ID</th>\n",
       "      <th>PhenoGraph_clusters</th>\n",
       "      <th>RBC</th>\n",
       "    </tr>\n",
       "  </thead>\n",
       "  <tbody>\n",
       "    <tr>\n",
       "      <th>31</th>\n",
       "      <td>1</td>\n",
       "      <td>32</td>\n",
       "      <td>7</td>\n",
       "      <td>1</td>\n",
       "    </tr>\n",
       "    <tr>\n",
       "      <th>51</th>\n",
       "      <td>1</td>\n",
       "      <td>52</td>\n",
       "      <td>9</td>\n",
       "      <td>1</td>\n",
       "    </tr>\n",
       "    <tr>\n",
       "      <th>71</th>\n",
       "      <td>1</td>\n",
       "      <td>72</td>\n",
       "      <td>6</td>\n",
       "      <td>1</td>\n",
       "    </tr>\n",
       "    <tr>\n",
       "      <th>143</th>\n",
       "      <td>1</td>\n",
       "      <td>144</td>\n",
       "      <td>7</td>\n",
       "      <td>1</td>\n",
       "    </tr>\n",
       "    <tr>\n",
       "      <th>145</th>\n",
       "      <td>1</td>\n",
       "      <td>146</td>\n",
       "      <td>7</td>\n",
       "      <td>1</td>\n",
       "    </tr>\n",
       "    <tr>\n",
       "      <th>...</th>\n",
       "      <td>...</td>\n",
       "      <td>...</td>\n",
       "      <td>...</td>\n",
       "      <td>...</td>\n",
       "    </tr>\n",
       "    <tr>\n",
       "      <th>114377</th>\n",
       "      <td>25</td>\n",
       "      <td>8518</td>\n",
       "      <td>16</td>\n",
       "      <td>1</td>\n",
       "    </tr>\n",
       "    <tr>\n",
       "      <th>114378</th>\n",
       "      <td>25</td>\n",
       "      <td>8519</td>\n",
       "      <td>14</td>\n",
       "      <td>1</td>\n",
       "    </tr>\n",
       "    <tr>\n",
       "      <th>114379</th>\n",
       "      <td>25</td>\n",
       "      <td>8520</td>\n",
       "      <td>14</td>\n",
       "      <td>1</td>\n",
       "    </tr>\n",
       "    <tr>\n",
       "      <th>114384</th>\n",
       "      <td>25</td>\n",
       "      <td>8525</td>\n",
       "      <td>9</td>\n",
       "      <td>1</td>\n",
       "    </tr>\n",
       "    <tr>\n",
       "      <th>114387</th>\n",
       "      <td>25</td>\n",
       "      <td>8528</td>\n",
       "      <td>14</td>\n",
       "      <td>1</td>\n",
       "    </tr>\n",
       "  </tbody>\n",
       "</table>\n",
       "<p>22452 rows × 4 columns</p>\n",
       "</div>"
      ],
      "text/plain": [
       "        FOV  cell_ID  PhenoGraph_clusters  RBC\n",
       "31        1       32                    7    1\n",
       "51        1       52                    9    1\n",
       "71        1       72                    6    1\n",
       "143       1      144                    7    1\n",
       "145       1      146                    7    1\n",
       "...     ...      ...                  ...  ...\n",
       "114377   25     8518                   16    1\n",
       "114378   25     8519                   14    1\n",
       "114379   25     8520                   14    1\n",
       "114384   25     8525                    9    1\n",
       "114387   25     8528                   14    1\n",
       "\n",
       "[22452 rows x 4 columns]"
      ]
     },
     "execution_count": 35,
     "metadata": {},
     "output_type": "execute_result"
    }
   ],
   "source": [
    "morph_predicted[morph_predicted['RBC'] == 1]"
   ]
  },
  {
   "cell_type": "code",
   "execution_count": 36,
   "id": "eba3359d",
   "metadata": {},
   "outputs": [],
   "source": [
    "# save list of all patient's CD34+ cells\n",
    "pos_to_save = morph_predicted[morph_predicted['RBC'] == 1][['FOV', 'cell_ID']]\n",
    "pos_to_save['Patient'] = patient\n",
    "#pos_to_save.to_csv(patient + '_RBCs.csv', index=False)"
   ]
  },
  {
   "cell_type": "markdown",
   "id": "1c3fcf5a",
   "metadata": {},
   "source": [
    "### Visualize all cells with cluster names, highlight likely RBCs"
   ]
  },
  {
   "cell_type": "code",
   "execution_count": 37,
   "id": "b487cc18",
   "metadata": {},
   "outputs": [
    {
     "name": "stdout",
     "output_type": "stream",
     "text": [
      "20220215_094003_S1_C902_P99_N99_F001_normalized.png\n",
      "20220215_094003_S1_C902_P99_N99_F001_normalized_cp_masks.tif\n"
     ]
    },
    {
     "name": "stderr",
     "output_type": "stream",
     "text": [
      "/tmp/ipykernel_1226513/3752657391.py:58: SettingWithCopyWarning: \n",
      "A value is trying to be set on a copy of a slice from a DataFrame.\n",
      "Try using .loc[row_indexer,col_indexer] = value instead\n",
      "\n",
      "See the caveats in the documentation: https://pandas.pydata.org/pandas-docs/stable/user_guide/indexing.html#returning-a-view-versus-a-copy\n",
      "  one_fov['cell_ID'] = one_fov['cell_ID'].astype(int)\n"
     ]
    },
    {
     "name": "stdout",
     "output_type": "stream",
     "text": [
      "20220215_094003_S1_C902_P99_N99_F002_normalized.png\n",
      "20220215_094003_S1_C902_P99_N99_F002_normalized_cp_masks.tif\n"
     ]
    },
    {
     "name": "stderr",
     "output_type": "stream",
     "text": [
      "/tmp/ipykernel_1226513/3752657391.py:58: SettingWithCopyWarning: \n",
      "A value is trying to be set on a copy of a slice from a DataFrame.\n",
      "Try using .loc[row_indexer,col_indexer] = value instead\n",
      "\n",
      "See the caveats in the documentation: https://pandas.pydata.org/pandas-docs/stable/user_guide/indexing.html#returning-a-view-versus-a-copy\n",
      "  one_fov['cell_ID'] = one_fov['cell_ID'].astype(int)\n"
     ]
    },
    {
     "name": "stdout",
     "output_type": "stream",
     "text": [
      "20220215_094003_S1_C902_P99_N99_F003_normalized.png\n",
      "20220215_094003_S1_C902_P99_N99_F003_normalized_cp_masks.tif\n"
     ]
    },
    {
     "name": "stderr",
     "output_type": "stream",
     "text": [
      "/tmp/ipykernel_1226513/3752657391.py:58: SettingWithCopyWarning: \n",
      "A value is trying to be set on a copy of a slice from a DataFrame.\n",
      "Try using .loc[row_indexer,col_indexer] = value instead\n",
      "\n",
      "See the caveats in the documentation: https://pandas.pydata.org/pandas-docs/stable/user_guide/indexing.html#returning-a-view-versus-a-copy\n",
      "  one_fov['cell_ID'] = one_fov['cell_ID'].astype(int)\n"
     ]
    },
    {
     "name": "stdout",
     "output_type": "stream",
     "text": [
      "20220215_094003_S1_C902_P99_N99_F004_normalized.png\n",
      "20220215_094003_S1_C902_P99_N99_F004_normalized_cp_masks.tif\n"
     ]
    },
    {
     "name": "stderr",
     "output_type": "stream",
     "text": [
      "/tmp/ipykernel_1226513/3752657391.py:58: SettingWithCopyWarning: \n",
      "A value is trying to be set on a copy of a slice from a DataFrame.\n",
      "Try using .loc[row_indexer,col_indexer] = value instead\n",
      "\n",
      "See the caveats in the documentation: https://pandas.pydata.org/pandas-docs/stable/user_guide/indexing.html#returning-a-view-versus-a-copy\n",
      "  one_fov['cell_ID'] = one_fov['cell_ID'].astype(int)\n"
     ]
    },
    {
     "name": "stdout",
     "output_type": "stream",
     "text": [
      "20220215_094003_S1_C902_P99_N99_F005_normalized.png\n",
      "20220215_094003_S1_C902_P99_N99_F005_normalized_cp_masks.tif\n"
     ]
    },
    {
     "name": "stderr",
     "output_type": "stream",
     "text": [
      "/tmp/ipykernel_1226513/3752657391.py:58: SettingWithCopyWarning: \n",
      "A value is trying to be set on a copy of a slice from a DataFrame.\n",
      "Try using .loc[row_indexer,col_indexer] = value instead\n",
      "\n",
      "See the caveats in the documentation: https://pandas.pydata.org/pandas-docs/stable/user_guide/indexing.html#returning-a-view-versus-a-copy\n",
      "  one_fov['cell_ID'] = one_fov['cell_ID'].astype(int)\n"
     ]
    },
    {
     "name": "stdout",
     "output_type": "stream",
     "text": [
      "20220215_094003_S1_C902_P99_N99_F006_normalized.png\n",
      "20220215_094003_S1_C902_P99_N99_F006_normalized_cp_masks.tif\n"
     ]
    },
    {
     "name": "stderr",
     "output_type": "stream",
     "text": [
      "/tmp/ipykernel_1226513/3752657391.py:58: SettingWithCopyWarning: \n",
      "A value is trying to be set on a copy of a slice from a DataFrame.\n",
      "Try using .loc[row_indexer,col_indexer] = value instead\n",
      "\n",
      "See the caveats in the documentation: https://pandas.pydata.org/pandas-docs/stable/user_guide/indexing.html#returning-a-view-versus-a-copy\n",
      "  one_fov['cell_ID'] = one_fov['cell_ID'].astype(int)\n"
     ]
    },
    {
     "name": "stdout",
     "output_type": "stream",
     "text": [
      "20220215_094003_S1_C902_P99_N99_F008_normalized.png\n",
      "20220215_094003_S1_C902_P99_N99_F008_normalized_cp_masks.tif\n"
     ]
    },
    {
     "name": "stderr",
     "output_type": "stream",
     "text": [
      "/tmp/ipykernel_1226513/3752657391.py:58: SettingWithCopyWarning: \n",
      "A value is trying to be set on a copy of a slice from a DataFrame.\n",
      "Try using .loc[row_indexer,col_indexer] = value instead\n",
      "\n",
      "See the caveats in the documentation: https://pandas.pydata.org/pandas-docs/stable/user_guide/indexing.html#returning-a-view-versus-a-copy\n",
      "  one_fov['cell_ID'] = one_fov['cell_ID'].astype(int)\n"
     ]
    },
    {
     "name": "stdout",
     "output_type": "stream",
     "text": [
      "20220215_094003_S1_C902_P99_N99_F009_normalized.png\n",
      "20220215_094003_S1_C902_P99_N99_F009_normalized_cp_masks.tif\n"
     ]
    },
    {
     "name": "stderr",
     "output_type": "stream",
     "text": [
      "/tmp/ipykernel_1226513/3752657391.py:58: SettingWithCopyWarning: \n",
      "A value is trying to be set on a copy of a slice from a DataFrame.\n",
      "Try using .loc[row_indexer,col_indexer] = value instead\n",
      "\n",
      "See the caveats in the documentation: https://pandas.pydata.org/pandas-docs/stable/user_guide/indexing.html#returning-a-view-versus-a-copy\n",
      "  one_fov['cell_ID'] = one_fov['cell_ID'].astype(int)\n"
     ]
    },
    {
     "name": "stdout",
     "output_type": "stream",
     "text": [
      "20220215_094003_S1_C902_P99_N99_F010_normalized.png\n",
      "20220215_094003_S1_C902_P99_N99_F010_normalized_cp_masks.tif\n"
     ]
    },
    {
     "name": "stderr",
     "output_type": "stream",
     "text": [
      "/tmp/ipykernel_1226513/3752657391.py:58: SettingWithCopyWarning: \n",
      "A value is trying to be set on a copy of a slice from a DataFrame.\n",
      "Try using .loc[row_indexer,col_indexer] = value instead\n",
      "\n",
      "See the caveats in the documentation: https://pandas.pydata.org/pandas-docs/stable/user_guide/indexing.html#returning-a-view-versus-a-copy\n",
      "  one_fov['cell_ID'] = one_fov['cell_ID'].astype(int)\n"
     ]
    },
    {
     "name": "stdout",
     "output_type": "stream",
     "text": [
      "20220215_094003_S1_C902_P99_N99_F011_normalized.png\n",
      "20220215_094003_S1_C902_P99_N99_F011_normalized_cp_masks.tif\n"
     ]
    },
    {
     "name": "stderr",
     "output_type": "stream",
     "text": [
      "/tmp/ipykernel_1226513/3752657391.py:58: SettingWithCopyWarning: \n",
      "A value is trying to be set on a copy of a slice from a DataFrame.\n",
      "Try using .loc[row_indexer,col_indexer] = value instead\n",
      "\n",
      "See the caveats in the documentation: https://pandas.pydata.org/pandas-docs/stable/user_guide/indexing.html#returning-a-view-versus-a-copy\n",
      "  one_fov['cell_ID'] = one_fov['cell_ID'].astype(int)\n"
     ]
    },
    {
     "name": "stdout",
     "output_type": "stream",
     "text": [
      "20220215_094003_S1_C902_P99_N99_F012_normalized.png\n",
      "20220215_094003_S1_C902_P99_N99_F012_normalized_cp_masks.tif\n"
     ]
    },
    {
     "name": "stderr",
     "output_type": "stream",
     "text": [
      "/tmp/ipykernel_1226513/3752657391.py:58: SettingWithCopyWarning: \n",
      "A value is trying to be set on a copy of a slice from a DataFrame.\n",
      "Try using .loc[row_indexer,col_indexer] = value instead\n",
      "\n",
      "See the caveats in the documentation: https://pandas.pydata.org/pandas-docs/stable/user_guide/indexing.html#returning-a-view-versus-a-copy\n",
      "  one_fov['cell_ID'] = one_fov['cell_ID'].astype(int)\n"
     ]
    },
    {
     "name": "stdout",
     "output_type": "stream",
     "text": [
      "20220215_094003_S1_C902_P99_N99_F013_normalized.png\n",
      "20220215_094003_S1_C902_P99_N99_F013_normalized_cp_masks.tif\n"
     ]
    },
    {
     "name": "stderr",
     "output_type": "stream",
     "text": [
      "/tmp/ipykernel_1226513/3752657391.py:58: SettingWithCopyWarning: \n",
      "A value is trying to be set on a copy of a slice from a DataFrame.\n",
      "Try using .loc[row_indexer,col_indexer] = value instead\n",
      "\n",
      "See the caveats in the documentation: https://pandas.pydata.org/pandas-docs/stable/user_guide/indexing.html#returning-a-view-versus-a-copy\n",
      "  one_fov['cell_ID'] = one_fov['cell_ID'].astype(int)\n"
     ]
    },
    {
     "name": "stdout",
     "output_type": "stream",
     "text": [
      "20220215_094003_S1_C902_P99_N99_F014_normalized.png\n",
      "20220215_094003_S1_C902_P99_N99_F014_normalized_cp_masks.tif\n"
     ]
    },
    {
     "name": "stderr",
     "output_type": "stream",
     "text": [
      "/tmp/ipykernel_1226513/3752657391.py:58: SettingWithCopyWarning: \n",
      "A value is trying to be set on a copy of a slice from a DataFrame.\n",
      "Try using .loc[row_indexer,col_indexer] = value instead\n",
      "\n",
      "See the caveats in the documentation: https://pandas.pydata.org/pandas-docs/stable/user_guide/indexing.html#returning-a-view-versus-a-copy\n",
      "  one_fov['cell_ID'] = one_fov['cell_ID'].astype(int)\n"
     ]
    },
    {
     "name": "stdout",
     "output_type": "stream",
     "text": [
      "20220215_094003_S1_C902_P99_N99_F015_normalized.png\n",
      "20220215_094003_S1_C902_P99_N99_F015_normalized_cp_masks.tif\n"
     ]
    },
    {
     "name": "stderr",
     "output_type": "stream",
     "text": [
      "/tmp/ipykernel_1226513/3752657391.py:58: SettingWithCopyWarning: \n",
      "A value is trying to be set on a copy of a slice from a DataFrame.\n",
      "Try using .loc[row_indexer,col_indexer] = value instead\n",
      "\n",
      "See the caveats in the documentation: https://pandas.pydata.org/pandas-docs/stable/user_guide/indexing.html#returning-a-view-versus-a-copy\n",
      "  one_fov['cell_ID'] = one_fov['cell_ID'].astype(int)\n"
     ]
    },
    {
     "name": "stdout",
     "output_type": "stream",
     "text": [
      "20220215_094003_S1_C902_P99_N99_F016_normalized.png\n",
      "20220215_094003_S1_C902_P99_N99_F016_normalized_cp_masks.tif\n"
     ]
    },
    {
     "name": "stderr",
     "output_type": "stream",
     "text": [
      "/tmp/ipykernel_1226513/3752657391.py:58: SettingWithCopyWarning: \n",
      "A value is trying to be set on a copy of a slice from a DataFrame.\n",
      "Try using .loc[row_indexer,col_indexer] = value instead\n",
      "\n",
      "See the caveats in the documentation: https://pandas.pydata.org/pandas-docs/stable/user_guide/indexing.html#returning-a-view-versus-a-copy\n",
      "  one_fov['cell_ID'] = one_fov['cell_ID'].astype(int)\n"
     ]
    },
    {
     "name": "stdout",
     "output_type": "stream",
     "text": [
      "20220215_094003_S1_C902_P99_N99_F017_normalized.png\n",
      "20220215_094003_S1_C902_P99_N99_F017_normalized_cp_masks.tif\n"
     ]
    },
    {
     "name": "stderr",
     "output_type": "stream",
     "text": [
      "/tmp/ipykernel_1226513/3752657391.py:58: SettingWithCopyWarning: \n",
      "A value is trying to be set on a copy of a slice from a DataFrame.\n",
      "Try using .loc[row_indexer,col_indexer] = value instead\n",
      "\n",
      "See the caveats in the documentation: https://pandas.pydata.org/pandas-docs/stable/user_guide/indexing.html#returning-a-view-versus-a-copy\n",
      "  one_fov['cell_ID'] = one_fov['cell_ID'].astype(int)\n"
     ]
    },
    {
     "name": "stdout",
     "output_type": "stream",
     "text": [
      "20220215_094003_S1_C902_P99_N99_F018_normalized.png\n",
      "20220215_094003_S1_C902_P99_N99_F018_normalized_cp_masks.tif\n"
     ]
    },
    {
     "name": "stderr",
     "output_type": "stream",
     "text": [
      "/tmp/ipykernel_1226513/3752657391.py:58: SettingWithCopyWarning: \n",
      "A value is trying to be set on a copy of a slice from a DataFrame.\n",
      "Try using .loc[row_indexer,col_indexer] = value instead\n",
      "\n",
      "See the caveats in the documentation: https://pandas.pydata.org/pandas-docs/stable/user_guide/indexing.html#returning-a-view-versus-a-copy\n",
      "  one_fov['cell_ID'] = one_fov['cell_ID'].astype(int)\n"
     ]
    },
    {
     "name": "stdout",
     "output_type": "stream",
     "text": [
      "20220215_094003_S1_C902_P99_N99_F019_normalized.png\n",
      "20220215_094003_S1_C902_P99_N99_F019_normalized_cp_masks.tif\n"
     ]
    },
    {
     "name": "stderr",
     "output_type": "stream",
     "text": [
      "/tmp/ipykernel_1226513/3752657391.py:58: SettingWithCopyWarning: \n",
      "A value is trying to be set on a copy of a slice from a DataFrame.\n",
      "Try using .loc[row_indexer,col_indexer] = value instead\n",
      "\n",
      "See the caveats in the documentation: https://pandas.pydata.org/pandas-docs/stable/user_guide/indexing.html#returning-a-view-versus-a-copy\n",
      "  one_fov['cell_ID'] = one_fov['cell_ID'].astype(int)\n"
     ]
    },
    {
     "name": "stdout",
     "output_type": "stream",
     "text": [
      "20220215_094003_S1_C902_P99_N99_F020_normalized.png\n",
      "20220215_094003_S1_C902_P99_N99_F020_normalized_cp_masks.tif\n"
     ]
    },
    {
     "name": "stderr",
     "output_type": "stream",
     "text": [
      "/tmp/ipykernel_1226513/3752657391.py:58: SettingWithCopyWarning: \n",
      "A value is trying to be set on a copy of a slice from a DataFrame.\n",
      "Try using .loc[row_indexer,col_indexer] = value instead\n",
      "\n",
      "See the caveats in the documentation: https://pandas.pydata.org/pandas-docs/stable/user_guide/indexing.html#returning-a-view-versus-a-copy\n",
      "  one_fov['cell_ID'] = one_fov['cell_ID'].astype(int)\n"
     ]
    },
    {
     "name": "stdout",
     "output_type": "stream",
     "text": [
      "20220215_094003_S1_C902_P99_N99_F021_normalized.png\n",
      "20220215_094003_S1_C902_P99_N99_F021_normalized_cp_masks.tif\n"
     ]
    },
    {
     "name": "stderr",
     "output_type": "stream",
     "text": [
      "/tmp/ipykernel_1226513/3752657391.py:58: SettingWithCopyWarning: \n",
      "A value is trying to be set on a copy of a slice from a DataFrame.\n",
      "Try using .loc[row_indexer,col_indexer] = value instead\n",
      "\n",
      "See the caveats in the documentation: https://pandas.pydata.org/pandas-docs/stable/user_guide/indexing.html#returning-a-view-versus-a-copy\n",
      "  one_fov['cell_ID'] = one_fov['cell_ID'].astype(int)\n"
     ]
    },
    {
     "name": "stdout",
     "output_type": "stream",
     "text": [
      "20220215_094003_S1_C902_P99_N99_F022_normalized.png\n",
      "20220215_094003_S1_C902_P99_N99_F022_normalized_cp_masks.tif\n"
     ]
    },
    {
     "name": "stderr",
     "output_type": "stream",
     "text": [
      "/tmp/ipykernel_1226513/3752657391.py:58: SettingWithCopyWarning: \n",
      "A value is trying to be set on a copy of a slice from a DataFrame.\n",
      "Try using .loc[row_indexer,col_indexer] = value instead\n",
      "\n",
      "See the caveats in the documentation: https://pandas.pydata.org/pandas-docs/stable/user_guide/indexing.html#returning-a-view-versus-a-copy\n",
      "  one_fov['cell_ID'] = one_fov['cell_ID'].astype(int)\n"
     ]
    },
    {
     "name": "stdout",
     "output_type": "stream",
     "text": [
      "20220215_094003_S1_C902_P99_N99_F023_normalized.png\n",
      "20220215_094003_S1_C902_P99_N99_F023_normalized_cp_masks.tif\n"
     ]
    },
    {
     "name": "stderr",
     "output_type": "stream",
     "text": [
      "/tmp/ipykernel_1226513/3752657391.py:58: SettingWithCopyWarning: \n",
      "A value is trying to be set on a copy of a slice from a DataFrame.\n",
      "Try using .loc[row_indexer,col_indexer] = value instead\n",
      "\n",
      "See the caveats in the documentation: https://pandas.pydata.org/pandas-docs/stable/user_guide/indexing.html#returning-a-view-versus-a-copy\n",
      "  one_fov['cell_ID'] = one_fov['cell_ID'].astype(int)\n"
     ]
    },
    {
     "name": "stdout",
     "output_type": "stream",
     "text": [
      "20220215_094003_S1_C902_P99_N99_F024_normalized.png\n",
      "20220215_094003_S1_C902_P99_N99_F024_normalized_cp_masks.tif\n"
     ]
    },
    {
     "name": "stderr",
     "output_type": "stream",
     "text": [
      "/tmp/ipykernel_1226513/3752657391.py:58: SettingWithCopyWarning: \n",
      "A value is trying to be set on a copy of a slice from a DataFrame.\n",
      "Try using .loc[row_indexer,col_indexer] = value instead\n",
      "\n",
      "See the caveats in the documentation: https://pandas.pydata.org/pandas-docs/stable/user_guide/indexing.html#returning-a-view-versus-a-copy\n",
      "  one_fov['cell_ID'] = one_fov['cell_ID'].astype(int)\n"
     ]
    },
    {
     "ename": "KeyboardInterrupt",
     "evalue": "",
     "output_type": "error",
     "traceback": [
      "\u001b[0;31m---------------------------------------------------------------------------\u001b[0m",
      "\u001b[0;31mKeyboardInterrupt\u001b[0m                         Traceback (most recent call last)",
      "Input \u001b[0;32mIn [37]\u001b[0m, in \u001b[0;36m<cell line: 5>\u001b[0;34m()\u001b[0m\n\u001b[1;32m     75\u001b[0m         \u001b[38;5;28;01mpass\u001b[39;00m\n\u001b[1;32m     76\u001b[0m     \u001b[38;5;28;01melse\u001b[39;00m:\n\u001b[0;32m---> 77\u001b[0m         labels_edited[\u001b[43mlabels_edited\u001b[49m\u001b[43m \u001b[49m\u001b[38;5;241;43m==\u001b[39;49m\u001b[43m \u001b[49m\u001b[43mcell\u001b[49m] \u001b[38;5;241m=\u001b[39m \u001b[38;5;241m0\u001b[39m\n\u001b[1;32m     79\u001b[0m \u001b[38;5;66;03m# add colored outline\u001b[39;00m\n\u001b[1;32m     80\u001b[0m boundaries \u001b[38;5;241m=\u001b[39m segmentation\u001b[38;5;241m.\u001b[39mfind_boundaries(labels_edited, connectivity\u001b[38;5;241m=\u001b[39m\u001b[38;5;241m1\u001b[39m, mode\u001b[38;5;241m=\u001b[39m\u001b[38;5;124m'\u001b[39m\u001b[38;5;124mthick\u001b[39m\u001b[38;5;124m'\u001b[39m, background\u001b[38;5;241m=\u001b[39m\u001b[38;5;241m0\u001b[39m)\n",
      "\u001b[0;31mKeyboardInterrupt\u001b[0m: "
     ]
    }
   ],
   "source": [
    "# create list of fovs\n",
    "fovs = list(set(morph_predicted['FOV'].tolist()))\n",
    "fovs.sort()\n",
    "    \n",
    "for fov in fovs:\n",
    "    \n",
    "    # subset FOV        \n",
    "    one_fov = morph_predicted[morph_predicted['FOV'] == fov]\n",
    "    \n",
    "    # Load img\n",
    "    location = img_dirs[patient]\n",
    "    dirlist = listdir(location)\n",
    "    dirlist.sort()\n",
    "    for item in dirlist:\n",
    "        if 'F0' + str(fov).zfill(2) in item:\n",
    "            img = cv2.imread(location + item)\n",
    "            print(item)\n",
    "            break\n",
    "            \n",
    "    # brighten image\n",
    "    # define the alpha and beta\n",
    "    alpha = 1.5 # Contrast control\n",
    "    beta = 25 # Brightness control\n",
    "\n",
    "    # call convertScaleAbs function\n",
    "    img = cv2.convertScaleAbs(img, alpha=alpha, beta=beta)\n",
    "\n",
    "    # Load masks\n",
    "    location = mask_dir\n",
    "    dirlist = listdir(location)\n",
    "    dirlist.sort()\n",
    "    for item in dirlist:\n",
    "        if 'F0' + str(fov).zfill(2) in item:\n",
    "            labels = tifffile.imread(location + item)\n",
    "            print(item)\n",
    "            break\n",
    "        elif 'FOV' + str(fov).zfill(2) in item:\n",
    "            labels = tifffile.imread(location + item)\n",
    "            print(item)\n",
    "            break\n",
    "\n",
    "    # get all mask values\n",
    "    fov_cells = np.unique(labels)\n",
    "    \n",
    "    # Load centroids\n",
    "    coords_dir = mask_dir + 'cell_centroids/'\n",
    "    dirlist = listdir(coords_dir)\n",
    "    dirlist.sort()\n",
    "    for item in dirlist:\n",
    "        if 'F0' + str(fov).zfill(2) in item:\n",
    "            centroids = pd.read_csv(coords_dir + item, index_col=0)\n",
    "            break\n",
    "        elif 'FOV' + str(fov).zfill(2) in item:\n",
    "            centroids = pd.read_csv(coords_dir + item, index_col=0)\n",
    "            break\n",
    "            \n",
    "    # merge prediction and centroid tables\n",
    "    one_fov['cell_ID'] = one_fov['cell_ID'].astype(int)\n",
    "    one_fov = one_fov.rename(columns={\"cell_ID\": \"label\"})\n",
    "                \n",
    "    combo = pd.merge(one_fov,centroids,left_on='label',right_on='label',how='left')\n",
    "    \n",
    "    # visualize all segmented cells\n",
    "    boundaries = segmentation.find_boundaries(labels, connectivity=1, mode='inner', background=0)\n",
    "    boundaries = boundaries.astype(int)\n",
    "    img[boundaries>0] = [255,255,0]\n",
    "    \n",
    "    # create list of CD34+ cells\n",
    "    pos_cells = combo[combo['RBC'] == 1]['label'].tolist()\n",
    "    pos_cells = [int(i) for i in pos_cells]\n",
    "    # set all labels of other clusters to zero\n",
    "    labels_edited = labels.copy()\n",
    "    for cell in fov_cells:\n",
    "        if cell in pos_cells:\n",
    "            pass\n",
    "        else:\n",
    "            labels_edited[labels_edited == cell] = 0\n",
    "\n",
    "    # add colored outline\n",
    "    boundaries = segmentation.find_boundaries(labels_edited, connectivity=1, mode='thick', background=0)\n",
    "    boundaries = boundaries.astype(int)\n",
    "    img[boundaries>0] = [0,0,255]\n",
    "\n",
    "    # get unique phenograph clusters\n",
    "    clusters = list(set(combo['PhenoGraph_clusters'].tolist()))\n",
    "    \n",
    "    for cluster in clusters:\n",
    "\n",
    "        # create list of this cluster's cells\n",
    "        pos_cells_df = combo[combo['PhenoGraph_clusters'] == cluster]\n",
    "\n",
    "        for k in range(pos_cells_df.shape[0]):\n",
    "            img = cv2.putText(img, str(cluster), (int(pos_cells_df['x'].iloc[k]), int(pos_cells_df['y'].iloc[k])), cv2.FONT_HERSHEY_SIMPLEX, 0.5, [255,255,255], 2, cv2.LINE_AA)\n",
    "            \n",
    "    # save image\n",
    "    cv2.imwrite('RGB_clusters_overlaid/' + patient + '_FOV' + str(fov).zfill(2) + '_RGB_cluster.png', img)"
   ]
  },
  {
   "cell_type": "markdown",
   "id": "21d59cde",
   "metadata": {},
   "source": [
    "## All cells from ONLY FOV07"
   ]
  },
  {
   "cell_type": "code",
   "execution_count": 15,
   "id": "c6385d83",
   "metadata": {},
   "outputs": [
    {
     "data": {
      "text/html": [
       "<div>\n",
       "<style scoped>\n",
       "    .dataframe tbody tr th:only-of-type {\n",
       "        vertical-align: middle;\n",
       "    }\n",
       "\n",
       "    .dataframe tbody tr th {\n",
       "        vertical-align: top;\n",
       "    }\n",
       "\n",
       "    .dataframe thead th {\n",
       "        text-align: right;\n",
       "    }\n",
       "</style>\n",
       "<table border=\"1\" class=\"dataframe\">\n",
       "  <thead>\n",
       "    <tr style=\"text-align: right;\">\n",
       "      <th></th>\n",
       "      <th>Unnamed: 0</th>\n",
       "      <th>FOV</th>\n",
       "      <th>cell_ID</th>\n",
       "      <th>PhenoGraph_clusters</th>\n",
       "    </tr>\n",
       "  </thead>\n",
       "  <tbody>\n",
       "    <tr>\n",
       "      <th>0</th>\n",
       "      <td>P52_FOV01_cell_1</td>\n",
       "      <td>1</td>\n",
       "      <td>1</td>\n",
       "      <td>15</td>\n",
       "    </tr>\n",
       "    <tr>\n",
       "      <th>1</th>\n",
       "      <td>P52_FOV01_cell_2</td>\n",
       "      <td>1</td>\n",
       "      <td>2</td>\n",
       "      <td>15</td>\n",
       "    </tr>\n",
       "    <tr>\n",
       "      <th>2</th>\n",
       "      <td>P52_FOV01_cell_3</td>\n",
       "      <td>1</td>\n",
       "      <td>3</td>\n",
       "      <td>15</td>\n",
       "    </tr>\n",
       "    <tr>\n",
       "      <th>3</th>\n",
       "      <td>P52_FOV01_cell_4</td>\n",
       "      <td>1</td>\n",
       "      <td>4</td>\n",
       "      <td>15</td>\n",
       "    </tr>\n",
       "    <tr>\n",
       "      <th>4</th>\n",
       "      <td>P52_FOV01_cell_5</td>\n",
       "      <td>1</td>\n",
       "      <td>5</td>\n",
       "      <td>15</td>\n",
       "    </tr>\n",
       "    <tr>\n",
       "      <th>...</th>\n",
       "      <td>...</td>\n",
       "      <td>...</td>\n",
       "      <td>...</td>\n",
       "      <td>...</td>\n",
       "    </tr>\n",
       "    <tr>\n",
       "      <th>114383</th>\n",
       "      <td>P52_FOV25_cell_8524</td>\n",
       "      <td>25</td>\n",
       "      <td>8524</td>\n",
       "      <td>15</td>\n",
       "    </tr>\n",
       "    <tr>\n",
       "      <th>114384</th>\n",
       "      <td>P52_FOV25_cell_8525</td>\n",
       "      <td>25</td>\n",
       "      <td>8525</td>\n",
       "      <td>13</td>\n",
       "    </tr>\n",
       "    <tr>\n",
       "      <th>114385</th>\n",
       "      <td>P52_FOV25_cell_8526</td>\n",
       "      <td>25</td>\n",
       "      <td>8526</td>\n",
       "      <td>1</td>\n",
       "    </tr>\n",
       "    <tr>\n",
       "      <th>114386</th>\n",
       "      <td>P52_FOV25_cell_8527</td>\n",
       "      <td>25</td>\n",
       "      <td>8527</td>\n",
       "      <td>9</td>\n",
       "    </tr>\n",
       "    <tr>\n",
       "      <th>114387</th>\n",
       "      <td>P52_FOV25_cell_8528</td>\n",
       "      <td>25</td>\n",
       "      <td>8528</td>\n",
       "      <td>10</td>\n",
       "    </tr>\n",
       "  </tbody>\n",
       "</table>\n",
       "<p>114388 rows × 4 columns</p>\n",
       "</div>"
      ],
      "text/plain": [
       "                 Unnamed: 0  FOV  cell_ID  PhenoGraph_clusters\n",
       "0          P52_FOV01_cell_1    1        1                   15\n",
       "1          P52_FOV01_cell_2    1        2                   15\n",
       "2          P52_FOV01_cell_3    1        3                   15\n",
       "3          P52_FOV01_cell_4    1        4                   15\n",
       "4          P52_FOV01_cell_5    1        5                   15\n",
       "...                     ...  ...      ...                  ...\n",
       "114383  P52_FOV25_cell_8524   25     8524                   15\n",
       "114384  P52_FOV25_cell_8525   25     8525                   13\n",
       "114385  P52_FOV25_cell_8526   25     8526                    1\n",
       "114386  P52_FOV25_cell_8527   25     8527                    9\n",
       "114387  P52_FOV25_cell_8528   25     8528                   10\n",
       "\n",
       "[114388 rows x 4 columns]"
      ]
     },
     "execution_count": 15,
     "metadata": {},
     "output_type": "execute_result"
    }
   ],
   "source": [
    "# load in celltype predictions for all cells\n",
    "morph_predicted = pd.read_csv('P52_RGB_clusters_FOV07.csv')\n",
    "morph_predicted"
   ]
  },
  {
   "cell_type": "code",
   "execution_count": 16,
   "id": "bffbd777",
   "metadata": {},
   "outputs": [
    {
     "data": {
      "text/html": [
       "<div>\n",
       "<style scoped>\n",
       "    .dataframe tbody tr th:only-of-type {\n",
       "        vertical-align: middle;\n",
       "    }\n",
       "\n",
       "    .dataframe tbody tr th {\n",
       "        vertical-align: top;\n",
       "    }\n",
       "\n",
       "    .dataframe thead th {\n",
       "        text-align: right;\n",
       "    }\n",
       "</style>\n",
       "<table border=\"1\" class=\"dataframe\">\n",
       "  <thead>\n",
       "    <tr style=\"text-align: right;\">\n",
       "      <th></th>\n",
       "      <th>FOV</th>\n",
       "      <th>cell_ID</th>\n",
       "      <th>PhenoGraph_clusters</th>\n",
       "    </tr>\n",
       "  </thead>\n",
       "  <tbody>\n",
       "    <tr>\n",
       "      <th>0</th>\n",
       "      <td>1</td>\n",
       "      <td>1</td>\n",
       "      <td>15</td>\n",
       "    </tr>\n",
       "    <tr>\n",
       "      <th>1</th>\n",
       "      <td>1</td>\n",
       "      <td>2</td>\n",
       "      <td>15</td>\n",
       "    </tr>\n",
       "    <tr>\n",
       "      <th>2</th>\n",
       "      <td>1</td>\n",
       "      <td>3</td>\n",
       "      <td>15</td>\n",
       "    </tr>\n",
       "    <tr>\n",
       "      <th>3</th>\n",
       "      <td>1</td>\n",
       "      <td>4</td>\n",
       "      <td>15</td>\n",
       "    </tr>\n",
       "    <tr>\n",
       "      <th>4</th>\n",
       "      <td>1</td>\n",
       "      <td>5</td>\n",
       "      <td>15</td>\n",
       "    </tr>\n",
       "    <tr>\n",
       "      <th>...</th>\n",
       "      <td>...</td>\n",
       "      <td>...</td>\n",
       "      <td>...</td>\n",
       "    </tr>\n",
       "    <tr>\n",
       "      <th>114383</th>\n",
       "      <td>25</td>\n",
       "      <td>8524</td>\n",
       "      <td>15</td>\n",
       "    </tr>\n",
       "    <tr>\n",
       "      <th>114384</th>\n",
       "      <td>25</td>\n",
       "      <td>8525</td>\n",
       "      <td>13</td>\n",
       "    </tr>\n",
       "    <tr>\n",
       "      <th>114385</th>\n",
       "      <td>25</td>\n",
       "      <td>8526</td>\n",
       "      <td>1</td>\n",
       "    </tr>\n",
       "    <tr>\n",
       "      <th>114386</th>\n",
       "      <td>25</td>\n",
       "      <td>8527</td>\n",
       "      <td>9</td>\n",
       "    </tr>\n",
       "    <tr>\n",
       "      <th>114387</th>\n",
       "      <td>25</td>\n",
       "      <td>8528</td>\n",
       "      <td>10</td>\n",
       "    </tr>\n",
       "  </tbody>\n",
       "</table>\n",
       "<p>114388 rows × 3 columns</p>\n",
       "</div>"
      ],
      "text/plain": [
       "        FOV  cell_ID  PhenoGraph_clusters\n",
       "0         1        1                   15\n",
       "1         1        2                   15\n",
       "2         1        3                   15\n",
       "3         1        4                   15\n",
       "4         1        5                   15\n",
       "...     ...      ...                  ...\n",
       "114383   25     8524                   15\n",
       "114384   25     8525                   13\n",
       "114385   25     8526                    1\n",
       "114386   25     8527                    9\n",
       "114387   25     8528                   10\n",
       "\n",
       "[114388 rows x 3 columns]"
      ]
     },
     "execution_count": 16,
     "metadata": {},
     "output_type": "execute_result"
    }
   ],
   "source": [
    "morph_predicted = morph_predicted.drop(columns=[\"Unnamed: 0\"])\n",
    "morph_predicted"
   ]
  },
  {
   "cell_type": "code",
   "execution_count": 17,
   "id": "9b26bb8d",
   "metadata": {},
   "outputs": [
    {
     "data": {
      "text/html": [
       "<div>\n",
       "<style scoped>\n",
       "    .dataframe tbody tr th:only-of-type {\n",
       "        vertical-align: middle;\n",
       "    }\n",
       "\n",
       "    .dataframe tbody tr th {\n",
       "        vertical-align: top;\n",
       "    }\n",
       "\n",
       "    .dataframe thead th {\n",
       "        text-align: right;\n",
       "    }\n",
       "</style>\n",
       "<table border=\"1\" class=\"dataframe\">\n",
       "  <thead>\n",
       "    <tr style=\"text-align: right;\">\n",
       "      <th></th>\n",
       "      <th>FOV</th>\n",
       "      <th>cell_ID</th>\n",
       "      <th>PhenoGraph_clusters</th>\n",
       "      <th>RBC</th>\n",
       "    </tr>\n",
       "  </thead>\n",
       "  <tbody>\n",
       "    <tr>\n",
       "      <th>0</th>\n",
       "      <td>1</td>\n",
       "      <td>1</td>\n",
       "      <td>15</td>\n",
       "      <td>0</td>\n",
       "    </tr>\n",
       "    <tr>\n",
       "      <th>1</th>\n",
       "      <td>1</td>\n",
       "      <td>2</td>\n",
       "      <td>15</td>\n",
       "      <td>0</td>\n",
       "    </tr>\n",
       "    <tr>\n",
       "      <th>2</th>\n",
       "      <td>1</td>\n",
       "      <td>3</td>\n",
       "      <td>15</td>\n",
       "      <td>0</td>\n",
       "    </tr>\n",
       "    <tr>\n",
       "      <th>3</th>\n",
       "      <td>1</td>\n",
       "      <td>4</td>\n",
       "      <td>15</td>\n",
       "      <td>0</td>\n",
       "    </tr>\n",
       "    <tr>\n",
       "      <th>4</th>\n",
       "      <td>1</td>\n",
       "      <td>5</td>\n",
       "      <td>15</td>\n",
       "      <td>0</td>\n",
       "    </tr>\n",
       "    <tr>\n",
       "      <th>...</th>\n",
       "      <td>...</td>\n",
       "      <td>...</td>\n",
       "      <td>...</td>\n",
       "      <td>...</td>\n",
       "    </tr>\n",
       "    <tr>\n",
       "      <th>114383</th>\n",
       "      <td>25</td>\n",
       "      <td>8524</td>\n",
       "      <td>15</td>\n",
       "      <td>0</td>\n",
       "    </tr>\n",
       "    <tr>\n",
       "      <th>114384</th>\n",
       "      <td>25</td>\n",
       "      <td>8525</td>\n",
       "      <td>13</td>\n",
       "      <td>0</td>\n",
       "    </tr>\n",
       "    <tr>\n",
       "      <th>114385</th>\n",
       "      <td>25</td>\n",
       "      <td>8526</td>\n",
       "      <td>1</td>\n",
       "      <td>0</td>\n",
       "    </tr>\n",
       "    <tr>\n",
       "      <th>114386</th>\n",
       "      <td>25</td>\n",
       "      <td>8527</td>\n",
       "      <td>9</td>\n",
       "      <td>0</td>\n",
       "    </tr>\n",
       "    <tr>\n",
       "      <th>114387</th>\n",
       "      <td>25</td>\n",
       "      <td>8528</td>\n",
       "      <td>10</td>\n",
       "      <td>0</td>\n",
       "    </tr>\n",
       "  </tbody>\n",
       "</table>\n",
       "<p>114388 rows × 4 columns</p>\n",
       "</div>"
      ],
      "text/plain": [
       "        FOV  cell_ID  PhenoGraph_clusters  RBC\n",
       "0         1        1                   15    0\n",
       "1         1        2                   15    0\n",
       "2         1        3                   15    0\n",
       "3         1        4                   15    0\n",
       "4         1        5                   15    0\n",
       "...     ...      ...                  ...  ...\n",
       "114383   25     8524                   15    0\n",
       "114384   25     8525                   13    0\n",
       "114385   25     8526                    1    0\n",
       "114386   25     8527                    9    0\n",
       "114387   25     8528                   10    0\n",
       "\n",
       "[114388 rows x 4 columns]"
      ]
     },
     "execution_count": 17,
     "metadata": {},
     "output_type": "execute_result"
    }
   ],
   "source": [
    "# add col to indicate if cell is predicted RBC\n",
    "morph_predicted['RBC'] = 0\n",
    "morph_predicted['RBC'][morph_predicted['PhenoGraph_clusters'].isin([9,10])] = 1\n",
    "morph_predicted"
   ]
  },
  {
   "cell_type": "code",
   "execution_count": 18,
   "id": "5a765b64",
   "metadata": {},
   "outputs": [
    {
     "data": {
      "text/html": [
       "<div>\n",
       "<style scoped>\n",
       "    .dataframe tbody tr th:only-of-type {\n",
       "        vertical-align: middle;\n",
       "    }\n",
       "\n",
       "    .dataframe tbody tr th {\n",
       "        vertical-align: top;\n",
       "    }\n",
       "\n",
       "    .dataframe thead th {\n",
       "        text-align: right;\n",
       "    }\n",
       "</style>\n",
       "<table border=\"1\" class=\"dataframe\">\n",
       "  <thead>\n",
       "    <tr style=\"text-align: right;\">\n",
       "      <th></th>\n",
       "      <th>FOV</th>\n",
       "      <th>cell_ID</th>\n",
       "      <th>PhenoGraph_clusters</th>\n",
       "      <th>RBC</th>\n",
       "    </tr>\n",
       "  </thead>\n",
       "  <tbody>\n",
       "    <tr>\n",
       "      <th>145</th>\n",
       "      <td>1</td>\n",
       "      <td>146</td>\n",
       "      <td>11</td>\n",
       "      <td>1</td>\n",
       "    </tr>\n",
       "    <tr>\n",
       "      <th>837</th>\n",
       "      <td>1</td>\n",
       "      <td>838</td>\n",
       "      <td>11</td>\n",
       "      <td>1</td>\n",
       "    </tr>\n",
       "    <tr>\n",
       "      <th>2997</th>\n",
       "      <td>1</td>\n",
       "      <td>3041</td>\n",
       "      <td>11</td>\n",
       "      <td>1</td>\n",
       "    </tr>\n",
       "    <tr>\n",
       "      <th>3018</th>\n",
       "      <td>1</td>\n",
       "      <td>3119</td>\n",
       "      <td>14</td>\n",
       "      <td>1</td>\n",
       "    </tr>\n",
       "    <tr>\n",
       "      <th>3019</th>\n",
       "      <td>1</td>\n",
       "      <td>3120</td>\n",
       "      <td>14</td>\n",
       "      <td>1</td>\n",
       "    </tr>\n",
       "    <tr>\n",
       "      <th>...</th>\n",
       "      <td>...</td>\n",
       "      <td>...</td>\n",
       "      <td>...</td>\n",
       "      <td>...</td>\n",
       "    </tr>\n",
       "    <tr>\n",
       "      <th>114364</th>\n",
       "      <td>25</td>\n",
       "      <td>8497</td>\n",
       "      <td>14</td>\n",
       "      <td>1</td>\n",
       "    </tr>\n",
       "    <tr>\n",
       "      <th>114373</th>\n",
       "      <td>25</td>\n",
       "      <td>8514</td>\n",
       "      <td>11</td>\n",
       "      <td>1</td>\n",
       "    </tr>\n",
       "    <tr>\n",
       "      <th>114376</th>\n",
       "      <td>25</td>\n",
       "      <td>8517</td>\n",
       "      <td>14</td>\n",
       "      <td>1</td>\n",
       "    </tr>\n",
       "    <tr>\n",
       "      <th>114377</th>\n",
       "      <td>25</td>\n",
       "      <td>8518</td>\n",
       "      <td>14</td>\n",
       "      <td>1</td>\n",
       "    </tr>\n",
       "    <tr>\n",
       "      <th>114379</th>\n",
       "      <td>25</td>\n",
       "      <td>8520</td>\n",
       "      <td>14</td>\n",
       "      <td>1</td>\n",
       "    </tr>\n",
       "  </tbody>\n",
       "</table>\n",
       "<p>4675 rows × 4 columns</p>\n",
       "</div>"
      ],
      "text/plain": [
       "        FOV  cell_ID  PhenoGraph_clusters  RBC\n",
       "145       1      146                   11    1\n",
       "837       1      838                   11    1\n",
       "2997      1     3041                   11    1\n",
       "3018      1     3119                   14    1\n",
       "3019      1     3120                   14    1\n",
       "...     ...      ...                  ...  ...\n",
       "114364   25     8497                   14    1\n",
       "114373   25     8514                   11    1\n",
       "114376   25     8517                   14    1\n",
       "114377   25     8518                   14    1\n",
       "114379   25     8520                   14    1\n",
       "\n",
       "[4675 rows x 4 columns]"
      ]
     },
     "execution_count": 18,
     "metadata": {},
     "output_type": "execute_result"
    }
   ],
   "source": [
    "morph_predicted[morph_predicted['RBC'] == 1]"
   ]
  },
  {
   "cell_type": "code",
   "execution_count": 19,
   "id": "c7748501",
   "metadata": {},
   "outputs": [],
   "source": [
    "# save list of all patient's CD34+ cells\n",
    "pos_to_save = morph_predicted[morph_predicted['RBC'] == 1][['FOV', 'cell_ID']]\n",
    "pos_to_save['Patient'] = patient\n",
    "pos_to_save.to_csv(patient + '_RBCs.csv', index=False)"
   ]
  },
  {
   "cell_type": "markdown",
   "id": "ca963923",
   "metadata": {},
   "source": [
    "### Visualize all cells with cluster names, highlight likely RBCs"
   ]
  },
  {
   "cell_type": "code",
   "execution_count": null,
   "id": "82206ae3",
   "metadata": {},
   "outputs": [
    {
     "name": "stdout",
     "output_type": "stream",
     "text": [
      "20220215_094003_S1_C902_P99_N99_F001_normalized.png\n",
      "20220215_094003_S1_C902_P99_N99_F001_normalized_cp_masks.tif\n"
     ]
    },
    {
     "name": "stderr",
     "output_type": "stream",
     "text": [
      "/tmp/ipykernel_3218842/3996469836.py:58: SettingWithCopyWarning: \n",
      "A value is trying to be set on a copy of a slice from a DataFrame.\n",
      "Try using .loc[row_indexer,col_indexer] = value instead\n",
      "\n",
      "See the caveats in the documentation: https://pandas.pydata.org/pandas-docs/stable/user_guide/indexing.html#returning-a-view-versus-a-copy\n",
      "  one_fov['cell_ID'] = one_fov['cell_ID'].astype(int)\n"
     ]
    },
    {
     "name": "stdout",
     "output_type": "stream",
     "text": [
      "20220215_094003_S1_C902_P99_N99_F002_normalized.png\n",
      "20220215_094003_S1_C902_P99_N99_F002_normalized_cp_masks.tif\n"
     ]
    },
    {
     "name": "stderr",
     "output_type": "stream",
     "text": [
      "/tmp/ipykernel_3218842/3996469836.py:58: SettingWithCopyWarning: \n",
      "A value is trying to be set on a copy of a slice from a DataFrame.\n",
      "Try using .loc[row_indexer,col_indexer] = value instead\n",
      "\n",
      "See the caveats in the documentation: https://pandas.pydata.org/pandas-docs/stable/user_guide/indexing.html#returning-a-view-versus-a-copy\n",
      "  one_fov['cell_ID'] = one_fov['cell_ID'].astype(int)\n"
     ]
    },
    {
     "name": "stdout",
     "output_type": "stream",
     "text": [
      "20220215_094003_S1_C902_P99_N99_F003_normalized.png\n",
      "20220215_094003_S1_C902_P99_N99_F003_normalized_cp_masks.tif\n"
     ]
    },
    {
     "name": "stderr",
     "output_type": "stream",
     "text": [
      "/tmp/ipykernel_3218842/3996469836.py:58: SettingWithCopyWarning: \n",
      "A value is trying to be set on a copy of a slice from a DataFrame.\n",
      "Try using .loc[row_indexer,col_indexer] = value instead\n",
      "\n",
      "See the caveats in the documentation: https://pandas.pydata.org/pandas-docs/stable/user_guide/indexing.html#returning-a-view-versus-a-copy\n",
      "  one_fov['cell_ID'] = one_fov['cell_ID'].astype(int)\n"
     ]
    },
    {
     "name": "stdout",
     "output_type": "stream",
     "text": [
      "20220215_094003_S1_C902_P99_N99_F004_normalized.png\n",
      "20220215_094003_S1_C902_P99_N99_F004_normalized_cp_masks.tif\n"
     ]
    },
    {
     "name": "stderr",
     "output_type": "stream",
     "text": [
      "/tmp/ipykernel_3218842/3996469836.py:58: SettingWithCopyWarning: \n",
      "A value is trying to be set on a copy of a slice from a DataFrame.\n",
      "Try using .loc[row_indexer,col_indexer] = value instead\n",
      "\n",
      "See the caveats in the documentation: https://pandas.pydata.org/pandas-docs/stable/user_guide/indexing.html#returning-a-view-versus-a-copy\n",
      "  one_fov['cell_ID'] = one_fov['cell_ID'].astype(int)\n"
     ]
    },
    {
     "name": "stdout",
     "output_type": "stream",
     "text": [
      "20220215_094003_S1_C902_P99_N99_F005_normalized.png\n",
      "20220215_094003_S1_C902_P99_N99_F005_normalized_cp_masks.tif\n"
     ]
    },
    {
     "name": "stderr",
     "output_type": "stream",
     "text": [
      "/tmp/ipykernel_3218842/3996469836.py:58: SettingWithCopyWarning: \n",
      "A value is trying to be set on a copy of a slice from a DataFrame.\n",
      "Try using .loc[row_indexer,col_indexer] = value instead\n",
      "\n",
      "See the caveats in the documentation: https://pandas.pydata.org/pandas-docs/stable/user_guide/indexing.html#returning-a-view-versus-a-copy\n",
      "  one_fov['cell_ID'] = one_fov['cell_ID'].astype(int)\n"
     ]
    },
    {
     "name": "stdout",
     "output_type": "stream",
     "text": [
      "20220215_094003_S1_C902_P99_N99_F006_normalized.png\n",
      "20220215_094003_S1_C902_P99_N99_F006_normalized_cp_masks.tif\n"
     ]
    },
    {
     "name": "stderr",
     "output_type": "stream",
     "text": [
      "/tmp/ipykernel_3218842/3996469836.py:58: SettingWithCopyWarning: \n",
      "A value is trying to be set on a copy of a slice from a DataFrame.\n",
      "Try using .loc[row_indexer,col_indexer] = value instead\n",
      "\n",
      "See the caveats in the documentation: https://pandas.pydata.org/pandas-docs/stable/user_guide/indexing.html#returning-a-view-versus-a-copy\n",
      "  one_fov['cell_ID'] = one_fov['cell_ID'].astype(int)\n"
     ]
    },
    {
     "name": "stdout",
     "output_type": "stream",
     "text": [
      "20220215_094003_S1_C902_P99_N99_F008_normalized.png\n",
      "20220215_094003_S1_C902_P99_N99_F008_normalized_cp_masks.tif\n"
     ]
    },
    {
     "name": "stderr",
     "output_type": "stream",
     "text": [
      "/tmp/ipykernel_3218842/3996469836.py:58: SettingWithCopyWarning: \n",
      "A value is trying to be set on a copy of a slice from a DataFrame.\n",
      "Try using .loc[row_indexer,col_indexer] = value instead\n",
      "\n",
      "See the caveats in the documentation: https://pandas.pydata.org/pandas-docs/stable/user_guide/indexing.html#returning-a-view-versus-a-copy\n",
      "  one_fov['cell_ID'] = one_fov['cell_ID'].astype(int)\n"
     ]
    },
    {
     "name": "stdout",
     "output_type": "stream",
     "text": [
      "20220215_094003_S1_C902_P99_N99_F009_normalized.png\n",
      "20220215_094003_S1_C902_P99_N99_F009_normalized_cp_masks.tif\n"
     ]
    },
    {
     "name": "stderr",
     "output_type": "stream",
     "text": [
      "/tmp/ipykernel_3218842/3996469836.py:58: SettingWithCopyWarning: \n",
      "A value is trying to be set on a copy of a slice from a DataFrame.\n",
      "Try using .loc[row_indexer,col_indexer] = value instead\n",
      "\n",
      "See the caveats in the documentation: https://pandas.pydata.org/pandas-docs/stable/user_guide/indexing.html#returning-a-view-versus-a-copy\n",
      "  one_fov['cell_ID'] = one_fov['cell_ID'].astype(int)\n"
     ]
    },
    {
     "name": "stdout",
     "output_type": "stream",
     "text": [
      "20220215_094003_S1_C902_P99_N99_F010_normalized.png\n",
      "20220215_094003_S1_C902_P99_N99_F010_normalized_cp_masks.tif\n"
     ]
    },
    {
     "name": "stderr",
     "output_type": "stream",
     "text": [
      "/tmp/ipykernel_3218842/3996469836.py:58: SettingWithCopyWarning: \n",
      "A value is trying to be set on a copy of a slice from a DataFrame.\n",
      "Try using .loc[row_indexer,col_indexer] = value instead\n",
      "\n",
      "See the caveats in the documentation: https://pandas.pydata.org/pandas-docs/stable/user_guide/indexing.html#returning-a-view-versus-a-copy\n",
      "  one_fov['cell_ID'] = one_fov['cell_ID'].astype(int)\n"
     ]
    },
    {
     "name": "stdout",
     "output_type": "stream",
     "text": [
      "20220215_094003_S1_C902_P99_N99_F011_normalized.png\n",
      "20220215_094003_S1_C902_P99_N99_F011_normalized_cp_masks.tif\n"
     ]
    },
    {
     "name": "stderr",
     "output_type": "stream",
     "text": [
      "/tmp/ipykernel_3218842/3996469836.py:58: SettingWithCopyWarning: \n",
      "A value is trying to be set on a copy of a slice from a DataFrame.\n",
      "Try using .loc[row_indexer,col_indexer] = value instead\n",
      "\n",
      "See the caveats in the documentation: https://pandas.pydata.org/pandas-docs/stable/user_guide/indexing.html#returning-a-view-versus-a-copy\n",
      "  one_fov['cell_ID'] = one_fov['cell_ID'].astype(int)\n"
     ]
    },
    {
     "name": "stdout",
     "output_type": "stream",
     "text": [
      "20220215_094003_S1_C902_P99_N99_F012_normalized.png\n",
      "20220215_094003_S1_C902_P99_N99_F012_normalized_cp_masks.tif\n"
     ]
    },
    {
     "name": "stderr",
     "output_type": "stream",
     "text": [
      "/tmp/ipykernel_3218842/3996469836.py:58: SettingWithCopyWarning: \n",
      "A value is trying to be set on a copy of a slice from a DataFrame.\n",
      "Try using .loc[row_indexer,col_indexer] = value instead\n",
      "\n",
      "See the caveats in the documentation: https://pandas.pydata.org/pandas-docs/stable/user_guide/indexing.html#returning-a-view-versus-a-copy\n",
      "  one_fov['cell_ID'] = one_fov['cell_ID'].astype(int)\n"
     ]
    },
    {
     "name": "stdout",
     "output_type": "stream",
     "text": [
      "20220215_094003_S1_C902_P99_N99_F013_normalized.png\n",
      "20220215_094003_S1_C902_P99_N99_F013_normalized_cp_masks.tif\n"
     ]
    },
    {
     "name": "stderr",
     "output_type": "stream",
     "text": [
      "/tmp/ipykernel_3218842/3996469836.py:58: SettingWithCopyWarning: \n",
      "A value is trying to be set on a copy of a slice from a DataFrame.\n",
      "Try using .loc[row_indexer,col_indexer] = value instead\n",
      "\n",
      "See the caveats in the documentation: https://pandas.pydata.org/pandas-docs/stable/user_guide/indexing.html#returning-a-view-versus-a-copy\n",
      "  one_fov['cell_ID'] = one_fov['cell_ID'].astype(int)\n"
     ]
    },
    {
     "name": "stdout",
     "output_type": "stream",
     "text": [
      "20220215_094003_S1_C902_P99_N99_F014_normalized.png\n",
      "20220215_094003_S1_C902_P99_N99_F014_normalized_cp_masks.tif\n"
     ]
    },
    {
     "name": "stderr",
     "output_type": "stream",
     "text": [
      "/tmp/ipykernel_3218842/3996469836.py:58: SettingWithCopyWarning: \n",
      "A value is trying to be set on a copy of a slice from a DataFrame.\n",
      "Try using .loc[row_indexer,col_indexer] = value instead\n",
      "\n",
      "See the caveats in the documentation: https://pandas.pydata.org/pandas-docs/stable/user_guide/indexing.html#returning-a-view-versus-a-copy\n",
      "  one_fov['cell_ID'] = one_fov['cell_ID'].astype(int)\n"
     ]
    },
    {
     "name": "stdout",
     "output_type": "stream",
     "text": [
      "20220215_094003_S1_C902_P99_N99_F015_normalized.png\n",
      "20220215_094003_S1_C902_P99_N99_F015_normalized_cp_masks.tif\n"
     ]
    },
    {
     "name": "stderr",
     "output_type": "stream",
     "text": [
      "/tmp/ipykernel_3218842/3996469836.py:58: SettingWithCopyWarning: \n",
      "A value is trying to be set on a copy of a slice from a DataFrame.\n",
      "Try using .loc[row_indexer,col_indexer] = value instead\n",
      "\n",
      "See the caveats in the documentation: https://pandas.pydata.org/pandas-docs/stable/user_guide/indexing.html#returning-a-view-versus-a-copy\n",
      "  one_fov['cell_ID'] = one_fov['cell_ID'].astype(int)\n"
     ]
    },
    {
     "name": "stdout",
     "output_type": "stream",
     "text": [
      "20220215_094003_S1_C902_P99_N99_F016_normalized.png\n",
      "20220215_094003_S1_C902_P99_N99_F016_normalized_cp_masks.tif\n"
     ]
    },
    {
     "name": "stderr",
     "output_type": "stream",
     "text": [
      "/tmp/ipykernel_3218842/3996469836.py:58: SettingWithCopyWarning: \n",
      "A value is trying to be set on a copy of a slice from a DataFrame.\n",
      "Try using .loc[row_indexer,col_indexer] = value instead\n",
      "\n",
      "See the caveats in the documentation: https://pandas.pydata.org/pandas-docs/stable/user_guide/indexing.html#returning-a-view-versus-a-copy\n",
      "  one_fov['cell_ID'] = one_fov['cell_ID'].astype(int)\n"
     ]
    },
    {
     "name": "stdout",
     "output_type": "stream",
     "text": [
      "20220215_094003_S1_C902_P99_N99_F017_normalized.png\n",
      "20220215_094003_S1_C902_P99_N99_F017_normalized_cp_masks.tif\n"
     ]
    },
    {
     "name": "stderr",
     "output_type": "stream",
     "text": [
      "/tmp/ipykernel_3218842/3996469836.py:58: SettingWithCopyWarning: \n",
      "A value is trying to be set on a copy of a slice from a DataFrame.\n",
      "Try using .loc[row_indexer,col_indexer] = value instead\n",
      "\n",
      "See the caveats in the documentation: https://pandas.pydata.org/pandas-docs/stable/user_guide/indexing.html#returning-a-view-versus-a-copy\n",
      "  one_fov['cell_ID'] = one_fov['cell_ID'].astype(int)\n"
     ]
    },
    {
     "name": "stdout",
     "output_type": "stream",
     "text": [
      "20220215_094003_S1_C902_P99_N99_F018_normalized.png\n",
      "20220215_094003_S1_C902_P99_N99_F018_normalized_cp_masks.tif\n"
     ]
    },
    {
     "name": "stderr",
     "output_type": "stream",
     "text": [
      "/tmp/ipykernel_3218842/3996469836.py:58: SettingWithCopyWarning: \n",
      "A value is trying to be set on a copy of a slice from a DataFrame.\n",
      "Try using .loc[row_indexer,col_indexer] = value instead\n",
      "\n",
      "See the caveats in the documentation: https://pandas.pydata.org/pandas-docs/stable/user_guide/indexing.html#returning-a-view-versus-a-copy\n",
      "  one_fov['cell_ID'] = one_fov['cell_ID'].astype(int)\n"
     ]
    },
    {
     "name": "stdout",
     "output_type": "stream",
     "text": [
      "20220215_094003_S1_C902_P99_N99_F019_normalized.png\n",
      "20220215_094003_S1_C902_P99_N99_F019_normalized_cp_masks.tif\n"
     ]
    },
    {
     "name": "stderr",
     "output_type": "stream",
     "text": [
      "/tmp/ipykernel_3218842/3996469836.py:58: SettingWithCopyWarning: \n",
      "A value is trying to be set on a copy of a slice from a DataFrame.\n",
      "Try using .loc[row_indexer,col_indexer] = value instead\n",
      "\n",
      "See the caveats in the documentation: https://pandas.pydata.org/pandas-docs/stable/user_guide/indexing.html#returning-a-view-versus-a-copy\n",
      "  one_fov['cell_ID'] = one_fov['cell_ID'].astype(int)\n"
     ]
    }
   ],
   "source": [
    "# create list of fovs\n",
    "fovs = list(set(morph_predicted['FOV'].tolist()))\n",
    "fovs.sort()\n",
    "    \n",
    "for fov in fovs:\n",
    "    \n",
    "    # subset FOV        \n",
    "    one_fov = morph_predicted[morph_predicted['FOV'] == fov]\n",
    "    \n",
    "    # Load img\n",
    "    location = img_dirs[patient]\n",
    "    dirlist = listdir(location)\n",
    "    dirlist.sort()\n",
    "    for item in dirlist:\n",
    "        if 'F0' + str(fov).zfill(2) in item:\n",
    "            img = cv2.imread(location + item)\n",
    "            print(item)\n",
    "            break\n",
    "            \n",
    "    # brighten image\n",
    "    # define the alpha and beta\n",
    "    alpha = 1.5 # Contrast control\n",
    "    beta = 20 # Brightness control\n",
    "\n",
    "    # call convertScaleAbs function\n",
    "    img = cv2.convertScaleAbs(img, alpha=alpha, beta=beta)\n",
    "\n",
    "    # Load masks\n",
    "    location = mask_dir\n",
    "    dirlist = listdir(location)\n",
    "    dirlist.sort()\n",
    "    for item in dirlist:\n",
    "        if 'F0' + str(fov).zfill(2) in item:\n",
    "            labels = tifffile.imread(location + item)\n",
    "            print(item)\n",
    "            break\n",
    "        elif 'FOV' + str(fov).zfill(2) in item:\n",
    "            labels = tifffile.imread(location + item)\n",
    "            print(item)\n",
    "            break\n",
    "\n",
    "    # get all mask values\n",
    "    fov_cells = np.unique(labels)\n",
    "    \n",
    "    # Load centroids\n",
    "    coords_dir = mask_dir + 'cell_centroids/'\n",
    "    dirlist = listdir(coords_dir)\n",
    "    dirlist.sort()\n",
    "    for item in dirlist:\n",
    "        if 'F0' + str(fov).zfill(2) in item:\n",
    "            centroids = pd.read_csv(coords_dir + item, index_col=0)\n",
    "            break\n",
    "        elif 'FOV' + str(fov).zfill(2) in item:\n",
    "            centroids = pd.read_csv(coords_dir + item, index_col=0)\n",
    "            break\n",
    "            \n",
    "    # merge prediction and centroid tables\n",
    "    one_fov['cell_ID'] = one_fov['cell_ID'].astype(int)\n",
    "    one_fov = one_fov.rename(columns={\"cell_ID\": \"label\"})\n",
    "                \n",
    "    combo = pd.merge(one_fov,centroids,left_on='label',right_on='label',how='left')\n",
    "    \n",
    "    # visualize all segmented cells\n",
    "    boundaries = segmentation.find_boundaries(labels, connectivity=1, mode='inner', background=0)\n",
    "    boundaries = boundaries.astype(int)\n",
    "    img[boundaries>0] = [255,255,0]\n",
    "    \n",
    "    # create list of CD34+ cells\n",
    "    pos_cells = combo[combo['RBC'] == 1]['label'].tolist()\n",
    "    pos_cells = [int(i) for i in pos_cells]\n",
    "    # set all labels of other clusters to zero\n",
    "    labels_edited = labels.copy()\n",
    "    for cell in fov_cells:\n",
    "        if cell in pos_cells:\n",
    "            pass\n",
    "        else:\n",
    "            labels_edited[labels_edited == cell] = 0\n",
    "\n",
    "    # add colored outline\n",
    "    boundaries = segmentation.find_boundaries(labels_edited, connectivity=1, mode='thick', background=0)\n",
    "    boundaries = boundaries.astype(int)\n",
    "    img[boundaries>0] = [0,0,255]\n",
    "\n",
    "    # get unique phenograph clusters\n",
    "    clusters = list(set(combo['PhenoGraph_clusters'].tolist()))\n",
    "    \n",
    "    for cluster in clusters:\n",
    "\n",
    "        # create list of this cluster's cells\n",
    "        pos_cells_df = combo[combo['PhenoGraph_clusters'] == cluster]\n",
    "\n",
    "        for k in range(pos_cells_df.shape[0]):\n",
    "            img = cv2.putText(img, str(cluster), (int(pos_cells_df['x'].iloc[k]), int(pos_cells_df['y'].iloc[k])), cv2.FONT_HERSHEY_SIMPLEX, 0.5, [255,255,255], 2, cv2.LINE_AA)\n",
    "            \n",
    "    # save image\n",
    "    cv2.imwrite('RGB_clusters_overlaid/' + patient + '_FOV' + str(fov).zfill(2) + '_RGB_cluster.png', img)"
   ]
  },
  {
   "cell_type": "code",
   "execution_count": null,
   "id": "e0d788a8",
   "metadata": {},
   "outputs": [],
   "source": []
  }
 ],
 "metadata": {
  "kernelspec": {
   "display_name": "snakemakePipeline",
   "language": "python",
   "name": "snakemakepipeline"
  },
  "language_info": {
   "codemirror_mode": {
    "name": "ipython",
    "version": 3
   },
   "file_extension": ".py",
   "mimetype": "text/x-python",
   "name": "python",
   "nbconvert_exporter": "python",
   "pygments_lexer": "ipython3",
   "version": "3.8.5"
  }
 },
 "nbformat": 4,
 "nbformat_minor": 5
}
