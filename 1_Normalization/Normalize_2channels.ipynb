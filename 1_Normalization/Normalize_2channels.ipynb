{
 "cells": [
  {
   "cell_type": "markdown",
   "metadata": {},
   "source": [
    "# Create normalized 2 channel images (nucleus & membrane)"
   ]
  },
  {
   "cell_type": "markdown",
   "metadata": {},
   "source": [
    "#### This notebook normalized the deconvolved nuclear and membrane (B2M/CD298) channels to create a pseudo-colored image for segmentation and visualization. Code provided here normalized the images from patient P58 but analogous code is used for all pateints."
   ]
  },
  {
   "cell_type": "code",
   "execution_count": null,
   "metadata": {},
   "outputs": [],
   "source": [
    "import numpy as np\n",
    "import warnings\n",
    "import os\n",
    "import napari\n",
    "import tifffile\n",
    "import cv2 as cv\n",
    "import pandas as pd\n",
    "from pathlib import Path"
   ]
  },
  {
   "cell_type": "markdown",
   "metadata": {},
   "source": [
    "## PNG_Setting"
   ]
  },
  {
   "cell_type": "code",
   "execution_count": null,
   "metadata": {
    "pycharm": {
     "name": "#%%\n"
    }
   },
   "outputs": [],
   "source": [
    "# whether to generate PNG\n",
    "\n",
    "PNG_GENERATE = True"
   ]
  },
  {
   "cell_type": "markdown",
   "metadata": {},
   "source": [
    "## Define functions"
   ]
  },
  {
   "cell_type": "code",
   "execution_count": null,
   "metadata": {
    "pycharm": {
     "name": "#%%\n"
    }
   },
   "outputs": [],
   "source": [
    "# normalize image (to 16-bit)\n",
    "def image_normalization(image, img_min=0, img_max=65535):\n",
    "    image = np.float32(image)\n",
    "    epsilon = 1e-12\n",
    "    image = (image - np.min(image)) * (img_max - img_min) / ((np.max(image) - np.min(image)) + epsilon) + img_min\n",
    "    return np.uint16(image)\n",
    "\n",
    "# set-up napari viewer used to combine channels into single pseudo-colored image\n",
    "def set_viewer(unset_view, contrast_in = None, colormap=None):\n",
    "    if contrast_in is None:\n",
    "        contrast_in = [[0, 65535],[0, 65335]] # only retaining DAPI and CD298/B2M\n",
    "    if colormap is None:\n",
    "        colormap = ['green', 'blue'] # define colors to use for each channel\n",
    "    \n",
    "    # specify channel names\n",
    "    unset_view.layers['Image'].name = 'CD298'\n",
    "    unset_view.layers['Image [1]'].name = 'DAPI'\n",
    "\n",
    "    unset_view.layers['CD298'].contrast_limits = contrast_in[0]\n",
    "    unset_view.layers['DAPI'].contrast_limits = contrast_in[1]\n",
    "\n",
    "    unset_view.layers['CD298'].colormap = colormap[0]\n",
    "    unset_view.layers['DAPI'].colormap = colormap[1]"
   ]
  },
  {
   "cell_type": "code",
   "execution_count": null,
   "metadata": {},
   "outputs": [],
   "source": [
    "# list of all FOV name extensions for given patient\n",
    "fovs = ['01', '02', '03', '04', '05', '06', '07', '08', '09', '10', '11', '12', '13', '14', '15', '16', '17', '18', '19', '20', '21', '22', '23', '24', '25']"
   ]
  },
  {
   "cell_type": "markdown",
   "metadata": {},
   "source": [
    "## Input directory"
   ]
  },
  {
   "cell_type": "code",
   "execution_count": null,
   "metadata": {},
   "outputs": [],
   "source": [
    "# assign directory\n",
    "warnings.filterwarnings('ignore')\n",
    "default_dir = '/data/Zhaolab/1_AMLCosMx/Final_scripts/0_RawImages/15_94003_S3/'\n",
    "os.chdir(default_dir)\n",
    "cwd = os.getcwd()"
   ]
  },
  {
   "cell_type": "markdown",
   "metadata": {},
   "source": [
    "## Normalize by averaging raw and deconvolved DAPI channels"
   ]
  },
  {
   "cell_type": "code",
   "execution_count": null,
   "metadata": {
    "scrolled": true
   },
   "outputs": [],
   "source": [
    "# Read in deconvolved membrane channel, but for dapi channel, average raw/deconvolved files\n",
    "\n",
    "for i in range(len(fovs)):\n",
    "    \n",
    "    # Read dapi channel from raw files\n",
    "    \n",
    "    # define base filename\n",
    "    FileName = '20220215_094003_S3_C902_P99_N99_F0' + fovs[i]\n",
    "    \n",
    "    # read in z-stack of 9 slices, take average over all z's\n",
    "    z_slices = []\n",
    "\n",
    "    for j in range(9):\n",
    "\n",
    "        # read tif files\n",
    "        z = tifffile.imread(FileName + '_Z00' + str(j+1) + '.TIF')\n",
    "        z_slices.append(z)\n",
    "\n",
    "    all_z = np.stack(z_slices, axis=0)\n",
    "\n",
    "    # z-projection - take the average value of each z layer\n",
    "    img = np.sum(all_z, axis=0, dtype=int) / all_z.shape[0]\n",
    "    \n",
    "    # retain only DAPI\n",
    "    ch4_raw = img[4, :, :]\n",
    "\n",
    "    # Read CD298 & DAPI channel from deconvolved files\n",
    "    \n",
    "    ch0 = [];\n",
    "    ch4 = [];\n",
    "\n",
    "    for j in range(9):\n",
    "\n",
    "        # read deconvolved tif files\n",
    "        img0 = tifffile.imread('/data/Zhaolab/AML_OME_TIF_img/Huygens_Processed/P58_R1149_S3_decon/P58_R1149_S3/' + FileName + '.ome_cmle_z00' + str(j) + '_ch00.tif')\n",
    "        ch0.append(img0)\n",
    "        img4 = tifffile.imread('/data/Zhaolab/AML_OME_TIF_img/Huygens_Processed/P58_R1149_S3_decon/P58_R1149_S3/' + FileName + '.ome_cmle_z00' + str(j) + '_ch04.tif')\n",
    "        ch4.append(img4)\n",
    "\n",
    "    all_ch0 = np.stack(ch0, axis=0)\n",
    "    all_ch4 = np.stack(ch4, axis=0)\n",
    "\n",
    "    # z-projection - take the average value of each z layer\n",
    "    stack_ch0 = np.sum(all_ch0, axis=0, dtype=int) / all_ch0.shape[0]\n",
    "    stack_ch4 = np.sum(all_ch4, axis=0, dtype=int) / all_ch4.shape[0]\n",
    "    \n",
    "    # average raw and deconvolved dapi channels\n",
    "    combo_ch4 = np.stack([stack_ch4, ch4_raw], axis=0)\n",
    "    stack_ch4 = np.sum(combo_ch4, axis=0, dtype=int) / combo_ch4.shape[0]\n",
    "    \n",
    "    \n",
    "    # combine 2 channels in one matrix\n",
    "    img = np.stack((stack_ch0, stack_ch4), axis=0)\n",
    "    \n",
    "    \n",
    "    # find normalization cutoff pixel values for nuclear and membrane channels, normalizing from 5th to 99.9th percentile of pixel intensities\n",
    "    # for P51 FOV03, there was one very bright spot so upper percentile threshold was set to 99.99, not 99.9\n",
    "    membrane = img[0, :, :]\n",
    "    mem_low = np.percentile(membrane.flatten(), 5)\n",
    "    mem_high = np.percentile(membrane.flatten(), 99.9)\n",
    "    \n",
    "    nuclei = img[1, :, :]\n",
    "    nuc_low = np.percentile(nuclei.flatten(), 5)\n",
    "    nuc_high = np.percentile(nuclei.flatten(), 99.99)\n",
    "    \n",
    "    \n",
    "    # call set viewer function\n",
    "    viewer = napari.view_image(img, channel_axis=0, show=False)\n",
    "    set_viewer(viewer)\n",
    "    napari.run()\n",
    "    \n",
    "    # set contrast and color\n",
    "    contrast = [[mem_low, mem_high],\n",
    "            [nuc_low, nuc_high]]\n",
    "    color = [viewer.layers['CD298'].colormap,\n",
    "         viewer.layers['DAPI'].colormap]\n",
    "    num = 0\n",
    "    \n",
    "    img = img.astype('float64')\n",
    "\n",
    "    try:\n",
    "        del img\n",
    "    finally:\n",
    "        if PNG_GENERATE:\n",
    "            img_tif_raw = img\n",
    "            viewer_1 = napari.view_image(img_tif_raw, channel_axis=0, show=False)\n",
    "            set_viewer(viewer_1, contrast, color)\n",
    "            viewer_1.scale_bar.visible = True\n",
    "            viewer_1.scale_bar.unit = \"pixel(0.18 micron/pixel)\"\n",
    "            blended = np.zeros(viewer_1.layers[0].data.shape + (4,))\n",
    "            for layer in viewer_1.layers:\n",
    "                # normalize data by clims\n",
    "                layer.data[layer.data > layer.contrast_limits[1]] = layer.contrast_limits[1]\n",
    "                layer.data[layer.data < layer.contrast_limits[0]] = layer.contrast_limits[0]\n",
    "                normalized_data = (layer.data - layer.contrast_limits[0]) / (\n",
    "                        layer.contrast_limits[1] - layer.contrast_limits[0])\n",
    "                normalized_flatdata = normalized_data.flatten()\n",
    "                normalized_flatdata[normalized_flatdata < 0] = 0\n",
    "                colormapped_data = layer.colormap.map(normalized_flatdata)\n",
    "                colormapped_data = colormapped_data.reshape(normalized_data.shape + (4,))\n",
    "                blended = blended + colormapped_data\n",
    "            blended[..., 3] = 1  # set alpha channel to 1\n",
    "            img_png = image_normalization(blended)\n",
    "            img_png = img_png[:, :, (2, 1, 0)]\n",
    "            cv.imwrite('/data/Zhaolab/1_AMLCosMx/Final_scripts/1_Normalization/0_NormalizedImg/P58_R1149_S3_Normalized/' + FileName + '_normalized.png', img_png, [cv.IMWRITE_PNG_COMPRESSION, 0])\n",
    "\n",
    "        num = num + 1\n",
    "        del img_png, blended, viewer_1\n",
    "    "
   ]
  }
 ],
 "metadata": {
  "kernelspec": {
   "display_name": "snakemakePipeline",
   "language": "python",
   "name": "snakemakepipeline"
  },
  "language_info": {
   "codemirror_mode": {
    "name": "ipython",
    "version": 3
   },
   "file_extension": ".py",
   "mimetype": "text/x-python",
   "name": "python",
   "nbconvert_exporter": "python",
   "pygments_lexer": "ipython3",
   "version": "3.8.5"
  }
 },
 "nbformat": 4,
 "nbformat_minor": 1
}
