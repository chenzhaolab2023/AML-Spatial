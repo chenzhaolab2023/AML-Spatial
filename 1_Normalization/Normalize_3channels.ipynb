{
 "cells": [
  {
   "cell_type": "markdown",
   "metadata": {},
   "source": [
    "# Create normalized 3 channel images (nucleus, membrane, & CD34)"
   ]
  },
  {
   "cell_type": "markdown",
   "metadata": {},
   "source": [
    "#### This notebook normalized the deconvolved nuclear, membrane (B2M/CD298), and CD34 channels to create a pseudo-colored image for segmentation and visualization. Code provided here normalized the images from patient P56 but analogous code is used for all pateints."
   ]
  },
  {
   "cell_type": "code",
   "execution_count": 1,
   "metadata": {},
   "outputs": [],
   "source": [
    "import numpy as np\n",
    "import warnings\n",
    "import os\n",
    "import napari\n",
    "import tifffile\n",
    "import cv2 as cv\n",
    "import pandas as pd\n",
    "from pathlib import Path"
   ]
  },
  {
   "cell_type": "markdown",
   "metadata": {},
   "source": [
    "## PNG_Setting"
   ]
  },
  {
   "cell_type": "code",
   "execution_count": 2,
   "metadata": {
    "pycharm": {
     "name": "#%%\n"
    }
   },
   "outputs": [],
   "source": [
    "# whether to generate PNG\n",
    "\n",
    "PNG_GENERATE = True"
   ]
  },
  {
   "cell_type": "markdown",
   "metadata": {},
   "source": [
    "## Def list"
   ]
  },
  {
   "cell_type": "code",
   "execution_count": 3,
   "metadata": {
    "pycharm": {
     "name": "#%%\n"
    }
   },
   "outputs": [],
   "source": [
    "# normalize image (to 16-bit)\n",
    "def image_normalization(image, img_min=0, img_max=65535):\n",
    "    image = np.float32(image)\n",
    "    epsilon = 1e-12\n",
    "    image = (image - np.min(image)) * (img_max - img_min) / ((np.max(image) - np.min(image)) + epsilon) + img_min\n",
    "    return np.uint16(image)\n",
    "\n",
    "# set-up napari viewer used to combine channels into single pseudo-colored image   \n",
    "def set_viewer(unset_view, contrast_in = None, colormap=None):\n",
    "    if contrast_in is None:\n",
    "        contrast_in = [[0, 65535],[0, 65535],[0, 65535]] # only retaining DAPI, CD298/B2M, and CD34\n",
    "    if colormap is None:\n",
    "        colormap = ['green','magenta','blue'] # define colors to use for each channel\n",
    "        \n",
    "    unset_view.layers['Image'].name = 'CD298'\n",
    "    unset_view.layers['Image [1]'].name = 'CD34'\n",
    "    unset_view.layers['Image [2]'].name = 'DAPI'\n",
    "\n",
    "    unset_view.layers['CD298'].contrast_limits = contrast_in[0]\n",
    "    unset_view.layers['CD34'].contrast_limits = contrast_in[1]\n",
    "    unset_view.layers['DAPI'].contrast_limits = contrast_in[2]\n",
    "\n",
    "    unset_view.layers['CD298'].colormap = colormap[0]\n",
    "    unset_view.layers['CD34'].colormap = colormap[1]\n",
    "    unset_view.layers['DAPI'].colormap = colormap[2]"
   ]
  },
  {
   "cell_type": "code",
   "execution_count": 4,
   "metadata": {},
   "outputs": [],
   "source": [
    "# list of all FOV name extensions for given patient\n",
    "fovs = ['01', '02', '03', '04', '05', '06', '07', '08', '09', '10', '11', '12', '13', '14', '15', '16', '17', '18', '19', '20', '21', '22', '23', '24', '25']"
   ]
  },
  {
   "cell_type": "markdown",
   "metadata": {},
   "source": [
    "## Input directory"
   ]
  },
  {
   "cell_type": "code",
   "execution_count": 5,
   "metadata": {},
   "outputs": [],
   "source": [
    "# assign directory\n",
    "warnings.filterwarnings('ignore')\n",
    "default_dir = '/data/Zhaolab/1_AMLCosMx/Final_scripts/0_RawImages/28_110038_S2/'\n",
    "os.chdir(default_dir)\n",
    "cwd = os.getcwd()"
   ]
  },
  {
   "cell_type": "markdown",
   "metadata": {},
   "source": [
    "## Output 3 channel png"
   ]
  },
  {
   "cell_type": "code",
   "execution_count": 7,
   "metadata": {},
   "outputs": [
    {
     "name": "stderr",
     "output_type": "stream",
     "text": [
      "WARNING: QStandardPaths: XDG_RUNTIME_DIR not set, defaulting to '/tmp/runtime-annemb'\n"
     ]
    }
   ],
   "source": [
    "# Read in deconvolved membrane, CD34, and dapi channels\n",
    "\n",
    "for i in range(len(fovs)):\n",
    "    \n",
    "    # define base filename\n",
    "    FileName = '20220228_110038_S2_C902_P99_N99_F0' + fovs[i]\n",
    "\n",
    "    # Read all deconvolved channels\n",
    "    \n",
    "    ch0 = [];\n",
    "    ch1 = [];\n",
    "    ch2 = [];\n",
    "\n",
    "    # read in each z-slice for 3 channels of interest\n",
    "    for j in range(9):\n",
    "\n",
    "        # read tif files\n",
    "        img0 = tifffile.imread(FileName + '.ome_cmle_z00' + str(j) + '_ch00.tif')\n",
    "        ch0.append(img0)\n",
    "        img1 = tifffile.imread(FileName + '.ome_cmle_z00' + str(j) + '_ch03.tif')\n",
    "        ch1.append(img1)\n",
    "        img2 = tifffile.imread(FileName + '.ome_cmle_z00' + str(j) + '_ch04.tif')\n",
    "        ch2.append(img2)\n",
    "\n",
    "    # make z-stack for each channel\n",
    "    all_ch0 = np.stack(ch0, axis=0)\n",
    "    all_ch1 = np.stack(ch1, axis=0)\n",
    "    all_ch2 = np.stack(ch2, axis=0)\n",
    "\n",
    "\n",
    "    # z-projection - take the average value of each z layer\n",
    "    stack_ch0 = np.sum(all_ch0, axis=0, dtype=int) / all_ch0.shape[0]\n",
    "    stack_ch1 = np.sum(all_ch1, axis=0, dtype=int) / all_ch1.shape[0]\n",
    "    stack_ch2 = np.sum(all_ch2, axis=0, dtype=int) / all_ch2.shape[0]\n",
    "\n",
    "    \n",
    "    # combine all channels in one matrix\n",
    "    img = np.stack((stack_ch0, stack_ch1, stack_ch2), axis=0)\n",
    "    \n",
    "    # find normalization cutoff pixel values for nuclear, membrane, and CD34 channels\n",
    "    CD298 = img[0, :, :]\n",
    "    CD298_low = np.percentile(CD298.flatten(), 5)\n",
    "    CD298_high = np.percentile(CD298.flatten(), 99.99)\n",
    "    \n",
    "    CD34 = img[1, :, :]\n",
    "    CD34_low = np.percentile(CD34.flatten(), 5)\n",
    "    CD34_high = np.percentile(CD34.flatten(), 99.99)\n",
    "    \n",
    "    nuclei = img[2, :, :]\n",
    "    nuc_low = np.percentile(nuclei.flatten(), 5)\n",
    "    nuc_high = np.percentile(nuclei.flatten(), 99.99)\n",
    "\n",
    "    \n",
    "    \n",
    "    # call set viewer function\n",
    "    viewer = napari.view_image(img, channel_axis=0, show=False)\n",
    "    set_viewer(viewer)\n",
    "    napari.run()\n",
    "    \n",
    "    # set contrast and color\n",
    "    contrast = [[CD298_low, CD298_high], [CD34_low, CD34_high], [nuc_low, nuc_high]]\n",
    "    color = [viewer.layers['CD298'].colormap, viewer.layers['CD34'].colormap, viewer.layers['DAPI'].colormap]\n",
    "    num = 0\n",
    "    \n",
    "    img = img.astype('float64')\n",
    "    \n",
    "    try:\n",
    "        del img\n",
    "    finally:\n",
    "        if PNG_GENERATE:\n",
    "            img_tif_raw = img\n",
    "            viewer_1 = napari.view_image(img_tif_raw, channel_axis=0, show=False)\n",
    "            set_viewer(viewer_1, contrast, color)\n",
    "            viewer_1.scale_bar.visible = True\n",
    "            viewer_1.scale_bar.unit = \"pixel(0.18 micron/pixel)\"\n",
    "            blended = np.zeros(viewer_1.layers[0].data.shape + (4,))\n",
    "            for layer in viewer_1.layers:\n",
    "                # normalize data by clims\n",
    "                layer.data[layer.data > layer.contrast_limits[1]] = layer.contrast_limits[1]\n",
    "                layer.data[layer.data < layer.contrast_limits[0]] = layer.contrast_limits[0]\n",
    "                normalized_data = (layer.data - layer.contrast_limits[0]) / (\n",
    "                        layer.contrast_limits[1] - layer.contrast_limits[0])\n",
    "                normalized_flatdata = normalized_data.flatten()\n",
    "                normalized_flatdata[normalized_flatdata < 0] = 0\n",
    "                colormapped_data = layer.colormap.map(normalized_flatdata)\n",
    "                colormapped_data = colormapped_data.reshape(normalized_data.shape + (4,))\n",
    "                blended = blended + colormapped_data\n",
    "            blended[..., 3] = 1  # set alpha channel to 1\n",
    "            img_png = image_normalization(blended)\n",
    "            img_png = img_png[:, :, (2, 1, 0)]            \n",
    "            cv.imwrite('/data/Zhaolab/1_AMLCosMx/Final_scripts/1_Normalization/0_NormalizedImg/P56_R1158_S2_Normalized_DAPI_B2M_CD34/' + FileName + '_normalized.png', img_png, [cv.IMWRITE_PNG_COMPRESSION, 0])\n",
    "\n",
    "        num = num + 1\n",
    "        del img_png, blended, viewer_1\n",
    "    "
   ]
  },
  {
   "cell_type": "code",
   "execution_count": null,
   "metadata": {},
   "outputs": [],
   "source": []
  }
 ],
 "metadata": {
  "kernelspec": {
   "display_name": "snakemakePipeline",
   "language": "python",
   "name": "snakemakepipeline"
  },
  "language_info": {
   "codemirror_mode": {
    "name": "ipython",
    "version": 3
   },
   "file_extension": ".py",
   "mimetype": "text/x-python",
   "name": "python",
   "nbconvert_exporter": "python",
   "pygments_lexer": "ipython3",
   "version": "3.8.5"
  }
 },
 "nbformat": 4,
 "nbformat_minor": 1
}
