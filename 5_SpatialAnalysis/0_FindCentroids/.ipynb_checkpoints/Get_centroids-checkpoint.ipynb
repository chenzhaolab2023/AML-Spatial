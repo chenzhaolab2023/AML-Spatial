{
 "cells": [
  {
   "cell_type": "markdown",
   "id": "5a492d1f",
   "metadata": {},
   "source": [
    "# Find centroids of each cell"
   ]
  },
  {
   "cell_type": "markdown",
   "id": "73744b5a",
   "metadata": {},
   "source": [
    "This notebook finds the local x, y coordinates of each cell's centroid within its FOV (one patient at a time)."
   ]
  },
  {
   "cell_type": "code",
   "execution_count": 1,
   "id": "cd2506ea",
   "metadata": {},
   "outputs": [],
   "source": [
    "import json\n",
    "import numpy as np\n",
    "from PIL import  Image\n",
    "import io\n",
    "import base64\n",
    "import zlib\n",
    "import cv2\n",
    "from string import Template\n",
    "import glob\n",
    "import os\n",
    "import tifffile\n",
    "import math\n",
    "from skimage import data, util, measure\n",
    "import pandas as pd\n",
    "from os import listdir\n",
    "from os.path import isfile, join\n",
    "from matplotlib import pyplot as plt"
   ]
  },
  {
   "cell_type": "markdown",
   "id": "ea91ac0b",
   "metadata": {},
   "source": [
    "## P51 centroids"
   ]
  },
  {
   "cell_type": "code",
   "execution_count": 2,
   "id": "c956d200",
   "metadata": {},
   "outputs": [],
   "source": [
    "mask_dir = '/data/Zhaolab/1_AMLCosMx/Final_scripts/2_Segmentation/3_NucMemMerging/P51_hybrid/labels_predicted_2_15_24/'\n",
    "location_dir = mask_dir + 'cell_centroids/'\n",
    "\n",
    "masks = [f for f in listdir(mask_dir) if isfile(join(mask_dir, f))]\n",
    "masks.sort()"
   ]
  },
  {
   "cell_type": "code",
   "execution_count": 3,
   "id": "949b88f5",
   "metadata": {},
   "outputs": [],
   "source": [
    "for i in range(len(masks)):\n",
    "\n",
    "    name = masks[i].replace('_normalized_cp_masks.tif', '')\n",
    "    fov = int(name[-2:])\n",
    "    # Read image and mask\n",
    "    mask = tifffile.imread(mask_dir + masks[i])\n",
    "\n",
    "    # Find centroids of each cell\n",
    "    label_image = mask.astype(int)\n",
    "    props = measure.regionprops_table(label_image,\n",
    "                               properties=['label', 'centroid'])\n",
    "    data = pd.DataFrame(props)\n",
    "    data = data.rename(columns={\"centroid-0\": \"y\", \"centroid-1\": \"x\"})\n",
    "    data['FOV'] = fov\n",
    "    data['ID'] = data['FOV'].astype(str) + '_' + data['label'].astype(str)\n",
    "\n",
    "    data.to_csv(location_dir + name + '_xy.csv')"
   ]
  },
  {
   "cell_type": "markdown",
   "id": "dea26ab7",
   "metadata": {},
   "source": [
    "## P52 centroids"
   ]
  },
  {
   "cell_type": "code",
   "execution_count": 4,
   "id": "70e59f3a",
   "metadata": {},
   "outputs": [],
   "source": [
    "mask_dir = '/data/Zhaolab/1_AMLCosMx/Final_scripts/2_Segmentation/3_NucMemMerging/P52_hybrid/labels_predicted_2_15_24/'\n",
    "location_dir = mask_dir + 'cell_centroids/'\n",
    "\n",
    "masks = [f for f in listdir(mask_dir) if isfile(join(mask_dir, f))]\n",
    "masks.sort()"
   ]
  },
  {
   "cell_type": "code",
   "execution_count": 5,
   "id": "c0f038c3",
   "metadata": {},
   "outputs": [],
   "source": [
    "for i in range(len(masks)):\n",
    "\n",
    "    name = masks[i].replace('_normalized_cp_masks.tif', '')\n",
    "    fov = int(name[-2:])\n",
    "    # Read image and mask\n",
    "    mask = tifffile.imread(mask_dir + masks[i])\n",
    "\n",
    "    # Find centroids of each cell\n",
    "    label_image = mask.astype(int)\n",
    "    props = measure.regionprops_table(label_image,\n",
    "                               properties=['label', 'centroid'])\n",
    "    data = pd.DataFrame(props)\n",
    "    data = data.rename(columns={\"centroid-0\": \"y\", \"centroid-1\": \"x\"})\n",
    "    data['FOV'] = fov\n",
    "    data['ID'] = data['FOV'].astype(str) + '_' + data['label'].astype(str)\n",
    "\n",
    "    data.to_csv(location_dir + name + '_xy.csv')"
   ]
  },
  {
   "cell_type": "markdown",
   "id": "6cce1ea4",
   "metadata": {},
   "source": [
    "## P53 centroids"
   ]
  },
  {
   "cell_type": "code",
   "execution_count": 6,
   "id": "47971ee6",
   "metadata": {},
   "outputs": [],
   "source": [
    "mask_dir = '/data/Zhaolab/1_AMLCosMx/Final_scripts/2_Segmentation/3_NucMemMerging/P53_hybrid/labels_predicted_2_15_24/'\n",
    "location_dir = mask_dir + 'cell_centroids/'\n",
    "\n",
    "masks = [f for f in listdir(mask_dir) if isfile(join(mask_dir, f))]\n",
    "masks.sort()"
   ]
  },
  {
   "cell_type": "code",
   "execution_count": 7,
   "id": "2a5934b8",
   "metadata": {},
   "outputs": [],
   "source": [
    "for i in range(len(masks)):\n",
    "\n",
    "    name = masks[i].replace('_normalized_cp_masks.tif', '')\n",
    "    fov = int(name[-2:])\n",
    "    # Read image and mask\n",
    "    mask = tifffile.imread(mask_dir + masks[i])\n",
    "\n",
    "    # Find centroids of each cell\n",
    "    label_image = mask.astype(int)\n",
    "    props = measure.regionprops_table(label_image,\n",
    "                               properties=['label', 'centroid'])\n",
    "    data = pd.DataFrame(props)\n",
    "    data = data.rename(columns={\"centroid-0\": \"y\", \"centroid-1\": \"x\"})\n",
    "    data['FOV'] = fov\n",
    "    data['ID'] = data['FOV'].astype(str) + '_' + data['label'].astype(str)\n",
    "\n",
    "    data.to_csv(location_dir + name + '_xy.csv')"
   ]
  },
  {
   "cell_type": "markdown",
   "id": "b17f03ad",
   "metadata": {},
   "source": [
    "## P56 centroids"
   ]
  },
  {
   "cell_type": "code",
   "execution_count": 8,
   "id": "b37121c9",
   "metadata": {},
   "outputs": [],
   "source": [
    "mask_dir = '/data/Zhaolab/1_AMLCosMx/Final_scripts/2_Segmentation/3_NucMemMerging/P56_hybrid/labels_predicted_2_15_24/'\n",
    "location_dir = mask_dir + 'cell_centroids/'\n",
    "\n",
    "masks = [f for f in listdir(mask_dir) if isfile(join(mask_dir, f))]\n",
    "masks.sort()"
   ]
  },
  {
   "cell_type": "code",
   "execution_count": 9,
   "id": "f4f78032",
   "metadata": {},
   "outputs": [],
   "source": [
    "for i in range(len(masks)):\n",
    "\n",
    "    name = masks[i].replace('_normalized_cp_masks.tif', '')\n",
    "    fov = int(name[-2:])\n",
    "    # Read image and mask\n",
    "    mask = tifffile.imread(mask_dir + masks[i])\n",
    "\n",
    "    # Find centroids of each cell\n",
    "    label_image = mask.astype(int)\n",
    "    props = measure.regionprops_table(label_image,\n",
    "                               properties=['label', 'centroid'])\n",
    "    data = pd.DataFrame(props)\n",
    "    data = data.rename(columns={\"centroid-0\": \"y\", \"centroid-1\": \"x\"})\n",
    "    data['FOV'] = fov\n",
    "    data['ID'] = data['FOV'].astype(str) + '_' + data['label'].astype(str)\n",
    "\n",
    "    data.to_csv(location_dir + name + '_xy.csv')"
   ]
  },
  {
   "cell_type": "markdown",
   "id": "0f6eb329",
   "metadata": {},
   "source": [
    "## P57 centroids"
   ]
  },
  {
   "cell_type": "code",
   "execution_count": 10,
   "id": "939f6e5e",
   "metadata": {},
   "outputs": [],
   "source": [
    "mask_dir = '/data/Zhaolab/1_AMLCosMx/Final_scripts/2_Segmentation/3_NucMemMerging/P57_hybrid/labels_predicted_2_15_24/'\n",
    "location_dir = mask_dir + 'cell_centroids/'\n",
    "\n",
    "masks = [f for f in listdir(mask_dir) if isfile(join(mask_dir, f))]\n",
    "masks.sort()"
   ]
  },
  {
   "cell_type": "code",
   "execution_count": 11,
   "id": "745cb449",
   "metadata": {},
   "outputs": [],
   "source": [
    "for i in range(len(masks)):\n",
    "\n",
    "    name = masks[i].replace('_normalized_cp_masks.tif', '')\n",
    "    fov = int(name[-2:])\n",
    "    # Read image and mask\n",
    "    mask = tifffile.imread(mask_dir + masks[i])\n",
    "\n",
    "    # Find centroids of each cell\n",
    "    label_image = mask.astype(int)\n",
    "    props = measure.regionprops_table(label_image,\n",
    "                               properties=['label', 'centroid'])\n",
    "    data = pd.DataFrame(props)\n",
    "    data = data.rename(columns={\"centroid-0\": \"y\", \"centroid-1\": \"x\"})\n",
    "    data['FOV'] = fov\n",
    "    data['ID'] = data['FOV'].astype(str) + '_' + data['label'].astype(str)\n",
    "\n",
    "    data.to_csv(location_dir + name + '_xy.csv')"
   ]
  },
  {
   "cell_type": "markdown",
   "id": "e9439a54",
   "metadata": {},
   "source": [
    "## P58 centroids"
   ]
  },
  {
   "cell_type": "code",
   "execution_count": 12,
   "id": "2f62f434",
   "metadata": {},
   "outputs": [],
   "source": [
    "mask_dir = '/data/Zhaolab/1_AMLCosMx/Final_scripts/2_Segmentation/3_NucMemMerging/P58_hybrid/labels_predicted_2_15_24/'\n",
    "location_dir = mask_dir + 'cell_centroids/'\n",
    "\n",
    "masks = [f for f in listdir(mask_dir) if isfile(join(mask_dir, f))]\n",
    "masks.sort()"
   ]
  },
  {
   "cell_type": "code",
   "execution_count": 13,
   "id": "afc79f01",
   "metadata": {},
   "outputs": [],
   "source": [
    "for i in range(len(masks)):\n",
    "\n",
    "    name = masks[i].replace('_normalized_cp_masks.tif', '')\n",
    "    fov = int(name[-2:])\n",
    "    # Read image and mask\n",
    "    mask = tifffile.imread(mask_dir + masks[i])\n",
    "\n",
    "    # Find centroids of each cell\n",
    "    label_image = mask.astype(int)\n",
    "    props = measure.regionprops_table(label_image,\n",
    "                               properties=['label', 'centroid'])\n",
    "    data = pd.DataFrame(props)\n",
    "    data = data.rename(columns={\"centroid-0\": \"y\", \"centroid-1\": \"x\"})\n",
    "    data['FOV'] = fov\n",
    "    data['ID'] = data['FOV'].astype(str) + '_' + data['label'].astype(str)\n",
    "\n",
    "    data.to_csv(location_dir + name + '_xy.csv')"
   ]
  },
  {
   "cell_type": "code",
   "execution_count": null,
   "id": "742142a6",
   "metadata": {},
   "outputs": [],
   "source": []
  }
 ],
 "metadata": {
  "kernelspec": {
   "display_name": "snakemakePipeline",
   "language": "python",
   "name": "snakemakepipeline"
  },
  "language_info": {
   "codemirror_mode": {
    "name": "ipython",
    "version": 3
   },
   "file_extension": ".py",
   "mimetype": "text/x-python",
   "name": "python",
   "nbconvert_exporter": "python",
   "pygments_lexer": "ipython3",
   "version": "3.8.5"
  }
 },
 "nbformat": 4,
 "nbformat_minor": 5
}
