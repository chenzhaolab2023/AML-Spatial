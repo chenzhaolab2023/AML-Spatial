{
 "cells": [
  {
   "cell_type": "markdown",
   "id": "c2b127c3",
   "metadata": {},
   "source": [
    "# Merge nuclear and membrane segmentation (P51)"
   ]
  },
  {
   "cell_type": "markdown",
   "id": "c16d48e8",
   "metadata": {},
   "source": [
    "#### This notebook merges the results of nuclear and membrane segmentation in each FOV from P51, generating 1 ID for each cell."
   ]
  },
  {
   "cell_type": "markdown",
   "id": "8489a1ed",
   "metadata": {},
   "source": [
    "### Import Libraries"
   ]
  },
  {
   "cell_type": "code",
   "execution_count": 1,
   "id": "80ba5b95",
   "metadata": {},
   "outputs": [],
   "source": [
    "from os import listdir\n",
    "from os.path import isfile, join\n",
    "import cv2\n",
    "import tifffile\n",
    "import numpy as np\n",
    "from skimage.segmentation import expand_labels"
   ]
  },
  {
   "cell_type": "code",
   "execution_count": 2,
   "id": "df303772",
   "metadata": {},
   "outputs": [],
   "source": [
    "def get_iou(inference, gt):\n",
    "    \"\"\"\n",
    "    Retruns a 2D float for intersection of union ratio between ground truth and inference labels.\n",
    "    \n",
    "    Arguements:\n",
    "        inference: 2D numpy array (uint16)\n",
    "            The inference lables\n",
    "        \n",
    "        gt: 2D numpy array (uint16)\n",
    "            The ground truth labels\n",
    "            \n",
    "    Returns: 2D numpy (float)\n",
    "        The intersection of union ratio between all pairs of inference and ground truth labels.\n",
    "    \"\"\"\n",
    "    true_objects = np.unique(gt)\n",
    "    pred_objects = np.unique(inference)\n",
    "    print(\"ground truth nuclei:\", len(true_objects)-1)\n",
    "    print(\"Inference nuclei:\", len(pred_objects)-1)\n",
    "    true_bins = np.append(true_objects, true_objects[-1] + 1)\n",
    "    pred_bins = np.append(pred_objects, pred_objects[-1] + 1)\n",
    "    intersection, xedges, yedges = np.histogram2d(gt.flatten(), inference.flatten(), bins=(true_bins, pred_bins))\n",
    "    area_true = np.histogram(gt, bins = true_bins)[0]\n",
    "    area_pred = np.histogram(inference, bins = pred_bins)[0]\n",
    "    area_true = np.expand_dims(area_true, -1)\n",
    "    area_pred = np.expand_dims(area_pred, 0)\n",
    "    union = area_true + area_pred - intersection\n",
    "    intersection = intersection[1:,1:]\n",
    "    union = union[1:,1:]\n",
    "    union[union == 0] = 1e-9\n",
    "    iou = intersection / union\n",
    "    return iou"
   ]
  },
  {
   "cell_type": "markdown",
   "id": "502091d1",
   "metadata": {},
   "source": [
    "### Load membrane masks"
   ]
  },
  {
   "cell_type": "code",
   "execution_count": 7,
   "id": "f3d5bca4",
   "metadata": {},
   "outputs": [],
   "source": [
    "mem_mask_dir = '/data/Zhaolab/1_AMLCosMx/Final_scripts/2_Segmentation/1_MembraneSegmentation/P51_v7_output_membrane/prediction_model_1_11_23/'\n",
    "files_mem = [f for f in listdir(mem_mask_dir) if isfile(join(mem_mask_dir, f))]\n",
    "files_mem.sort()"
   ]
  },
  {
   "cell_type": "markdown",
   "id": "beb59097",
   "metadata": {},
   "source": [
    "### Load nuclear masks"
   ]
  },
  {
   "cell_type": "code",
   "execution_count": 8,
   "id": "1538dc66",
   "metadata": {},
   "outputs": [],
   "source": [
    "nuc_mask_dir = '/data/Zhaolab/1_AMLCosMx/Final_scripts/2_Segmentation/0_NuclearSegmentation/P51_v7_output/labels_predicted/'\n",
    "files_nuc = [f for f in listdir(nuc_mask_dir) if isfile(join(nuc_mask_dir, f))]\n",
    "files_nuc.sort()"
   ]
  },
  {
   "cell_type": "markdown",
   "id": "332c124f",
   "metadata": {},
   "source": [
    "### Define output location"
   ]
  },
  {
   "cell_type": "code",
   "execution_count": 9,
   "id": "cdbb1d93",
   "metadata": {},
   "outputs": [],
   "source": [
    "hybrid_dir = '/data/Zhaolab/1_AMLCosMx/Final_scripts/2_Segmentation/3_NucMemMerging/P51_hybrid/labels_predicted_2_15_24/'"
   ]
  },
  {
   "cell_type": "markdown",
   "id": "30ba2ee6",
   "metadata": {},
   "source": [
    "### Merge mask files"
   ]
  },
  {
   "cell_type": "code",
   "execution_count": 10,
   "id": "06e153ba",
   "metadata": {
    "scrolled": true
   },
   "outputs": [
    {
     "name": "stdout",
     "output_type": "stream",
     "text": [
      "ground truth nuclei: 2272\n",
      "Inference nuclei: 1271\n",
      "ground truth nuclei: 2778\n",
      "Inference nuclei: 1510\n",
      "ground truth nuclei: 1428\n",
      "Inference nuclei: 814\n",
      "ground truth nuclei: 1959\n",
      "Inference nuclei: 1096\n",
      "ground truth nuclei: 2742\n",
      "Inference nuclei: 1723\n",
      "ground truth nuclei: 2881\n",
      "Inference nuclei: 1240\n",
      "ground truth nuclei: 1267\n",
      "Inference nuclei: 1115\n",
      "ground truth nuclei: 3615\n",
      "Inference nuclei: 2335\n",
      "ground truth nuclei: 2528\n",
      "Inference nuclei: 2209\n",
      "ground truth nuclei: 3971\n",
      "Inference nuclei: 2968\n",
      "ground truth nuclei: 4313\n",
      "Inference nuclei: 2436\n",
      "ground truth nuclei: 2240\n",
      "Inference nuclei: 2023\n",
      "ground truth nuclei: 3705\n",
      "Inference nuclei: 2624\n",
      "ground truth nuclei: 3050\n",
      "Inference nuclei: 2219\n",
      "ground truth nuclei: 3110\n",
      "Inference nuclei: 2493\n",
      "ground truth nuclei: 4097\n",
      "Inference nuclei: 3577\n",
      "ground truth nuclei: 3893\n",
      "Inference nuclei: 3200\n",
      "ground truth nuclei: 4061\n",
      "Inference nuclei: 2517\n",
      "ground truth nuclei: 4171\n",
      "Inference nuclei: 3302\n",
      "ground truth nuclei: 3835\n",
      "Inference nuclei: 3066\n",
      "ground truth nuclei: 2889\n",
      "Inference nuclei: 2543\n",
      "ground truth nuclei: 3668\n",
      "Inference nuclei: 3087\n"
     ]
    }
   ],
   "source": [
    "for mem_label in files_mem:\n",
    "    \n",
    "    # read in membrane file\n",
    "    mem = cv2.imread(mem_mask_dir + mem_label, 2)\n",
    "    mem = mem.astype('uint16')\n",
    "    \n",
    "    # read in corresponding nuclear file\n",
    "    for nuc_label in files_nuc:\n",
    "        if mem_label == nuc_label:\n",
    "            nuc = cv2.imread(nuc_mask_dir + nuc_label, 2)\n",
    "            nuc = nuc.astype('uint16')\n",
    "            break\n",
    "    \n",
    "    # make nucelar ids unique from membrane ids\n",
    "    nuc[nuc>0] = nuc[nuc>0] + mem.max()\n",
    "    \n",
    "    # find iou of each membrane/nucleus combination\n",
    "    iou = get_iou(mem, nuc)\n",
    "    \n",
    "    nuc_overlay = np.copy(nuc)\n",
    "    mem_overlay = np.copy(mem)\n",
    "    \n",
    "    # create vector of nuclear ids\n",
    "    nuc_ids = np.unique(nuc)\n",
    "    nuc_ids = np.delete(nuc_ids, 0)\n",
    "    \n",
    "    # create vector of membrane ids\n",
    "    mem_ids = np.unique(mem)\n",
    "    mem_ids = np.delete(mem_ids, 0)\n",
    "\n",
    "    # for each nucleus overlapping more than 10% with a membrane, assign the nucleus the id of that nucleus\n",
    "    for i in range(iou.shape[0]):\n",
    "        for j in range(iou.shape[1]):\n",
    "            if iou[i,j] > 0.1:\n",
    "                nuc_overlay[nuc_overlay == nuc_ids[i]] = mem_ids[j]\n",
    "    \n",
    "    # create array of nuclear masks that don't overlap with membrane masks, perform nuclear expansion\n",
    "    nuc_only = np.copy(nuc_overlay)\n",
    "    nuc_only[nuc_only <= mem.max()] = 0\n",
    "    nuc_only[mem_overlay > 0] = 0\n",
    "    \n",
    "    nuc_only = expand_labels(nuc_only, distance=5) # expand labels\n",
    "    \n",
    "    # create array of only nuclear masks that DO overlap with membrane masks\n",
    "    nuc_overlap = np.copy(nuc_overlay)\n",
    "    nuc_overlap[nuc_only > 0] = 0\n",
    "    nuc_overlap[mem_overlay > 0] = 0\n",
    "    \n",
    "    # create array of membrane masks, subtracting areas of intersection with overlapping nuclei and areas of lone nuclei    \n",
    "    mem_only = np.copy(mem_overlay)\n",
    "    mem_only[nuc_overlap > 0] = 0\n",
    "    mem_only[nuc_only > 0] = 0\n",
    "    \n",
    "    # sum above three arrays to create final output\n",
    "    output = np.sum([nuc_only, mem_only, nuc_overlap], axis=0)\n",
    "    \n",
    "    tifffile.imwrite(hybrid_dir + mem_label, output.astype('uint16'), photometric='minisblack')"
   ]
  },
  {
   "cell_type": "code",
   "execution_count": null,
   "id": "f10fe810",
   "metadata": {},
   "outputs": [],
   "source": []
  }
 ],
 "metadata": {
  "kernelspec": {
   "display_name": "snakemakePipeline",
   "language": "python",
   "name": "snakemakepipeline"
  },
  "language_info": {
   "codemirror_mode": {
    "name": "ipython",
    "version": 3
   },
   "file_extension": ".py",
   "mimetype": "text/x-python",
   "name": "python",
   "nbconvert_exporter": "python",
   "pygments_lexer": "ipython3",
   "version": "3.8.5"
  }
 },
 "nbformat": 4,
 "nbformat_minor": 5
}
